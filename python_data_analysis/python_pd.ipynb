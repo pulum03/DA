{
 "cells": [
  {
   "cell_type": "code",
   "execution_count": 3,
   "metadata": {},
   "outputs": [
    {
     "name": "stdout",
     "output_type": "stream",
     "text": [
      "0    Tigers\n",
      "1     Bears\n",
      "2     Moose\n",
      "dtype: object\n"
     ]
    }
   ],
   "source": [
    "    import pandas as pd\n",
    "\n",
    "animals = ['Tigers', 'Bears', 'Moose']\n",
    "p = pd.Series(animals) # 자동적으로 각 데이터 인덱싱\n",
    "print(p)"
   ]
  },
  {
   "cell_type": "code",
   "execution_count": 5,
   "metadata": {},
   "outputs": [
    {
     "name": "stdout",
     "output_type": "stream",
     "text": [
      "0    1\n",
      "1    2\n",
      "2    3\n",
      "dtype: int64\n"
     ]
    }
   ],
   "source": [
    "numbers = [1,2,3]\n",
    "nums =pd.Series(numbers)\n",
    "print(nums)"
   ]
  },
  {
   "cell_type": "code",
   "execution_count": 7,
   "metadata": {},
   "outputs": [
    {
     "name": "stdout",
     "output_type": "stream",
     "text": [
      "0    Tigers\n",
      "1     Bears\n",
      "2      None\n",
      "dtype: object\n"
     ]
    }
   ],
   "source": [
    "animals = ['Tigers', 'Bears', None]\n",
    "p =pd.Series(animals)\n",
    "print(p)"
   ]
  },
  {
   "cell_type": "code",
   "execution_count": 8,
   "metadata": {},
   "outputs": [],
   "source": [
    "import numpy as np"
   ]
  },
  {
   "cell_type": "code",
   "execution_count": 10,
   "metadata": {},
   "outputs": [
    {
     "name": "stdout",
     "output_type": "stream",
     "text": [
      "False\n",
      "False\n",
      "True\n"
     ]
    }
   ],
   "source": [
    "print(np.nan == None) # None과 NaN은 다름\n",
    "\n",
    "print(np.nan == np.nan) # NaN 끼리 비교 X \n",
    "\n",
    "print(np.isnan(np.nan))"
   ]
  },
  {
   "cell_type": "code",
   "execution_count": 17,
   "metadata": {},
   "outputs": [
    {
     "name": "stdout",
     "output_type": "stream",
     "text": [
      "SDS                 IT\n",
      "Electronic          IT\n",
      "Display       Hardware\n",
      "dtype: object\n",
      "Index(['SDS', 'Electronic', 'Display'], dtype='object')\n",
      "India      Tiger\n",
      "America     Bear\n",
      "Canada     Moose\n",
      "dtype: object\n",
      "Software                    SDS\n",
      "Software+Hardware    Electronic\n",
      "Hardware                Display\n",
      "dtype: object\n",
      "Golf      Scotland\n",
      "Sumo         Japan\n",
      "Hockey         NaN\n",
      "dtype: object\n"
     ]
    }
   ],
   "source": [
    "samsung = {\n",
    "    'SDS' : 'IT',\n",
    "    'Electronic' : 'IT',\n",
    "    'Display' : 'Hardware'\n",
    "}\n",
    "s = pd.Series(samsung)\n",
    "\n",
    "print(s)\n",
    "print(s.index)\n",
    "\n",
    "s = pd.Series(['Tiger', 'Bear', 'Moose'], index = ['India', 'America', 'Canada'])\n",
    "print(s)\n",
    "\n",
    "m = pd.Series(['SDS', 'Electronic', 'Display'], index=['Software', 'Software+Hardware', 'Hardware'])\n",
    "print(m)\n",
    "\n",
    "sports = {\n",
    "    'Archery' : 'Bhutan',\n",
    "    'Golf' : 'Scotland',\n",
    "    'Sumo' : 'Japan',\n",
    "    'Taekwondo' : 'South Korea'\n",
    "}\n",
    "\n",
    "s = pd.Series(sports, index = ['Golf', 'Sumo', 'Hockey']) # 인덱스 선택 데이터 추출\n",
    "print(s)"
   ]
  },
  {
   "cell_type": "code",
   "execution_count": 29,
   "metadata": {},
   "outputs": [
    {
     "name": "stdout",
     "output_type": "stream",
     "text": [
      "Archery           Bhutan\n",
      "Golf            Scotland\n",
      "Sumo               Japan\n",
      "Taekwondo    South Korea\n",
      "dtype: object\n",
      "\n",
      "Battle       FPS\n",
      "Overwatch    FPS\n",
      "LOL          AOS\n",
      "Lineage      RPG\n",
      "dtype: object\n",
      "\n",
      "AOS\n",
      "AOS\n",
      "RPG\n",
      "FPS\n",
      "FPS\n"
     ]
    }
   ],
   "source": [
    "s = pd.Series(sports)\n",
    "print(s)\n",
    "\n",
    "game = {\n",
    "    'Battle' : 'FPS',\n",
    "    'Overwatch' : 'FPS',\n",
    "    'LOL' : 'AOS',\n",
    "    'Lineage' : 'RPG'\n",
    "}\n",
    "\n",
    "print('')\n",
    "m = pd.Series(game)\n",
    "print(m)\n",
    "\n",
    "print('')\n",
    "print(m.iloc[2])\n",
    "print(m.loc['LOL'])\n",
    "print(m[3])\n",
    "print(m['Overwatch'])\n",
    "print(m.iloc[0])"
   ]
  },
  {
   "cell_type": "code",
   "execution_count": 36,
   "metadata": {},
   "outputs": [
    {
     "name": "stdout",
     "output_type": "stream",
     "text": [
      "99          Bhutan\n",
      "100       Scotland\n",
      "101          Japan\n",
      "102    South Korea\n",
      "dtype: object\n",
      "\n",
      "0    100.0\n",
      "1    120.0\n",
      "2    101.0\n",
      "3      3.0\n",
      "dtype: float64\n",
      "324.0\n"
     ]
    }
   ],
   "source": [
    "sports = {\n",
    "    99 : 'Bhutan',\n",
    "    100 : 'Scotland',\n",
    "    101 : 'Japan',\n",
    "    102 : 'South Korea'\n",
    "}\n",
    "\n",
    "s = pd.Series(sports)\n",
    "print(s)\n",
    "\n",
    "print('')\n",
    "s = pd.Series([100.00, 120.00, 101.00, 3.00])\n",
    "print(s)\n",
    "\n",
    "total = 0\n",
    "for item in s:\n",
    "    total += item\n",
    "print(total)"
   ]
  },
  {
   "cell_type": "code",
   "execution_count": 38,
   "metadata": {},
   "outputs": [],
   "source": [
    "from functools import reduce # reduce를 이용한 데이터 총합"
   ]
  },
  {
   "cell_type": "code",
   "execution_count": 40,
   "metadata": {},
   "outputs": [
    {
     "name": "stdout",
     "output_type": "stream",
     "text": [
      "324.0\n"
     ]
    }
   ],
   "source": [
    "tot = reduce(lambda x,y: x+y, s.values)\n",
    "print(tot)"
   ]
  },
  {
   "cell_type": "code",
   "execution_count": 42,
   "metadata": {},
   "outputs": [
    {
     "name": "stdout",
     "output_type": "stream",
     "text": [
      "324.0\n"
     ]
    }
   ],
   "source": [
    "total = np.sum(s) # numpy 이용 데이터 총합\n",
    "print(total)"
   ]
  },
  {
   "cell_type": "code",
   "execution_count": 48,
   "metadata": {},
   "outputs": [
    {
     "name": "stdout",
     "output_type": "stream",
     "text": [
      "0    681\n",
      "1    295\n",
      "2    392\n",
      "3    542\n",
      "4    754\n",
      "dtype: int32\n",
      "10000\n",
      "0    1555\n",
      "1    2762\n",
      "2    5521\n",
      "3    4152\n",
      "4     209\n",
      "5     840\n",
      "6    6381\n",
      "7    4216\n",
      "8    4321\n",
      "9    8967\n",
      "dtype: int32\n",
      "40\n"
     ]
    }
   ],
   "source": [
    "s = pd.Series(np.random.randint(0, 1000, 10000))\n",
    "print(s.head())\n",
    "print(len(s))\n",
    "\n",
    "\n",
    "a = pd.Series(np.random.randint(0,10000,40))\n",
    "print(a.head(10))\n",
    "print(len(a))"
   ]
  },
  {
   "cell_type": "code",
   "execution_count": 50,
   "metadata": {},
   "outputs": [],
   "source": [
    "import timeit # ipython의 magic function의 %%timeit을 python 인터프리터에서도 사용하는 방법"
   ]
  },
  {
   "cell_type": "code",
   "execution_count": 77,
   "metadata": {},
   "outputs": [
    {
     "name": "stdout",
     "output_type": "stream",
     "text": [
      "5048994\n"
     ]
    }
   ],
   "source": [
    "def example():\n",
    "    s = pd.Series(np.random.randint(0,1000,10000))\n",
    "    summary = 0\n",
    "    for item in s:\n",
    "        summary += item\n",
    "    return summary\n",
    "mycode = example()\n",
    "print(mycode)\n"
   ]
  },
  {
   "cell_type": "code",
   "execution_count": 78,
   "metadata": {},
   "outputs": [
    {
     "name": "stdout",
     "output_type": "stream",
     "text": [
      "0.21097119999999947\n"
     ]
    }
   ],
   "source": [
    "print(timeit.timeit(stmt = str(mycode), number = 10000000))"
   ]
  },
  {
   "cell_type": "code",
   "execution_count": 68,
   "metadata": {},
   "outputs": [
    {
     "name": "stdout",
     "output_type": "stream",
     "text": [
      "0    685\n",
      "1    299\n",
      "2    396\n",
      "3    546\n",
      "4    758\n",
      "dtype: int32\n"
     ]
    }
   ],
   "source": [
    "s += 2\n",
    "print(s.head())"
   ]
  },
  {
   "cell_type": "code",
   "execution_count": 70,
   "metadata": {},
   "outputs": [
    {
     "name": "stdout",
     "output_type": "stream",
     "text": [
      "0    689\n",
      "1    303\n",
      "2    400\n",
      "3    550\n",
      "4    762\n",
      "dtype: int32\n"
     ]
    },
    {
     "name": "stderr",
     "output_type": "stream",
     "text": [
      "C:\\Users\\pulum\\AppData\\Local\\conda\\conda\\envs\\TF_VS_35\\lib\\site-packages\\ipykernel_launcher.py:2: FutureWarning: set_value is deprecated and will be removed in a future release. Please use .at[] or .iat[] accessors instead\n",
      "  \n"
     ]
    }
   ],
   "source": [
    "for label, value in s.iteritems():\n",
    "    s.set_value(label, value+2)\n",
    "\n",
    "print(s.head())"
   ]
  },
  {
   "cell_type": "code",
   "execution_count": 80,
   "metadata": {},
   "outputs": [
    {
     "name": "stdout",
     "output_type": "stream",
     "text": [
      "0             1\n",
      "1             2\n",
      "2             3\n",
      "Animal    Bears\n",
      "dtype: object\n"
     ]
    }
   ],
   "source": [
    "s = pd.Series([1,2,3])\n",
    "s.loc['Animal'] = 'Bears'\n",
    "print(s)"
   ]
  },
  {
   "cell_type": "code",
   "execution_count": 110,
   "metadata": {},
   "outputs": [
    {
     "name": "stdout",
     "output_type": "stream",
     "text": [
      "Archery           Bhutan\n",
      "Golf            Scotland\n",
      "Sumo               Japan\n",
      "Taekwondo    South Korea\n",
      "dtype: object\n",
      "\n",
      "Cricket    Australia\n",
      "Cricket     Barbados\n",
      "Cricket     Pakistan\n",
      "Cricket      England\n",
      "dtype: object\n",
      "\n",
      "Archery           Bhutan\n",
      "Golf            Scotland\n",
      "Sumo               Japan\n",
      "Taekwondo    South Korea\n",
      "Cricket        Australia\n",
      "Cricket         Barbados\n",
      "Cricket         Pakistan\n",
      "Cricket          England\n",
      "dtype: object\n",
      "\n",
      "Cricket    Australia\n",
      "Cricket     Barbados\n",
      "Cricket     Pakistan\n",
      "Cricket      England\n",
      "dtype: object\n"
     ]
    }
   ],
   "source": [
    "original_sports = pd.Series({'Archery': 'Bhutan',\n",
    "                             'Golf': 'Scotland',\n",
    "                             'Sumo': 'Japan',\n",
    "                             'Taekwondo': 'South Korea'})\n",
    "print(original_sports)\n",
    "print('')\n",
    "\n",
    "cricket_loving_countries = pd.Series(['Australia',      # 시리즈 자료구조는 딕셔너리와 다르게 index값의 중복이 허용된다.\n",
    "                                      'Barbados',       # 왜냐하면 인덱스의 숫서로 값을 구분하기 때문이다.\n",
    "                                      'Pakistan',\n",
    "                                      'England'],\n",
    "                                   index=['Cricket',\n",
    "                                          'Cricket',\n",
    "                                          'Cricket',\n",
    "                                          'Cricket'])\n",
    "print(cricket_loving_countries)\n",
    "print('')\n",
    "\n",
    "all_countries = original_sports.append(cricket_loving_countries)\n",
    "print(all_countries)\n",
    "\n",
    "print('')\n",
    "print(all_countries.loc['Cricket'])"
   ]
  },
  {
   "cell_type": "code",
   "execution_count": 104,
   "metadata": {},
   "outputs": [
    {
     "name": "stdout",
     "output_type": "stream",
     "text": [
      "           Name Item Purchased   Cost\n",
      "Store 1   Chris       Dog Food  22.50\n",
      "Store 1   Kevyn   Kitty Litter   2.50\n",
      "Store 2   Vinod      Bird Seed   5.00\n",
      "Store 3  Daniel    Power Drink   9.42\n",
      "Name                  Vinod\n",
      "Item Purchased    Bird Seed\n",
      "Cost                      5\n",
      "Name: Store 2, dtype: object\n",
      "Store 1    22.5\n",
      "Store 1     2.5\n",
      "Name: Cost, dtype: float64\n",
      "                 Store 1       Store 1    Store 2      Store 3\n",
      "Name               Chris         Kevyn      Vinod       Daniel\n",
      "Item Purchased  Dog Food  Kitty Litter  Bird Seed  Power Drink\n",
      "Cost                22.5           2.5          5         9.42\n",
      "           Name   Cost\n",
      "Store 1   Chris  22.50\n",
      "Store 1   Kevyn   2.50\n",
      "Store 2   Vinod   5.00\n",
      "Store 3  Daniel   9.42\n",
      "        Item Purchased  Cost\n",
      "Store 1       Dog Food  22.5\n",
      "Store 1   Kitty Litter   2.5\n",
      "Store 2      Bird Seed   5.0\n",
      "           Name Item Purchased  Cost\n",
      "Store 2   Vinod      Bird Seed  5.00\n",
      "Store 3  Daniel    Power Drink  9.42\n",
      "           Name Item Purchased   Cost\n",
      "Store 1   Chris       Dog Food  22.50\n",
      "Store 1   Kevyn   Kitty Litter   2.50\n",
      "Store 2   Vinod      Bird Seed   5.00\n",
      "Store 3  Daniel    Power Drink   9.42\n",
      "           Name Item Purchased   Cost\n",
      "Store 1   Chris       Dog Food  22.50\n",
      "Store 1   Kevyn   Kitty Litter   2.50\n",
      "Store 2   Vinod      Bird Seed   5.00\n",
      "Store 3  Daniel    Power Drink   9.42\n",
      "        Item Purchased   Cost\n",
      "Store 1       Dog Food  22.50\n",
      "Store 1   Kitty Litter   2.50\n",
      "Store 2      Bird Seed   5.00\n",
      "Store 3    Power Drink   9.42\n",
      "           Name Item Purchased   Cost Location   Sale\n",
      "Store 1   Chris       Dog Food  22.50     None   True\n",
      "Store 1   Kevyn   Kitty Litter   2.50     None  False\n",
      "Store 2   Vinod      Bird Seed   5.00     None   True\n",
      "Store 3  Daniel    Power Drink   9.42     None   True\n",
      "Store 1    22.50\n",
      "Store 1     2.50\n",
      "Store 2     5.00\n",
      "Store 3     9.42\n",
      "Name: Cost, dtype: float64\n",
      "Store 1    24.50\n",
      "Store 1     4.50\n",
      "Store 2     7.00\n",
      "Store 3    11.42\n",
      "Name: Cost, dtype: float64\n"
     ]
    }
   ],
   "source": [
    "purchase_1 = pd.Series({\n",
    "    'Name' : 'Chris',\n",
    "    'Item Purchased' : 'Dog Food',\n",
    "    'Cost' : 22.50\n",
    "})\n",
    "\n",
    "purchase_2 = pd.Series({\n",
    "    'Name' : 'Kevyn',\n",
    "    'Item Purchased' : 'Kitty Litter',\n",
    "    'Cost' : 2.50\n",
    "})\n",
    "\n",
    "purchase_3 = pd.Series({\n",
    "    'Name' : 'Vinod',\n",
    "    'Item Purchased' : 'Bird Seed',\n",
    "    'Cost' : 5.00\n",
    "})\n",
    "\n",
    "purchase_4 = pd.Series({\n",
    "    'Name' : 'Daniel',\n",
    "    'Item Purchased' : 'Power Drink',\n",
    "    'Cost' : 9.42\n",
    "})\n",
    "\n",
    "df = pd.DataFrame([purchase_1, purchase_2, purchase_3, purchase_4], index = ['Store 1', 'Store 1', 'Store 2', 'Store 3'])\n",
    "h = df.head()\n",
    "print(h)\n",
    "\n",
    "print(df.loc['Store 2'])\n",
    "\n",
    "type(df.loc['Store 2'])\n",
    "\n",
    "print(df.loc['Store 1', 'Cost'])\n",
    "\n",
    "T = df.T # transpose\n",
    "print(T)\n",
    "\n",
    "print(df.loc[:, ['Name', 'Cost']]) # 모든 행, Name과 Cost 열\n",
    "\n",
    "print(df.loc[['Store 1', 'Store 2'], ['Item Purchased', 'Cost']])\n",
    "\n",
    "drop_df = df.drop('Store 1')\n",
    "print(drop_df)\n",
    "\n",
    "print(df)\n",
    "\n",
    "copy_df = df.copy()\n",
    "copy_df = copy_df.copy('Store 1')\n",
    "print(copy_df)\n",
    "\n",
    "del copy_df['Name']\n",
    "print(copy_df)\n",
    "\n",
    "df['Location'] = None\n",
    "df['Sale'] = [True, False, True, True]\n",
    "print(df)\n",
    "\n",
    "costs = df['Cost']\n",
    "print(costs)\n",
    "\n",
    "costs += 2\n",
    "print(costs)"
   ]
  },
  {
   "cell_type": "code",
   "execution_count": 116,
   "metadata": {},
   "outputs": [
    {
     "name": "stdout",
     "output_type": "stream",
     "text": [
      "                   0         1     2     3     4      5         6     7     8  \\\n",
      "0                NaN  № Summer  01 !  02 !  03 !  Total  № Winter  01 !  02 !   \n",
      "1  Afghanistan (AFG)        13     0     0     2      2         0     0     0   \n",
      "2      Algeria (ALG)        12     5     2     8     15         3     0     0   \n",
      "3    Argentina (ARG)        23    18    24    28     70        18     0     0   \n",
      "4      Armenia (ARM)         5     1     2     9     12         6     0     0   \n",
      "\n",
      "      9     10       11    12    13    14              15  \n",
      "0  03 !  Total  № Games  01 !  02 !  03 !  Combined total  \n",
      "1     0      0       13     0     0     2               2  \n",
      "2     0      0       15     5     2     8              15  \n",
      "3     0      0       41    18    24    28              70  \n",
      "4     0      0       11     1     2     9              12  \n",
      "                         № Summer  01 !  02 !  03 !  Total  № Winter  01 !.1  \\\n",
      "Afghanistan (AFG)              13     0     0     2      2         0       0   \n",
      "Algeria (ALG)                  12     5     2     8     15         3       0   \n",
      "Argentina (ARG)                23    18    24    28     70        18       0   \n",
      "Armenia (ARM)                   5     1     2     9     12         6       0   \n",
      "Australasia (ANZ) [ANZ]         2     3     4     5     12         0       0   \n",
      "\n",
      "                         02 !.1  03 !.1  Total.1  № Games  01 !.2  02 !.2  \\\n",
      "Afghanistan (AFG)             0       0        0       13       0       0   \n",
      "Algeria (ALG)                 0       0        0       15       5       2   \n",
      "Argentina (ARG)               0       0        0       41      18      24   \n",
      "Armenia (ARM)                 0       0        0       11       1       2   \n",
      "Australasia (ANZ) [ANZ]       0       0        0        2       3       4   \n",
      "\n",
      "                         03 !.2  Combined total  \n",
      "Afghanistan (AFG)             2               2  \n",
      "Algeria (ALG)                 8              15  \n",
      "Argentina (ARG)              28              70  \n",
      "Armenia (ARM)                 9              12  \n",
      "Australasia (ANZ) [ANZ]       5              12  \n",
      "Index(['# Summer', 'Gold', 'Silver', 'Bronze', 'Total', '# Winter', 'Gold.1',\n",
      "       'Silver.1', 'Bronze.1', 'Total.1', '# Games', 'Gold.2', 'Silver.2',\n",
      "       'Bronze.2', 'Combined total'],\n",
      "      dtype='object')\n",
      "Afghanistan (AFG)                               False\n",
      "Algeria (ALG)                                    True\n",
      "Argentina (ARG)                                  True\n",
      "Armenia (ARM)                                    True\n",
      "Australasia (ANZ) [ANZ]                          True\n",
      "Australia (AUS) [AUS] [Z]                        True\n",
      "Austria (AUT)                                    True\n",
      "Azerbaijan (AZE)                                 True\n",
      "Bahamas (BAH)                                    True\n",
      "Bahrain (BRN)                                   False\n",
      "Barbados (BAR) [BAR]                            False\n",
      "Belarus (BLR)                                    True\n",
      "Belgium (BEL)                                    True\n",
      "Bermuda (BER)                                   False\n",
      "Bohemia (BOH) [BOH] [Z]                         False\n",
      "Botswana (BOT)                                  False\n",
      "Brazil (BRA)                                     True\n",
      "British West Indies (BWI) [BWI]                 False\n",
      "Bulgaria (BUL) [H]                               True\n",
      "Burundi (BDI)                                    True\n",
      "Cameroon (CMR)                                   True\n",
      "Canada (CAN)                                     True\n",
      "Chile (CHI) [I]                                  True\n",
      "China (CHN) [CHN]                                True\n",
      "Colombia (COL)                                   True\n",
      "Costa Rica (CRC)                                 True\n",
      "Ivory Coast (CIV) [CIV]                         False\n",
      "Croatia (CRO)                                    True\n",
      "Cuba (CUB) [Z]                                   True\n",
      "Cyprus (CYP)                                    False\n",
      "                                                ...  \n",
      "Sri Lanka (SRI) [SRI]                           False\n",
      "Sudan (SUD)                                     False\n",
      "Suriname (SUR) [E]                               True\n",
      "Sweden (SWE) [Z]                                 True\n",
      "Switzerland (SUI)                                True\n",
      "Syria (SYR)                                      True\n",
      "Chinese Taipei (TPE) [TPE] [TPE2]                True\n",
      "Tajikistan (TJK)                                False\n",
      "Tanzania (TAN) [TAN]                            False\n",
      "Thailand (THA)                                   True\n",
      "Togo (TOG)                                      False\n",
      "Tonga (TGA)                                     False\n",
      "Trinidad and Tobago (TRI) [TRI]                  True\n",
      "Tunisia (TUN)                                    True\n",
      "Turkey (TUR)                                     True\n",
      "Uganda (UGA)                                     True\n",
      "Ukraine (UKR)                                    True\n",
      "United Arab Emirates (UAE)                       True\n",
      "United States (USA) [P] [Q] [R] [Z]              True\n",
      "Uruguay (URU)                                    True\n",
      "Uzbekistan (UZB)                                 True\n",
      "Venezuela (VEN)                                  True\n",
      "Vietnam (VIE)                                   False\n",
      "Virgin Islands (ISV)                            False\n",
      "Yugoslavia (YUG) [YUG]                           True\n",
      "Independent Olympic Participants (IOP) [IOP]    False\n",
      "Zambia (ZAM) [ZAM]                              False\n",
      "Zimbabwe (ZIM) [ZIM]                             True\n",
      "Mixed team (ZZX) [ZZX]                           True\n",
      "Totals                                           True\n",
      "Name: Gold, Length: 147, dtype: bool\n",
      "                         # Summer  Gold  Silver  Bronze  Total  # Winter  \\\n",
      "Afghanistan (AFG)             NaN   NaN     NaN     NaN    NaN       NaN   \n",
      "Algeria (ALG)                 NaN   NaN     NaN     NaN    NaN       NaN   \n",
      "Argentina (ARG)              23.0  18.0    24.0    28.0   70.0      18.0   \n",
      "Armenia (ARM)                 NaN   NaN     NaN     NaN    NaN       NaN   \n",
      "Australasia (ANZ) [ANZ]       NaN   NaN     NaN     NaN    NaN       NaN   \n",
      "\n",
      "                         Gold.1  Silver.1  Bronze.1  Total.1  # Games  Gold.2  \\\n",
      "Afghanistan (AFG)           NaN       NaN       NaN      NaN      NaN     NaN   \n",
      "Algeria (ALG)               NaN       NaN       NaN      NaN      NaN     NaN   \n",
      "Argentina (ARG)             0.0       0.0       0.0      0.0     41.0    18.0   \n",
      "Armenia (ARM)               NaN       NaN       NaN      NaN      NaN     NaN   \n",
      "Australasia (ANZ) [ANZ]     NaN       NaN       NaN      NaN      NaN     NaN   \n",
      "\n",
      "                         Silver.2  Bronze.2  Combined total  \n",
      "Afghanistan (AFG)             NaN       NaN             NaN  \n",
      "Algeria (ALG)                 NaN       NaN             NaN  \n",
      "Argentina (ARG)              24.0      28.0            70.0  \n",
      "Armenia (ARM)                 NaN       NaN             NaN  \n",
      "Australasia (ANZ) [ANZ]       NaN       NaN             NaN  \n",
      "62\n",
      "                           # Summer   Gold  Silver  Bronze  Total  # Winter  \\\n",
      "Argentina (ARG)                23.0   18.0    24.0    28.0   70.0      18.0   \n",
      "Australia (AUS) [AUS] [Z]      25.0  139.0   152.0   177.0  468.0      18.0   \n",
      "Austria (AUT)                  26.0   18.0    33.0    35.0   86.0      22.0   \n",
      "Azerbaijan (AZE)                5.0    6.0     5.0    15.0   26.0       5.0   \n",
      "Belarus (BLR)                   5.0   12.0    24.0    39.0   75.0       6.0   \n",
      "\n",
      "                           Gold.1  Silver.1  Bronze.1  Total.1  # Games  \\\n",
      "Argentina (ARG)               0.0       0.0       0.0      0.0     41.0   \n",
      "Australia (AUS) [AUS] [Z]     5.0       3.0       4.0     12.0     43.0   \n",
      "Austria (AUT)                59.0      78.0      81.0    218.0     48.0   \n",
      "Azerbaijan (AZE)              0.0       0.0       0.0      0.0     10.0   \n",
      "Belarus (BLR)                 6.0       4.0       5.0     15.0     11.0   \n",
      "\n",
      "                           Gold.2  Silver.2  Bronze.2  Combined total  \n",
      "Argentina (ARG)              18.0      24.0      28.0            70.0  \n",
      "Australia (AUS) [AUS] [Z]   144.0     155.0     181.0           480.0  \n",
      "Austria (AUT)                77.0     111.0     116.0           304.0  \n",
      "Azerbaijan (AZE)              6.0       5.0      15.0            26.0  \n",
      "Belarus (BLR)                18.0      28.0      44.0            90.0  \n",
      "                           # Summer  Gold  Silver  Bronze  Total  # Winter  \\\n",
      "Algeria (ALG)                    12     5       2       8     15         3   \n",
      "Argentina (ARG)                  23    18      24      28     70        18   \n",
      "Armenia (ARM)                     5     1       2       9     12         6   \n",
      "Australasia (ANZ) [ANZ]           2     3       4       5     12         0   \n",
      "Australia (AUS) [AUS] [Z]        25   139     152     177    468        18   \n",
      "\n",
      "                           Gold.1  Silver.1  Bronze.1  Total.1  # Games  \\\n",
      "Algeria (ALG)                   0         0         0        0       15   \n",
      "Argentina (ARG)                 0         0         0        0       41   \n",
      "Armenia (ARM)                   0         0         0        0       11   \n",
      "Australasia (ANZ) [ANZ]         0         0         0        0        2   \n",
      "Australia (AUS) [AUS] [Z]       5         3         4       12       43   \n",
      "\n",
      "                           Gold.2  Silver.2  Bronze.2  Combined total  \n",
      "Algeria (ALG)                   5         2         8              15  \n",
      "Argentina (ARG)                18        24        28              70  \n",
      "Armenia (ARM)                   1         2         9              12  \n",
      "Australasia (ANZ) [ANZ]         3         4         5              12  \n",
      "Australia (AUS) [AUS] [Z]     144       155       181             480  \n",
      "                           # Summer  Gold  Silver  Bronze  Total  # Winter  \\\n",
      "Australia (AUS) [AUS] [Z]        25   139     152     177    468        18   \n",
      "Austria (AUT)                    26    18      33      35     86        22   \n",
      "Belarus (BLR)                     5    12      24      39     75         6   \n",
      "Belgium (BEL)                    25    37      52      53    142        20   \n",
      "Bulgaria (BUL) [H]               19    51      85      78    214        19   \n",
      "\n",
      "                           Gold.1  Silver.1  Bronze.1  Total.1  # Games  \\\n",
      "Australia (AUS) [AUS] [Z]       5         3         4       12       43   \n",
      "Austria (AUT)                  59        78        81      218       48   \n",
      "Belarus (BLR)                   6         4         5       15       11   \n",
      "Belgium (BEL)                   1         1         3        5       45   \n",
      "Bulgaria (BUL) [H]              1         2         3        6       38   \n",
      "\n",
      "                           Gold.2  Silver.2  Bronze.2  Combined total  \n",
      "Australia (AUS) [AUS] [Z]     144       155       181             480  \n",
      "Austria (AUT)                  77       111       116             304  \n",
      "Belarus (BLR)                  18        28        44              90  \n",
      "Belgium (BEL)                  38        53        56             147  \n",
      "Bulgaria (BUL) [H]             52        87        81             220  \n",
      "        # Summer  Gold  Bronze  Total  # Winter  Gold.1  Silver.1  Bronze.1  \\\n",
      "Silver                                                                        \n",
      "0             13     0       2      2         0       0         0         0   \n",
      "2             12     5       8     15         3       0         0         0   \n",
      "24            23    18      28     70        18       0         0         0   \n",
      "2              5     1       9     12         6       0         0         0   \n",
      "4              2     3       5     12         0       0         0         0   \n",
      "\n",
      "        Total.1  # Games  Gold.2  Silver.2  Bronze.2  Combined total  \\\n",
      "Silver                                                                 \n",
      "0             0       13       0         0         2               2   \n",
      "2             0       15       5         2         8              15   \n",
      "24            0       41      18        24        28              70   \n",
      "2             0       11       1         2         9              12   \n",
      "4             0        2       3         4         5              12   \n",
      "\n",
      "                        country  \n",
      "Silver                           \n",
      "0             Afghanistan (AFG)  \n",
      "2                 Algeria (ALG)  \n",
      "24              Argentina (ARG)  \n",
      "2                 Armenia (ARM)  \n",
      "4       Australasia (ANZ) [ANZ]  \n",
      "        # Summer  Gold  Bronze  Total  # Winter  Gold.1  Silver.1  Bronze.1  \\\n",
      "Silver                                                                        \n",
      "0             13     0       2      2         0       0         0         0   \n",
      "0              7     0       1      1         0       0         0         0   \n",
      "0             11     1       1      2         0       0         0         0   \n",
      "0              8     1       0      1         0       0         0         0   \n",
      "0             16     0       1      1         0       0         0         0   \n",
      "\n",
      "        Total.1  # Games  Gold.2  Silver.2  Bronze.2  Combined total  \\\n",
      "Silver                                                                 \n",
      "0             0       13       0         0         2               2   \n",
      "0             0        7       0         0         1               1   \n",
      "0             0       11       1         0         1               2   \n",
      "0             0        8       1         0         0               1   \n",
      "0             0       16       0         0         1               1   \n",
      "\n",
      "                   country  \n",
      "Silver                      \n",
      "0        Afghanistan (AFG)  \n",
      "0       Djibouti (DJI) [B]  \n",
      "0       Suriname (SUR) [E]  \n",
      "0            Grenada (GRN)  \n",
      "0       Guyana (GUY) [GUY]  \n"
     ]
    }
   ],
   "source": [
    "df = pd.read_csv('olympics.csv')\n",
    "print(df.head())\n",
    "\n",
    "df = pd.read_csv('olympics.csv', index_col=0, skiprows=1) # 잘못 로드된 데이터를 제대로 불려들임\n",
    "                                                          # index_col은 인덱스의 위치를 컬럼의 인덱스로 나타냄\n",
    "                                                          # skiprows는 컬럼명을 맞추기 위해 얼마만큼의 행을 건너뛸지를 나타냄\n",
    "print(df.head())\n",
    "\n",
    "for col in df.columns:\n",
    "    if col[:2] == '01':\n",
    "        df.rename(columns={col:'Gold' + col[4:]}, inplace=True)\n",
    "    elif col[:2] == '02':\n",
    "        df.rename(columns={col:'Silver' + col[4:]}, inplace=True)\n",
    "    elif col[:2] == '03':\n",
    "        df.rename(columns={col:'Bronze' + col[4:]}, inplace=True)\n",
    "    elif col[:1] == '№':\n",
    "        df.rename(columns={col:'#'+col[1:]}, inplace=True)\n",
    "print(df.columns)\n",
    "\n",
    "print(df['Gold'] > 0)\n",
    "\n",
    "only_gold = df.where(df['Gold'] > 5)\n",
    "print(only_gold.head())\n",
    "\n",
    "print(only_gold['Gold'].count())\n",
    "only_gold = only_gold.dropna()\n",
    "print(only_gold.head())\n",
    "\n",
    "only_gold = df[df['Gold'] > 0]\n",
    "print(only_gold.head())\n",
    "\n",
    "gold_and_gold1 = df[(df['Gold'] > 0) & (df['Gold.1'] > 0)]\n",
    "print(gold_and_gold1.head())\n",
    "\n",
    "df['country'] = df.index\n",
    "df = df.set_index('Silver')\n",
    "print(df.head())\n",
    "\n",
    "df = df.sort_index() # 인덱스 정렬\n",
    "print(df.head())\n"
   ]
  },
  {
   "cell_type": "markdown",
   "metadata": {},
   "source": [
    "# Refered by https://engkimbs.tistory.com/ "
   ]
  }
 ],
 "metadata": {
  "kernelspec": {
   "display_name": "Python 3",
   "language": "python",
   "name": "python3"
  },
  "language_info": {
   "codemirror_mode": {
    "name": "ipython",
    "version": 3
   },
   "file_extension": ".py",
   "mimetype": "text/x-python",
   "name": "python",
   "nbconvert_exporter": "python",
   "pygments_lexer": "ipython3",
   "version": "3.6.8"
  }
 },
 "nbformat": 4,
 "nbformat_minor": 4
}
