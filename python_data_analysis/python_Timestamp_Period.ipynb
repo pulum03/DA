{
 "cells": [
  {
   "cell_type": "code",
   "execution_count": 6,
   "metadata": {},
   "outputs": [],
   "source": [
    "import pandas as pd\n",
    "import numpy as np"
   ]
  },
  {
   "cell_type": "code",
   "execution_count": null,
   "metadata": {},
   "outputs": [],
   "source": [
    "# Timestamp, Period를 이용하여 시계열 데이터를 쉽게 다룰 수 있음."
   ]
  },
  {
   "cell_type": "code",
   "execution_count": 3,
   "metadata": {},
   "outputs": [
    {
     "name": "stdout",
     "output_type": "stream",
     "text": [
      "2016-09-01 01:39:00\n"
     ]
    }
   ],
   "source": [
    "time1 = pd.Timestamp('9/1/2016 1:39AM')\n",
    "print(time1)"
   ]
  },
  {
   "cell_type": "code",
   "execution_count": 5,
   "metadata": {},
   "outputs": [
    {
     "name": "stdout",
     "output_type": "stream",
     "text": [
      "2016-01-10\n"
     ]
    }
   ],
   "source": [
    "period = pd.Period('01/10/2016')\n",
    "print(period)"
   ]
  },
  {
   "cell_type": "code",
   "execution_count": 10,
   "metadata": {},
   "outputs": [
    {
     "name": "stdout",
     "output_type": "stream",
     "text": [
      "2019-10-01    a\n",
      "2019-10-02    b\n",
      "2019-10-03    c\n",
      "dtype: object\n"
     ]
    }
   ],
   "source": [
    "# timestamp 인덱스\n",
    "t1 = pd.Series(list('abc'), [pd.Timestamp('2019-10-01'), pd.Timestamp('2019-10-02'), pd.Timestamp('2019-10-03')])\n",
    "print(t1)"
   ]
  },
  {
   "cell_type": "code",
   "execution_count": 15,
   "metadata": {},
   "outputs": [
    {
     "name": "stdout",
     "output_type": "stream",
     "text": [
      "2019-10    d\n",
      "2019-11    e\n",
      "2019-12    f\n",
      "Freq: M, dtype: object\n",
      "<class 'pandas.core.indexes.period.PeriodIndex'>\n"
     ]
    }
   ],
   "source": [
    "# Period는 어떤 기간을 나타냄\n",
    "# Timestamp는 딱 그 시점, 어떤 특정 시간을 나타냄\n",
    "# p = pd.Period('2017-06-13')\n",
    "# test = pd.Timestamp('2017-06-13 22:11')\n",
    "# p.start_time < test < p.end_time\n",
    "t2 = pd.Series(list('def'), [pd.Period('2019-10'), pd.Period('2019-11'), pd.Period('2019-12')])\n",
    "print(t2)\n",
    "print(type(t2.index))"
   ]
  },
  {
   "cell_type": "code",
   "execution_count": 17,
   "metadata": {},
   "outputs": [
    {
     "name": "stdout",
     "output_type": "stream",
     "text": [
      "                 a   b\n",
      "1 October 2019  91  77\n",
      "Nov 27 2019     21  51\n",
      "2019-09-30      37  70\n",
      "7/12/19         48  80\n"
     ]
    }
   ],
   "source": [
    "d1 = ['1 October 2019', 'Nov 27 2019', '2019-09-30', '7/12/19']\n",
    "ts3 = pd.DataFrame(np.random.randint(10,100,(4,2)), index = d1, columns = list('ab'))\n",
    "print(ts3)"
   ]
  },
  {
   "cell_type": "code",
   "execution_count": 19,
   "metadata": {},
   "outputs": [
    {
     "name": "stdout",
     "output_type": "stream",
     "text": [
      "             a   b\n",
      "2019-10-01  91  77\n",
      "2019-11-27  21  51\n",
      "2019-09-30  37  70\n",
      "2019-07-12  48  80\n"
     ]
    }
   ],
   "source": [
    "# 전혀 다른 형식의 날짜를 나타내는 문자열이라도\n",
    "# Timstamp를 이용하여 같은 포맷으로 맞출 수 있음.\n",
    "ts3.index = pd.to_datetime(ts3.index)\n",
    "print(ts3)"
   ]
  },
  {
   "cell_type": "code",
   "execution_count": 21,
   "metadata": {},
   "outputs": [
    {
     "name": "stdout",
     "output_type": "stream",
     "text": [
      "2 days 00:00:00\n"
     ]
    }
   ],
   "source": [
    "# Timestamp 끼리의 연산\n",
    "delta = pd.Timestamp('9/3/2019') - pd.Timestamp('9/1/2019')\n",
    "print(delta)"
   ]
  },
  {
   "cell_type": "code",
   "execution_count": 28,
   "metadata": {},
   "outputs": [
    {
     "name": "stdout",
     "output_type": "stream",
     "text": [
      "2019-09-14 11:10:00\n"
     ]
    }
   ],
   "source": [
    "# delta를 추가한 연산\n",
    "delta = pd.Timestamp('9/2/2019 8:10AM') + pd.Timedelta('12D 3H')\n",
    "print(delta)"
   ]
  },
  {
   "cell_type": "code",
   "execution_count": 30,
   "metadata": {},
   "outputs": [
    {
     "name": "stdout",
     "output_type": "stream",
     "text": [
      "DatetimeIndex(['2019-10-06', '2019-10-20', '2019-11-03', '2019-11-17',\n",
      "               '2019-12-01', '2019-12-15', '2019-12-29', '2020-01-12',\n",
      "               '2020-01-26'],\n",
      "              dtype='datetime64[ns]', freq='2W-SUN')\n"
     ]
    }
   ],
   "source": [
    "# period 만큼의 수와 freq만큼의 빈도수로 data들의 집합 구할 수 있다.\n",
    "dates = pd.date_range('10-01-2019', periods = 9, freq = '2W-SUN')\n",
    "print(dates)"
   ]
  },
  {
   "cell_type": "code",
   "execution_count": 32,
   "metadata": {},
   "outputs": [
    {
     "name": "stdout",
     "output_type": "stream",
     "text": [
      "[ 1  3  6 10 15 21]\n"
     ]
    }
   ],
   "source": [
    "# cumsum은 각 원소들의 누적합\n",
    "a = np.array([1,2,3,4,5,6])\n",
    "print(a.cumsum())"
   ]
  },
  {
   "cell_type": "code",
   "execution_count": 35,
   "metadata": {},
   "outputs": [
    {
     "name": "stdout",
     "output_type": "stream",
     "text": [
      "            Count 1  Count 2\n",
      "2019-10-06      102      119\n",
      "2019-10-20      100      123\n",
      "2019-11-03      100      124\n",
      "2019-11-17      101      123\n",
      "2019-12-01      102      125\n",
      "2019-12-15       98      127\n",
      "2019-12-29      105      123\n",
      "2020-01-12      108      119\n",
      "2020-01-26      114      127\n"
     ]
    }
   ],
   "source": [
    "df = pd.DataFrame({'Count 1' : 100 + np.random.randint(-5, 10, 9).cumsum(), \\\n",
    "                    'Count 2' : 120 + np.random.randint(-5, 10, 9)}, index = dates)\n",
    "print(df)"
   ]
  },
  {
   "cell_type": "code",
   "execution_count": 38,
   "metadata": {},
   "outputs": [
    {
     "name": "stdout",
     "output_type": "stream",
     "text": [
      "Index(['Sunday', 'Sunday', 'Sunday', 'Sunday', 'Sunday', 'Sunday', 'Sunday',\n",
      "       'Sunday', 'Sunday'],\n",
      "      dtype='object')\n"
     ]
    }
   ],
   "source": [
    "# timestamp들의 날짜를 볼 수있는 명려어\n",
    "print(df.index.weekday_name)"
   ]
  },
  {
   "cell_type": "code",
   "execution_count": 40,
   "metadata": {},
   "outputs": [
    {
     "name": "stdout",
     "output_type": "stream",
     "text": [
      "            Count 1  Count 2\n",
      "2019-10-06      NaN      NaN\n",
      "2019-10-20     -2.0      4.0\n",
      "2019-11-03      0.0      1.0\n",
      "2019-11-17      1.0     -1.0\n",
      "2019-12-01      1.0      2.0\n",
      "2019-12-15     -4.0      2.0\n",
      "2019-12-29      7.0     -4.0\n",
      "2020-01-12      3.0     -4.0\n",
      "2020-01-26      6.0      8.0\n"
     ]
    }
   ],
   "source": [
    "print(df.diff())"
   ]
  },
  {
   "cell_type": "code",
   "execution_count": 45,
   "metadata": {},
   "outputs": [
    {
     "name": "stdout",
     "output_type": "stream",
     "text": [
      "               Count 1  Count 2\n",
      "2019-10-31  101.000000    121.0\n",
      "2019-11-30  100.500000    123.5\n",
      "2019-12-31  101.666667    125.0\n",
      "2020-01-31  111.000000    123.0\n"
     ]
    }
   ],
   "source": [
    "# Timestamp를 월별로 통합 후, 평균을 구할 수 있다.\n",
    "# Like groupby\n",
    "print(df.resample('M').mean())"
   ]
  },
  {
   "cell_type": "code",
   "execution_count": 47,
   "metadata": {},
   "outputs": [
    {
     "name": "stdout",
     "output_type": "stream",
     "text": [
      "            Count 1  Count 2\n",
      "2019-10-06      102      119\n",
      "2019-10-20      100      123\n",
      "2019-11-03      100      124\n",
      "2019-11-17      101      123\n",
      "2019-12-01      102      125\n",
      "2019-12-15       98      127\n",
      "2019-12-29      105      123\n"
     ]
    }
   ],
   "source": [
    "# 2019년 timestamp 조회\n",
    "print(df['2019'])"
   ]
  },
  {
   "cell_type": "code",
   "execution_count": 49,
   "metadata": {},
   "outputs": [
    {
     "name": "stdout",
     "output_type": "stream",
     "text": [
      "            Count 1  Count 2\n",
      "2020-01-12      108      119\n",
      "2020-01-26      114      127\n"
     ]
    }
   ],
   "source": [
    "# 2020년 1월 timestamp 조회\n",
    "print(df['2020-01'])"
   ]
  },
  {
   "cell_type": "code",
   "execution_count": 52,
   "metadata": {},
   "outputs": [
    {
     "name": "stdout",
     "output_type": "stream",
     "text": [
      "            Count 1  Count 2\n",
      "2019-12-01      102      125\n",
      "2019-12-15       98      127\n",
      "2019-12-29      105      123\n",
      "2020-01-12      108      119\n",
      "2020-01-26      114      127\n"
     ]
    }
   ],
   "source": [
    "# 2019년 12월 이후 timestamp 조회\n",
    "print(df['2019-12':])"
   ]
  },
  {
   "cell_type": "code",
   "execution_count": 54,
   "metadata": {},
   "outputs": [
    {
     "name": "stdout",
     "output_type": "stream",
     "text": [
      "            Count 1  Count 2\n",
      "2019-10-06      102      119\n",
      "2019-10-13      102      119\n",
      "2019-10-20      100      123\n",
      "2019-10-27      100      123\n",
      "2019-11-03      100      124\n",
      "2019-11-10      100      124\n",
      "2019-11-17      101      123\n",
      "2019-11-24      101      123\n",
      "2019-12-01      102      125\n",
      "2019-12-08      102      125\n",
      "2019-12-15       98      127\n",
      "2019-12-22       98      127\n",
      "2019-12-29      105      123\n",
      "2020-01-05      105      123\n",
      "2020-01-12      108      119\n",
      "2020-01-19      108      119\n",
      "2020-01-26      114      127\n"
     ]
    }
   ],
   "source": [
    "# 2주의 빈도로 timestamp를 만들어서 1주씩 빈 인덱스가 만들어졌다.\n",
    "# 하지만 asfreq 메서드를 사용해서 이 빈 값들을 채워 넣을 수 있다.\n",
    "# method를 통해서 forward fill 방식으로 채워 넣을 수 있다.\n",
    "print(df.asfreq('W', method = 'ffill')) # forward fill"
   ]
  },
  {
   "cell_type": "code",
   "execution_count": 67,
   "metadata": {},
   "outputs": [
    {
     "data": {
      "image/png": "[encoded data removed]",
      "text/plain": [
       "<Figure size 432x288 with 1 Axes>"
      ]
     },
     "metadata": {
      "needs_background": "light"
     },
     "output_type": "display_data"
    }
   ],
   "source": [
    "%matplotlib inline\n",
    "import matplotlib.pyplot as plt\n",
    "df.plot()\n",
    "plt.show()"
   ]
  },
  {
   "cell_type": "markdown",
   "metadata": {},
   "source": [
    "# Refered by https://engkimbs.tistory.com/ "
   ]
  }
 ],
 "metadata": {
  "kernelspec": {
   "display_name": "Python 3",
   "language": "python",
   "name": "python3"
  },
  "language_info": {
   "codemirror_mode": {
    "name": "ipython",
    "version": 3
   },
   "file_extension": ".py",
   "mimetype": "text/x-python",
   "name": "python",
   "nbconvert_exporter": "python",
   "pygments_lexer": "ipython3",
   "version": "3.6.8"
  }
 },
 "nbformat": 4,
 "nbformat_minor": 4
}
