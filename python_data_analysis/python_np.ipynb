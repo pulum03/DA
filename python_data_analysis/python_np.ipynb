{
 "cells": [
  {
   "cell_type": "code",
   "execution_count": 1,
   "metadata": {},
   "outputs": [],
   "source": [
    "import numpy as np"
   ]
  },
  {
   "cell_type": "code",
   "execution_count": 4,
   "metadata": {},
   "outputs": [
    {
     "name": "stdout",
     "output_type": "stream",
     "text": [
      "[1 2 3]\n",
      "[4 5 6]\n",
      "[[ 7  8  9]\n",
      " [10 11 12]]\n"
     ]
    }
   ],
   "source": [
    "mylist = [1,2,3]\n",
    "x = np.array(mylist)\n",
    "print(x)\n",
    "\n",
    "y = np.array([4,5,6])\n",
    "print(y)\n",
    "\n",
    "m = np.array([[7,8,9], [10,11,12]])\n",
    "print(m)"
   ]
  },
  {
   "cell_type": "code",
   "execution_count": 5,
   "metadata": {},
   "outputs": [
    {
     "name": "stdout",
     "output_type": "stream",
     "text": [
      "[[4 3 1]\n",
      " [5 2 6]\n",
      " [1 1 1]]\n"
     ]
    }
   ],
   "source": [
    "matrix = np.array([[4,3,1],[5,2,6],[1,1,1]])\n",
    "print(matrix)"
   ]
  },
  {
   "cell_type": "code",
   "execution_count": 6,
   "metadata": {},
   "outputs": [
    {
     "name": "stdout",
     "output_type": "stream",
     "text": [
      "(2, 3)\n"
     ]
    }
   ],
   "source": [
    "print(m.shape)"
   ]
  },
  {
   "cell_type": "code",
   "execution_count": 11,
   "metadata": {},
   "outputs": [
    {
     "name": "stdout",
     "output_type": "stream",
     "text": [
      "[ 0  2  4  6  8 10 12 14 16 18 20 22 24 26 28]\n",
      "[[ 0  2  4  6  8]\n",
      " [10 12 14 16 18]\n",
      " [20 22 24 26 28]]\n"
     ]
    }
   ],
   "source": [
    "n = np.arange(0,30,2)\n",
    "print(n)\n",
    "\n",
    "n = n.reshape(3,5)\n",
    "print(n)"
   ]
  },
  {
   "cell_type": "code",
   "execution_count": 17,
   "metadata": {},
   "outputs": [
    {
     "name": "stdout",
     "output_type": "stream",
     "text": [
      "[0.  0.5 1.  1.5 2.  2.5 3.  3.5 4. ]\n",
      "[ 1.          1.47368421  1.94736842  2.42105263  2.89473684  3.36842105\n",
      "  3.84210526  4.31578947  4.78947368  5.26315789  5.73684211  6.21052632\n",
      "  6.68421053  7.15789474  7.63157895  8.10526316  8.57894737  9.05263158\n",
      "  9.52631579 10.        ]\n"
     ]
    }
   ],
   "source": [
    "o = np.linspace(0,4,9)\n",
    "print(o)\n",
    "\n",
    "t = np.linspace(1,10,20)\n",
    "print(t)"
   ]
  },
  {
   "cell_type": "code",
   "execution_count": 19,
   "metadata": {},
   "outputs": [
    {
     "name": "stdout",
     "output_type": "stream",
     "text": [
      "[[0.  0.5 1. ]\n",
      " [1.5 2.  2.5]\n",
      " [3.  3.5 4. ]]\n"
     ]
    }
   ],
   "source": [
    "o.resize(3,3)\n",
    "print(o)"
   ]
  },
  {
   "cell_type": "code",
   "execution_count": 29,
   "metadata": {},
   "outputs": [
    {
     "name": "stdout",
     "output_type": "stream",
     "text": [
      "[[1. 1.]\n",
      " [1. 1.]\n",
      " [1. 1.]]\n",
      "[[0. 0. 0.]\n",
      " [0. 0. 0.]]\n",
      "[[1. 0. 0.]\n",
      " [0. 1. 0.]\n",
      " [0. 0. 1.]]\n",
      "[4 5 6]\n",
      "[[4 0 0]\n",
      " [0 5 0]\n",
      " [0 0 6]]\n"
     ]
    }
   ],
   "source": [
    "ones = np.ones((3,2)) # 1 가득 행렬\n",
    "print(ones)\n",
    "\n",
    "zeros =np.zeros((2,3)) # 0 가득 행렬\n",
    "print(zeros)\n",
    "\n",
    "eye = np.eye(3) # 단위행렬\n",
    "print(eye)\n",
    "\n",
    "diag = np.diag(y)\n",
    "print(y)\n",
    "print(diag)"
   ]
  },
  {
   "cell_type": "code",
   "execution_count": 36,
   "metadata": {},
   "outputs": [
    {
     "name": "stdout",
     "output_type": "stream",
     "text": [
      "[1 2 3 1 2 3 1 2 3]\n",
      "[1 1 1 2 2 2 3 3 3]\n",
      "['a' 'a' 'a' 'a' 'b' 'b' 'b' 'b' 'c' 'c' 'c' 'c']\n",
      "[[1. 1. 1.]\n",
      " [1. 1. 1.]]\n",
      "[[1. 1. 1.]\n",
      " [1. 1. 1.]\n",
      " [2. 2. 2.]\n",
      " [2. 2. 2.]]\n",
      "[[1. 1. 1. 2. 2. 2.]\n",
      " [1. 1. 1. 2. 2. 2.]]\n"
     ]
    }
   ],
   "source": [
    "rep = np.array([1,2,3] * 3)\n",
    "print(rep)\n",
    "\n",
    "rep1 = np.repeat([1,2,3], 3)\n",
    "print(rep1)\n",
    "\n",
    "rep2 = np.repeat(['a', 'b', 'c'], 4)\n",
    "print(rep2)\n",
    "\n",
    "p = np.ones([2,3])\n",
    "print(p)\n",
    "\n",
    "v = np.vstack([p, 2*p]) # 행렬을 수직결합\n",
    "print(v)\n",
    "\n",
    "h = np.hstack([p, 2*p])\n",
    "print(h)"
   ]
  },
  {
   "cell_type": "code",
   "execution_count": 42,
   "metadata": {},
   "outputs": [
    {
     "name": "stdout",
     "output_type": "stream",
     "text": [
      "[5 7 9]\n",
      "[-3 -3 -3]\n",
      "[ 4 10 18]\n",
      "[0.25 0.4  0.5 ]\n",
      "[1 4 9]\n"
     ]
    }
   ],
   "source": [
    "x = np.array([1,2,3])\n",
    "y = np.array([4,5,6])\n",
    "print(x + y)\n",
    "print(x - y)\n",
    "print(x * y)\n",
    "print(x / y)\n",
    "print(x ** 2)"
   ]
  },
  {
   "cell_type": "code",
   "execution_count": 44,
   "metadata": {},
   "outputs": [
    {
     "data": {
      "text/plain": [
       "32"
      ]
     },
     "execution_count": 44,
     "metadata": {},
     "output_type": "execute_result"
    }
   ],
   "source": [
    "x.dot(y) # dot product 연산 1*4 + 2*5 + 3*6"
   ]
  },
  {
   "cell_type": "code",
   "execution_count": 50,
   "metadata": {},
   "outputs": [
    {
     "name": "stdout",
     "output_type": "stream",
     "text": [
      "2\n",
      "[[ 4  5  6]\n",
      " [16 25 36]]\n",
      "[[ 4 16]\n",
      " [ 5 25]\n",
      " [ 6 36]]\n"
     ]
    },
    {
     "data": {
      "text/plain": [
       "dtype('int32')"
      ]
     },
     "execution_count": 50,
     "metadata": {},
     "output_type": "execute_result"
    }
   ],
   "source": [
    "z = np.array([y, y**2])\n",
    "print(len(z))\n",
    "\n",
    "print(z)\n",
    "\n",
    "t = z.T\n",
    "print(t)\n",
    "\n",
    "z.dtype"
   ]
  },
  {
   "cell_type": "code",
   "execution_count": 51,
   "metadata": {},
   "outputs": [
    {
     "data": {
      "text/plain": [
       "dtype('float32')"
      ]
     },
     "execution_count": 51,
     "metadata": {},
     "output_type": "execute_result"
    }
   ],
   "source": [
    "z= z.astype('f')\n",
    "z.dtype"
   ]
  },
  {
   "cell_type": "code",
   "execution_count": 70,
   "metadata": {},
   "outputs": [
    {
     "name": "stdout",
     "output_type": "stream",
     "text": [
      "[  0   1   4   9  16  25  36  49  64  81 100 121 144]\n",
      "0 16 144\n",
      "[ 1  4  9 16]\n",
      "[ 81 100 121 144]\n",
      "[64 36 16  4  0]\n",
      "[ 0  1  2  3  4  5  6  7  8  9 10 11 12 13 14 15 16 17 18 19 20 21 22 23\n",
      " 24 25 26 27 28 29 30 31 32 33 34 35]\n",
      "[[ 0  1  2  3  4  5]\n",
      " [ 6  7  8  9 10 11]\n",
      " [12 13 14 15 16 17]\n",
      " [18 19 20 21 22 23]\n",
      " [24 25 26 27 28 29]\n",
      " [30 31 32 33 34 35]]\n",
      "14\n",
      "[21 22 23]\n",
      "[[ 0  1  2  3  4]\n",
      " [ 6  7  8  9 10]]\n",
      "[30 32 34]\n",
      "[[False False False False False False]\n",
      " [False False False False False False]\n",
      " [False False False False False False]\n",
      " [False False False False False False]\n",
      " [False False False False False False]\n",
      " [False  True  True  True  True  True]]\n",
      "[31 32 33 34 35]\n"
     ]
    }
   ],
   "source": [
    "s = np.arange(13) ** 2\n",
    "print(s)\n",
    "\n",
    "a,b,c = s[0], s[4], s[-1] # 인덱싱\n",
    "\n",
    "print(a,b,c)\n",
    "\n",
    "print(s[1:5])\n",
    "\n",
    "print(s[-4:])\n",
    "\n",
    "print(s[-5::-2])\n",
    "\n",
    "r = np.arange(36)\n",
    "print(r)\n",
    "r.resize((6,6))\n",
    "print(r)\n",
    "\n",
    "print(r[2,2])\n",
    "\n",
    "print(r[3, 3:6])\n",
    "\n",
    "print(r[:2, :-1])\n",
    "\n",
    "print(r[-1, ::2]) # 마지막행 0부터 오른쪽 방향으로 2씩 데이터 출력 # [30, 32, 34]\n",
    "\n",
    "print(r>30) # t/f\n",
    "\n",
    "print(r[r>30])"
   ]
  },
  {
   "cell_type": "code",
   "execution_count": 73,
   "metadata": {},
   "outputs": [
    {
     "name": "stdout",
     "output_type": "stream",
     "text": [
      "[[ 0  1  2  3  4  5]\n",
      " [ 6  7  8  9 10 11]\n",
      " [12 13 14 15 16 17]\n",
      " [18 19 20 21 22 23]\n",
      " [24 25 26 27 28 29]\n",
      " [30 30 30 30 30 30]]\n"
     ]
    }
   ],
   "source": [
    "r[r>30] = 30\n",
    "print(r)"
   ]
  },
  {
   "cell_type": "code",
   "execution_count": null,
   "metadata": {},
   "outputs": [],
   "source": [
    "# Refered by https://engkimbs.tistory.com/ "
   ]
  }
 ],
 "metadata": {
  "kernelspec": {
   "display_name": "Python 3",
   "language": "python",
   "name": "python3"
  },
  "language_info": {
   "codemirror_mode": {
    "name": "ipython",
    "version": 3
   },
   "file_extension": ".py",
   "mimetype": "text/x-python",
   "name": "python",
   "nbconvert_exporter": "python",
   "pygments_lexer": "ipython3",
   "version": "3.6.8"
  }
 },
 "nbformat": 4,
 "nbformat_minor": 4
}
