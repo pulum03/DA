{
 "cells": [
  {
   "cell_type": "code",
   "execution_count": 3,
   "metadata": {},
   "outputs": [
    {
     "data": {
      "text/plain": [
       "{'a': 'Mozilla/5.0 (Windows NT 6.1; WOW64) AppleWebKit/535.11 (KHTML, like Gecko) Chrome/17.0.963.78 Safari/535.11',\n",
       " 'c': 'US',\n",
       " 'nk': 1,\n",
       " 'tz': 'America/New_York',\n",
       " 'gr': 'MA',\n",
       " 'g': 'A6qOVH',\n",
       " 'h': 'wfLQtf',\n",
       " 'l': 'orofrog',\n",
       " 'al': 'en-US,en;q=0.8',\n",
       " 'hh': '1.usa.gov',\n",
       " 'r': 'http://www.facebook.com/l/7AQEFzjSi/1.usa.gov/wfLQtf',\n",
       " 'u': 'http://www.ncbi.nlm.nih.gov/pubmed/22415991',\n",
       " 't': 1331923247,\n",
       " 'hc': 1331822918,\n",
       " 'cy': 'Danvers',\n",
       " 'll': [42.576698, -70.954903]}"
      ]
     },
     "execution_count": 3,
     "metadata": {},
     "output_type": "execute_result"
    }
   ],
   "source": [
    "# pandas를 사용하지 않는 방법\n",
    "# 기본적인 json read\n",
    "import json\n",
    "path = 'usagov_bitly_data2012-03-16-1331923249.txt'\n",
    "\n",
    "records = [json.loads(line) for line in open(path, encoding = 'utf-8')]\n",
    "records[0]['tz']\n",
    "records[0]\n",
    "# records['tz'] # error -> df 구조가 필요"
   ]
  },
  {
   "cell_type": "code",
   "execution_count": 12,
   "metadata": {},
   "outputs": [
    {
     "name": "stdout",
     "output_type": "stream",
     "text": [
      "<class 'pandas.core.frame.DataFrame'>\n",
      "<pandas.core.indexing._LocIndexer object at 0x000002553637BF98>\n",
      "RangeIndex(start=0, stop=3560, step=1)\n",
      "Index(['_heartbeat_', 'a', 'al', 'c', 'cy', 'g', 'gr', 'h', 'hc', 'hh', 'kw',\n",
      "       'l', 'll', 'nk', 'r', 't', 'tz', 'u'],\n",
      "      dtype='object')\n",
      "0          America/New_York\n",
      "1            America/Denver\n",
      "2          America/New_York\n",
      "3         America/Sao_Paulo\n",
      "4          America/New_York\n",
      "5          America/New_York\n",
      "6             Europe/Warsaw\n",
      "7                          \n",
      "8                          \n",
      "9                          \n",
      "10      America/Los_Angeles\n",
      "11         America/New_York\n",
      "12         America/New_York\n",
      "13                      NaN\n",
      "14         America/New_York\n",
      "15           Asia/Hong_Kong\n",
      "16           Asia/Hong_Kong\n",
      "17         America/New_York\n",
      "18           America/Denver\n",
      "19              Europe/Rome\n",
      "20             Africa/Ceuta\n",
      "21         America/New_York\n",
      "22         America/New_York\n",
      "23         America/New_York\n",
      "24            Europe/Madrid\n",
      "25        Asia/Kuala_Lumpur\n",
      "26             Asia/Nicosia\n",
      "27        America/Sao_Paulo\n",
      "28                         \n",
      "29                         \n",
      "               ...         \n",
      "3530    America/Los_Angeles\n",
      "3531                       \n",
      "3532       America/New_York\n",
      "3533       America/New_York\n",
      "3534        America/Chicago\n",
      "3535        America/Chicago\n",
      "3536                       \n",
      "3537    America/Tegucigalpa\n",
      "3538    America/Los_Angeles\n",
      "3539    America/Los_Angeles\n",
      "3540         America/Denver\n",
      "3541    America/Los_Angeles\n",
      "3542    America/Los_Angeles\n",
      "3543                    NaN\n",
      "3544        America/Chicago\n",
      "3545        America/Chicago\n",
      "3546    America/Los_Angeles\n",
      "3547       America/New_York\n",
      "3548        America/Chicago\n",
      "3549       Europe/Stockholm\n",
      "3550       America/New_York\n",
      "3551                       \n",
      "3552        America/Chicago\n",
      "3553       America/New_York\n",
      "3554       America/New_York\n",
      "3555       America/New_York\n",
      "3556        America/Chicago\n",
      "3557         America/Denver\n",
      "3558    America/Los_Angeles\n",
      "3559       America/New_York\n",
      "Name: tz, Length: 3560, dtype: object\n"
     ]
    }
   ],
   "source": [
    "# pandas로 읽기\n",
    "import pandas as pd\n",
    "data1 = pd.read_json(path, lines = True, encoding = 'utf-8')\n",
    "print(type(data1))\n",
    "print(data1.loc)\n",
    "print(data1.index)\n",
    "print(data1.columns)\n",
    "print(data1['tz'])\n"
   ]
  },
  {
   "cell_type": "code",
   "execution_count": 18,
   "metadata": {},
   "outputs": [
    {
     "name": "stdout",
     "output_type": "stream",
     "text": [
      "   _heartbeat_                                                  a  \\\n",
      "0          NaN  Mozilla/5.0 (Windows NT 6.1; WOW64) AppleWebKi...   \n",
      "1          NaN                             GoogleMaps/RochesterNY   \n",
      "\n",
      "               al   c       cy       g  gr       h            hc         hh  \\\n",
      "0  en-US,en;q=0.8  US  Danvers  A6qOVH  MA  wfLQtf  1.331823e+09  1.usa.gov   \n",
      "1             NaN  US    Provo  mwszkS  UT  mwszkS  1.308262e+09       j.mp   \n",
      "\n",
      "    kw        l                        ll   nk  \\\n",
      "0  NaN  orofrog   [42.576698, -70.954903]  1.0   \n",
      "1  NaN    bitly  [40.218102, -111.613297]  0.0   \n",
      "\n",
      "                                                   r             t  \\\n",
      "0  http://www.facebook.com/l/7AQEFzjSi/1.usa.gov/...  1.331923e+09   \n",
      "1                           http://www.AwareMap.com/  1.331923e+09   \n",
      "\n",
      "                 tz                                            u  \n",
      "0  America/New_York  http://www.ncbi.nlm.nih.gov/pubmed/22415991  \n",
      "1    America/Denver  http://www.monroecounty.gov/etc/911/rss.php  \n",
      "-----------\n",
      "   _heartbeat_                                                  a  \\\n",
      "0          NaN  Mozilla/5.0 (Windows NT 6.1; WOW64) AppleWebKi...   \n",
      "1          NaN                             GoogleMaps/RochesterNY   \n",
      "2          NaN  Mozilla/4.0 (compatible; MSIE 8.0; Windows NT ...   \n",
      "\n",
      "               al   c          cy       g  gr       h            hc  \\\n",
      "0  en-US,en;q=0.8  US     Danvers  A6qOVH  MA  wfLQtf  1.331823e+09   \n",
      "1             NaN  US       Provo  mwszkS  UT  mwszkS  1.308262e+09   \n",
      "2           en-US  US  Washington  xxr3Qb  DC  xxr3Qb  1.331920e+09   \n",
      "\n",
      "          hh   kw        l                        ll   nk  \\\n",
      "0  1.usa.gov  NaN  orofrog   [42.576698, -70.954903]  1.0   \n",
      "1       j.mp  NaN    bitly  [40.218102, -111.613297]  0.0   \n",
      "2  1.usa.gov  NaN    bitly     [38.9007, -77.043098]  1.0   \n",
      "\n",
      "                                                   r             t  \\\n",
      "0  http://www.facebook.com/l/7AQEFzjSi/1.usa.gov/...  1.331923e+09   \n",
      "1                           http://www.AwareMap.com/  1.331923e+09   \n",
      "2                               http://t.co/03elZC4Q  1.331923e+09   \n",
      "\n",
      "                 tz                                                  u  \n",
      "0  America/New_York        http://www.ncbi.nlm.nih.gov/pubmed/22415991  \n",
      "1    America/Denver        http://www.monroecounty.gov/etc/911/rss.php  \n",
      "2  America/New_York  http://boxer.senate.gov/en/press/releases/0316...  \n",
      "-----------\n",
      "_heartbeat_                                                  NaN\n",
      "a              Mozilla/5.0 (Windows NT 6.1; WOW64) AppleWebKi...\n",
      "al                                                en-US,en;q=0.8\n",
      "c                                                             US\n",
      "cy                                                       Danvers\n",
      "g                                                         A6qOVH\n",
      "gr                                                            MA\n",
      "h                                                         wfLQtf\n",
      "hc                                                   1.33182e+09\n",
      "hh                                                     1.usa.gov\n",
      "kw                                                           NaN\n",
      "l                                                        orofrog\n",
      "ll                                       [42.576698, -70.954903]\n",
      "nk                                                             1\n",
      "r              http://www.facebook.com/l/7AQEFzjSi/1.usa.gov/...\n",
      "t                                                    1.33192e+09\n",
      "tz                                              America/New_York\n",
      "u                    http://www.ncbi.nlm.nih.gov/pubmed/22415991\n",
      "Name: 0, dtype: object\n",
      "-----------\n",
      "America/New_York\n"
     ]
    }
   ],
   "source": [
    "## 데이터 접근\n",
    "print(data1[0:2])\n",
    "print('-----------')\n",
    "print(data1.loc[0:2])\n",
    "print('-----------')\n",
    "print(data1.loc[0])\n",
    "print('-----------')\n",
    "print(data1.loc[0, 'tz'])"
   ]
  },
  {
   "cell_type": "code",
   "execution_count": 22,
   "metadata": {},
   "outputs": [
    {
     "name": "stderr",
     "output_type": "stream",
     "text": [
      "C:\\Users\\pulum\\AppData\\Local\\conda\\conda\\envs\\TF_VS_35\\lib\\site-packages\\ipykernel_launcher.py:5: DeprecationWarning: \n",
      ".ix is deprecated. Please use\n",
      ".loc for label based indexing or\n",
      ".iloc for positional indexing\n",
      "\n",
      "See the documentation here:\n",
      "http://pandas.pydata.org/pandas-docs/stable/indexing.html#ix-indexer-is-deprecated\n",
      "  \"\"\"\n"
     ]
    },
    {
     "data": {
      "text/plain": [
       "0    en-US,en;q=0.8\n",
       "1               NaN\n",
       "2             en-US\n",
       "3             pt-br\n",
       "Name: al, dtype: object"
      ]
     },
     "execution_count": 22,
     "metadata": {},
     "output_type": "execute_result"
    }
   ],
   "source": [
    "# pandas로 DataFrame 형태로 변환\n",
    "from pandas import DataFrame, Series\n",
    "df1 = DataFrame(records)\n",
    "#df1.loc[0:3, 'al'] \n",
    "df1.ix[0:3, 2] # ix는 integer position과 label 모두 사용 가능\n",
    "df1.iloc[0:4, 2]\n",
    "# loc + iloc = ix"
   ]
  },
  {
   "cell_type": "code",
   "execution_count": 30,
   "metadata": {},
   "outputs": [
    {
     "name": "stdout",
     "output_type": "stream",
     "text": [
      "['America/New_York', 'America/Denver', 'America/New_York', 'America/Sao_Paulo', 'America/New_York', 'America/New_York', 'Europe/Warsaw', '', '', '', 'America/Los_Angeles', 'America/New_York', 'America/New_York', 'America/New_York', 'Asia/Hong_Kong', 'Asia/Hong_Kong', 'America/New_York', 'America/Denver', 'Europe/Rome', 'Africa/Ceuta', 'America/New_York', 'America/New_York', 'America/New_York', 'Europe/Madrid', 'Asia/Kuala_Lumpur', 'Asia/Nicosia', 'America/Sao_Paulo', '', '', 'Europe/London', 'America/New_York', 'Pacific/Honolulu', 'America/Chicago', '', '', 'Pacific/Honolulu', '', 'America/New_York', 'America/New_York', 'America/New_York', 'America/Chicago', 'Europe/Rome', 'America/New_York', 'America/New_York', 'America/Los_Angeles', '', '', 'America/New_York', 'America/New_York', 'Europe/Malta', 'America/New_York', 'America/New_York', '', 'America/Los_Angeles', 'America/Sao_Paulo', '', 'Asia/Hong_Kong', 'Asia/Hong_Kong', 'Pacific/Honolulu', 'Pacific/Honolulu', 'Pacific/Honolulu', 'America/New_York', 'Europe/London', 'America/New_York', '', 'Europe/Lisbon', 'Europe/Paris', 'Europe/London', 'Europe/Copenhagen', '', 'Europe/Rome', 'America/New_York', 'America/New_York', '', 'Europe/London', 'Europe/Rome', 'America/New_York', 'America/Chicago', 'America/New_York', 'Europe/Paris', 'America/Denver', '', '', 'America/Los_Angeles', 'America/Mazatlan', '', 'Europe/Dublin', 'America/New_York', 'Asia/Hong_Kong', 'Asia/Hong_Kong', 'America/New_York', '', 'America/New_York', 'Europe/Brussels', 'America/Sao_Paulo', 'America/New_York', 'America/Vancouver', 'America/New_York', 'Europe/Amsterdam', 'Europe/Prague', 'America/New_York', 'America/Denver', '', 'America/New_York', 'America/New_York', 'Europe/Stockholm', 'America/New_York', 'America/Sao_Paulo', 'America/Anchorage', 'America/New_York', 'America/New_York', 'America/New_York', 'America/New_York', 'America/New_York', 'Asia/Kuala_Lumpur', '', '', 'America/Chicago', 'America/Chicago', 'America/New_York', 'Asia/Bangkok', 'Europe/Berlin', 'America/Los_Angeles', 'America/Denver', 'Europe/Rome', 'America/New_York', '', 'America/New_York', 'America/Rainy_River', 'America/New_York', 'America/Los_Angeles', 'America/New_York', 'America/Denver', 'America/New_York', 'America/New_York', 'Europe/Warsaw', 'America/New_York', 'America/New_York', 'America/New_York', 'America/New_York', 'Europe/Rome', 'America/Chicago', 'Europe/Warsaw', 'America/Denver', 'Europe/Warsaw', 'Europe/Rome', 'America/New_York', 'America/Los_Angeles', '', 'America/Los_Angeles', 'Pacific/Honolulu', 'America/New_York', 'America/Denver', 'Europe/Berlin', '', 'America/Chicago', 'America/Chicago', 'America/New_York', 'Europe/Prague', 'America/Denver', 'America/Chicago', 'Europe/Madrid', 'America/Sao_Paulo', 'America/New_York', '', '', 'Europe/Budapest', 'Asia/Bangkok', '', 'America/Los_Angeles', '', 'America/Anchorage', 'America/New_York', 'Europe/Warsaw', 'America/Chicago', 'America/New_York', '', '', 'Europe/Madrid', 'Asia/Tokyo', 'America/Denver', 'Europe/London', '', 'America/New_York', 'Pacific/Honolulu', 'America/Chicago', 'America/New_York', 'Europe/Vienna', 'America/New_York', 'America/New_York', 'America/Denver', 'America/Chicago', 'Pacific/Honolulu', 'America/New_York', 'America/Phoenix', 'America/New_York', '', 'America/Los_Angeles', 'Europe/Lisbon', 'America/Los_Angeles', 'America/New_York', 'Europe/Madrid', '', 'Pacific/Honolulu', 'Pacific/Honolulu', 'America/Denver', 'America/Chicago', 'America/Los_Angeles', 'America/Rainy_River', '', 'America/Chicago', 'Asia/Jerusalem', 'Europe/Dublin', 'America/New_York', 'Asia/Karachi', 'America/Los_Angeles', 'Pacific/Honolulu', 'Europe/Vienna', 'Pacific/Honolulu', 'America/Chicago', 'America/New_York', 'America/Chicago', 'Europe/Madrid', 'America/Denver', 'America/Bogota', 'America/Indianapolis', '', 'America/Rainy_River', 'America/New_York', 'America/Chicago', 'America/Montreal', 'Asia/Calcutta', 'America/New_York', 'Europe/Stockholm', 'Europe/Vienna', 'America/Denver', 'Europe/Lisbon', 'Europe/London', 'Europe/Vienna', 'Europe/Amsterdam', 'Europe/Skopje', 'America/Chicago', 'America/Chicago', '', 'America/Rainy_River', '', 'America/New_York', 'Europe/London', '', 'Europe/Prague', '', 'America/New_York', 'Europe/London', 'Europe/Berlin', 'America/New_York', 'America/New_York', '', 'America/Chicago', 'Europe/Madrid', 'America/Vancouver', 'Europe/Madrid', 'America/Indianapolis', 'America/Chicago', 'America/New_York', 'America/Rainy_River', 'Europe/Madrid', 'Asia/Beirut', 'America/New_York', 'Europe/Madrid', 'America/New_York', 'America/New_York', 'America/New_York', 'Europe/London', 'Europe/Berlin', 'America/New_York', 'Australia/NSW', 'America/Denver', 'America/Los_Angeles', 'America/Los_Angeles', 'America/New_York', 'America/New_York', 'America/New_York', 'America/New_York', 'America/Chicago', 'America/New_York', 'America/New_York', 'Europe/Rome', '', 'Europe/Budapest', 'America/New_York', 'America/New_York', 'America/New_York', 'Europe/Rome', 'America/New_York', 'America/Denver', '', 'Europe/London', 'America/New_York', 'America/Los_Angeles', 'America/Chicago', 'America/Vancouver', 'Europe/Berlin', 'America/New_York', 'America/Chicago', '', 'America/New_York', 'America/Los_Angeles', 'America/Los_Angeles', 'America/Los_Angeles', 'America/Chicago', 'America/New_York', 'America/New_York', 'Pacific/Honolulu', 'America/New_York', 'America/Los_Angeles', 'America/New_York', 'Pacific/Honolulu', '', 'Europe/Madrid', 'Europe/Paris', 'America/New_York', 'Asia/Karachi', '', 'America/New_York', 'America/New_York', 'America/New_York', 'America/Chicago', 'America/New_York', 'America/New_York', 'America/New_York', '', 'America/Los_Angeles', 'America/Chicago', 'Europe/Berlin', 'America/Los_Angeles', 'America/New_York', 'America/Los_Angeles', 'America/New_York', 'America/Los_Angeles', 'Chile/Continental', '', 'America/Denver', '', 'America/Los_Angeles', 'America/New_York', 'America/New_York', 'America/Chicago', '', '', 'America/Halifax', 'America/New_York', 'America/Denver', '', '', 'America/Chicago', 'America/Chicago', 'America/New_York', 'America/Chicago', 'America/Vancouver', '', '', '', 'America/Denver', '', 'America/Chicago', 'America/Los_Angeles', 'Europe/Madrid', '', 'Pacific/Honolulu', '', '', '', 'Pacific/Honolulu', 'America/Indianapolis', '', 'America/New_York', 'America/Chicago', '', 'America/New_York', 'Asia/Calcutta', 'Europe/Stockholm', '', 'America/Los_Angeles', 'America/New_York', 'America/Denver', 'America/New_York', 'America/Denver', 'America/New_York', 'Europe/Warsaw', 'America/Los_Angeles', 'America/Chicago', '', 'America/New_York', 'America/Denver', 'America/New_York', 'America/Chicago', '', 'Europe/Warsaw', 'America/Los_Angeles', 'Europe/Amsterdam', 'America/Chicago', 'America/New_York', 'America/New_York', 'America/New_York', 'Europe/Rome', 'America/Edmonton', 'America/New_York', 'America/Los_Angeles', 'America/Phoenix', 'America/Denver', 'America/Los_Angeles', 'America/Phoenix', 'America/Los_Angeles', '', 'America/New_York', 'America/Chicago', 'America/New_York', 'America/New_York', 'America/New_York', 'America/Los_Angeles', 'America/New_York', 'Asia/Tokyo', 'Pacific/Honolulu', 'America/Los_Angeles', 'America/Chicago', 'America/New_York', '', 'America/New_York', 'America/Chicago', 'America/New_York', 'America/Los_Angeles', 'America/New_York', 'America/Los_Angeles', 'America/New_York', 'Europe/Brussels', 'America/Denver', 'Europe/Bratislava', 'America/Los_Angeles', 'America/New_York', 'America/New_York', 'America/New_York', 'Europe/Madrid', 'America/New_York', 'America/New_York', 'America/New_York', 'America/New_York', 'America/New_York', 'America/Recife', '', 'America/New_York', 'America/New_York', 'America/New_York', 'America/Chicago', 'Africa/Cairo', 'America/New_York', 'Asia/Istanbul', 'America/New_York', '', 'America/New_York', 'Europe/London', '', '', 'America/Vancouver', 'America/Los_Angeles', '', 'America/Los_Angeles', 'America/New_York', 'America/New_York', 'America/Denver', 'Asia/Tokyo', 'America/Chicago', 'America/Chicago', '', 'America/New_York', 'America/New_York', 'Europe/London', 'Pacific/Honolulu', 'Europe/Berlin', 'America/Chicago', 'America/New_York', '', 'America/Los_Angeles', 'Asia/Istanbul', 'Europe/London', 'Asia/Novosibirsk', 'America/Los_Angeles', '', 'America/Chicago', 'America/Montreal', 'America/Denver', 'America/New_York', 'America/New_York', 'America/New_York', '', 'America/Los_Angeles', 'Pacific/Honolulu', 'Asia/Istanbul', 'America/New_York', 'Asia/Bangkok', 'America/New_York', 'America/Los_Angeles', '', 'America/New_York', 'America/New_York', 'Asia/Tokyo', '', '', 'America/New_York', 'America/New_York', '', 'America/Rainy_River', 'America/New_York', 'America/New_York', 'America/New_York', 'America/New_York', 'America/Chicago', 'America/New_York', '', '', 'America/Rainy_River', 'America/New_York', '', '', 'America/New_York', 'America/New_York', 'America/New_York', 'Asia/Tokyo', 'America/Los_Angeles', '', 'America/New_York', 'America/Sao_Paulo', 'America/New_York', 'America/New_York', 'America/New_York', 'America/New_York', 'America/New_York', 'America/New_York', '', '', 'Europe/Moscow', 'America/New_York', 'America/Denver', 'America/Vancouver', 'America/Sao_Paulo', 'America/Los_Angeles', 'America/Los_Angeles', 'America/Los_Angeles', 'America/Los_Angeles', 'America/Los_Angeles', 'America/New_York', 'America/New_York', 'America/Chicago', 'America/New_York', 'America/Vancouver', 'America/New_York', 'Asia/Tokyo', 'America/Denver', 'America/New_York', 'America/Los_Angeles', 'America/Chicago', 'America/Los_Angeles', 'America/Los_Angeles', 'America/New_York', 'America/Los_Angeles', '', 'America/New_York', 'America/New_York', 'America/New_York', 'America/Chicago', 'America/Los_Angeles', 'America/Chicago', 'America/Chicago', 'America/New_York', 'America/New_York', 'America/Los_Angeles', '', 'America/New_York', 'America/New_York', '', 'America/New_York', '', '', 'Europe/Sofia', '', 'America/New_York', 'Asia/Tokyo', '', 'Europe/Rome', 'America/New_York', 'America/Bogota', 'America/New_York', '', 'Africa/Cairo', 'America/New_York', 'America/Los_Angeles', 'America/New_York', 'America/Los_Angeles', 'America/Los_Angeles', 'America/New_York', '', '', 'Asia/Tokyo', 'America/Denver', '', 'America/New_York', 'America/New_York', '', 'America/New_York', 'America/Chicago', 'America/New_York', 'America/New_York', 'America/Phoenix', 'America/New_York', '', 'America/Denver', 'America/Los_Angeles', 'America/Sao_Paulo', 'America/Chicago', 'Europe/Berlin', 'America/New_York', 'Europe/Ljubljana', 'Asia/Tokyo', 'Europe/Copenhagen', 'America/New_York', 'America/New_York', '', '', '', 'America/Mexico_City', '', 'Europe/Helsinki', 'Europe/Bucharest', 'Asia/Tokyo', 'America/Chicago', 'America/New_York', 'America/New_York', 'America/Los_Angeles', 'America/Chicago', 'America/New_York', 'America/New_York', 'America/New_York', 'America/Chicago', 'America/New_York', '', 'America/New_York', 'America/Chicago', 'America/New_York', 'America/New_York', '', 'Europe/London', 'Asia/Tokyo', '', 'America/Denver', 'America/Denver', 'Europe/Zurich', 'America/New_York', 'America/New_York', 'America/Denver', 'America/New_York', 'America/New_York', 'America/Los_Angeles', 'America/New_York', 'America/New_York', 'America/New_York', 'America/New_York', 'America/New_York', 'America/Sao_Paulo', 'America/Chicago', 'Europe/Madrid', 'America/Los_Angeles', 'Asia/Istanbul', 'America/New_York', 'America/New_York', '', 'Asia/Tokyo', 'America/New_York', 'America/New_York', 'America/Denver', '', 'America/Chicago', 'America/New_York', 'America/Los_Angeles', 'America/New_York', '', 'America/Los_Angeles', 'Europe/London', 'America/Los_Angeles', 'America/Rainy_River', 'America/New_York', 'America/New_York', '', 'America/New_York', 'America/New_York', 'Asia/Tokyo', 'America/New_York', 'America/New_York', 'America/New_York', 'America/New_York', 'America/Los_Angeles', 'America/Mexico_City', 'America/New_York', 'America/New_York', '', 'Europe/Berlin', 'America/New_York', 'America/New_York', '', 'America/New_York', 'America/New_York', 'America/Denver', 'America/Puerto_Rico', 'America/Puerto_Rico', 'Asia/Tokyo', '', 'America/New_York', 'America/New_York', 'America/Chicago', 'America/New_York', '', 'America/Rainy_River', 'Asia/Tokyo', '', 'America/New_York', 'America/New_York', 'America/Denver', 'America/New_York', 'America/New_York', 'Europe/Rome', 'America/New_York', 'America/New_York', 'America/Denver', 'America/Chicago', 'America/New_York', 'America/New_York', 'America/Chicago', 'Asia/Tokyo', 'America/Los_Angeles', '', 'America/Denver', 'America/New_York', 'America/New_York', 'Europe/Moscow', '', 'America/Los_Angeles', 'America/Chicago', 'Europe/Madrid', '', 'America/Monterrey', 'America/Chicago', 'America/New_York', 'America/New_York', 'America/Chicago', '', 'Asia/Tokyo', 'Europe/Moscow', 'America/Mexico_City', 'America/Los_Angeles', '', 'Asia/Hong_Kong', '', 'America/New_York', 'America/New_York', 'America/Sao_Paulo', 'America/Los_Angeles', 'America/New_York', 'Asia/Hong_Kong', 'America/Los_Angeles', 'America/New_York', 'America/New_York', 'America/Los_Angeles', 'Europe/Athens', 'America/Los_Angeles', 'America/New_York', 'Europe/Prague', 'America/New_York', 'America/New_York', 'America/Los_Angeles', 'America/Los_Angeles', 'America/Los_Angeles', 'America/New_York', 'America/Los_Angeles', 'America/Los_Angeles', '', 'Asia/Tokyo', '', 'America/Los_Angeles', 'America/Los_Angeles', 'America/Los_Angeles', 'America/Los_Angeles', 'America/New_York', 'America/New_York', 'America/Denver', 'America/Denver', 'America/Chicago', '', 'America/New_York', 'America/New_York', 'America/New_York', 'America/Los_Angeles', 'America/New_York', 'America/New_York', 'America/New_York', '', 'America/Chicago', 'America/New_York', 'America/Chicago', 'America/Los_Angeles', 'America/Denver', 'America/New_York', 'America/New_York', 'America/Los_Angeles', 'America/Los_Angeles', 'America/Los_Angeles', 'America/Denver', 'America/New_York', 'Asia/Tokyo', 'America/New_York', 'America/Chicago', 'Europe/Lisbon', '', '', '', 'Europe/London', 'America/New_York', '', 'America/Los_Angeles', '', 'America/Chicago', 'America/New_York', '', '', 'America/Los_Angeles', '', 'America/New_York', 'America/Los_Angeles', 'America/Los_Angeles', 'America/Los_Angeles', 'America/New_York', 'America/Indianapolis', 'America/New_York', 'America/Los_Angeles', 'America/Los_Angeles', '', 'America/New_York', '', '', 'Asia/Hong_Kong', 'Asia/Hong_Kong', 'Asia/Tokyo', 'America/New_York', 'America/New_York', 'America/New_York', 'America/New_York', 'America/New_York', 'America/New_York', 'America/Chicago', 'America/Los_Angeles', 'America/New_York', 'America/Winnipeg', 'Europe/London', 'Europe/Riga', 'America/New_York', 'America/New_York', 'America/New_York', '', 'America/New_York', 'Pacific/Honolulu', '', 'Europe/Stockholm', '', 'Asia/Tokyo', '', 'America/Los_Angeles', 'America/Denver', '', 'America/New_York', 'America/New_York', 'America/New_York', 'America/New_York', 'America/Denver', 'America/New_York', 'America/New_York', 'America/Chicago', 'America/New_York', '', 'Europe/Bucharest', 'Europe/Rome', 'America/Chicago', 'Europe/Rome', 'America/Los_Angeles', '', '', 'America/Mexico_City', '', 'America/Los_Angeles', 'Asia/Tokyo', 'Asia/Tokyo', 'America/Chicago', 'America/Denver', 'America/New_York', 'Chile/Continental', 'Asia/Istanbul', 'Europe/London', 'America/New_York', '', 'Europe/London', 'America/Los_Angeles', 'America/Mexico_City', 'America/New_York', 'America/New_York', 'America/New_York', 'America/Los_Angeles', '', 'America/New_York', 'America/Sao_Paulo', 'Pacific/Honolulu', 'America/Los_Angeles', '', 'Asia/Tokyo', 'America/New_York', '', 'Europe/Paris', 'America/New_York', 'Pacific/Honolulu', 'America/Chicago', 'America/Denver', 'America/New_York', 'America/New_York', 'America/New_York', '', 'America/Chicago', '', '', 'America/Los_Angeles', 'America/Los_Angeles', 'America/New_York', '', 'America/New_York', '', 'America/New_York', 'America/New_York', 'America/New_York', 'Europe/Madrid', 'Europe/Warsaw', 'America/Los_Angeles', 'America/Chicago', 'America/Chicago', 'America/New_York', 'America/Los_Angeles', 'America/New_York', 'America/Los_Angeles', 'Europe/Berlin', 'America/New_York', 'Chile/Continental', 'America/Denver', 'America/Los_Angeles', 'America/New_York', 'America/New_York', 'America/New_York', 'America/Phoenix', 'America/New_York', 'America/Chicago', 'Europe/Madrid', 'America/New_York', 'America/Rainy_River', '', 'Chile/Continental', 'America/New_York', 'America/Chicago', 'Asia/Tokyo', 'America/Los_Angeles', 'America/New_York', 'America/Denver', 'America/New_York', 'America/New_York', 'America/Argentina/Buenos_Aires', 'America/New_York', 'America/Los_Angeles', 'Europe/Vienna', 'America/New_York', 'America/New_York', 'America/New_York', 'Europe/Paris', 'America/New_York', 'America/Los_Angeles', 'America/New_York', 'America/Chicago', 'Asia/Tokyo', '', 'America/Anchorage', '', 'America/New_York', 'America/New_York', 'America/Chicago', 'America/New_York', 'America/Chicago', 'America/Los_Angeles', 'America/Los_Angeles', 'America/New_York', 'America/New_York', 'America/New_York', 'America/New_York', 'Asia/Tokyo', 'Pacific/Honolulu', 'Pacific/Honolulu', '', 'America/New_York', 'America/Los_Angeles', 'America/Mexico_City', 'Asia/Tokyo', 'America/Chicago', 'Europe/Athens', 'America/New_York', '', 'Asia/Tokyo', 'America/Chicago', 'America/Denver', 'America/Chicago', 'America/Puerto_Rico', 'America/Chicago', 'America/New_York', 'America/New_York', 'America/Mexico_City', 'America/Chicago', 'America/Chicago', 'America/Chicago', '', 'America/Denver', 'America/New_York', 'America/Chicago', 'America/Denver', 'America/Chicago', 'America/Chicago', 'Europe/London', 'Asia/Tokyo', 'America/New_York', 'America/New_York', 'America/New_York', 'America/Chicago', 'America/Los_Angeles', '', 'America/New_York', 'Europe/London', 'America/Chicago', 'America/New_York', 'America/Los_Angeles', 'America/Los_Angeles', 'America/New_York', '', 'America/Los_Angeles', 'Europe/Copenhagen', 'America/New_York', 'America/New_York', 'America/New_York', '', 'America/New_York', 'America/New_York', 'Asia/Dubai', 'America/New_York', '', 'America/New_York', 'Europe/Warsaw', '', 'America/New_York', '', 'America/New_York', 'America/Los_Angeles', 'America/Chicago', 'America/New_York', '', '', 'America/Denver', 'America/Los_Angeles', 'America/Los_Angeles', 'America/Los_Angeles', 'Europe/Paris', 'Asia/Tokyo', 'America/Chicago', 'America/Los_Angeles', 'America/New_York', 'America/Chicago', 'America/New_York', 'Europe/Oslo', 'America/Chicago', 'America/Los_Angeles', 'America/Chicago', 'America/Denver', 'America/New_York', '', 'America/New_York', 'America/New_York', 'America/New_York', 'America/Chicago', 'America/New_York', 'America/New_York', 'Europe/Amsterdam', 'Asia/Tokyo', 'America/Puerto_Rico', 'America/Puerto_Rico', 'America/New_York', 'America/New_York', 'America/New_York', 'America/New_York', 'America/Los_Angeles', 'Asia/Yekaterinburg', 'America/New_York', 'America/New_York', 'America/Chicago', 'America/Los_Angeles', 'America/Chicago', '', 'America/New_York', 'Europe/Bratislava', '', 'America/New_York', 'America/New_York', 'America/New_York', 'Europe/Rome', 'America/New_York', 'Africa/Cairo', 'America/Rainy_River', 'America/Los_Angeles', 'America/New_York', 'America/Denver', 'America/Denver', 'America/Denver', 'America/Chicago', 'America/Chicago', 'America/Los_Angeles', '', 'Europe/Rome', 'Asia/Manila', '', 'America/Indianapolis', 'America/New_York', 'America/New_York', 'America/Denver', '', 'America/New_York', '', '', 'America/New_York', '', 'Asia/Tokyo', 'America/New_York', 'America/Los_Angeles', '', 'America/New_York', 'America/New_York', 'America/New_York', 'America/Chicago', 'America/New_York', 'Europe/London', '', 'America/New_York', 'America/Los_Angeles', 'America/New_York', 'America/Chicago', '', 'America/New_York', 'America/Los_Angeles', 'America/New_York', 'America/Los_Angeles', 'America/New_York', 'America/New_York', '', 'America/Los_Angeles', 'America/New_York', 'America/New_York', 'America/Chicago', 'Europe/London', 'America/Los_Angeles', 'Europe/Madrid', 'America/Los_Angeles', 'America/Chicago', 'Europe/Prague', '', 'America/New_York', 'America/Denver', 'America/New_York', 'America/Los_Angeles', 'America/Los_Angeles', 'America/Chicago', 'America/Los_Angeles', 'America/Chicago', 'America/New_York', 'America/New_York', 'America/New_York', '', 'America/Sao_Paulo', 'America/Denver', 'America/New_York', 'Asia/Bangkok', 'America/Los_Angeles', 'America/New_York', 'Asia/Bangkok', 'Pacific/Honolulu', '', 'America/Los_Angeles', 'America/New_York', 'America/New_York', 'Europe/Berlin', 'Europe/Moscow', 'America/Chicago', 'America/Los_Angeles', 'America/New_York', 'America/Los_Angeles', 'America/Los_Angeles', 'Europe/Berlin', 'Europe/Berlin', 'America/New_York', '', '', 'Europe/Stockholm', 'America/Los_Angeles', '', 'America/Sao_Paulo', 'Europe/Stockholm', 'Europe/Paris', 'America/New_York', 'America/Los_Angeles', '', 'America/New_York', '', 'America/New_York', 'Europe/London', '', 'America/New_York', 'America/New_York', 'America/New_York', 'America/Chicago', 'America/Chicago', 'America/New_York', 'America/Los_Angeles', 'America/New_York', 'America/Denver', 'America/New_York', 'America/Mexico_City', '', 'America/New_York', 'America/New_York', 'America/New_York', 'America/Chicago', 'Europe/Zurich', '', 'Europe/Brussels', 'America/New_York', 'America/New_York', '', 'America/New_York', '', '', 'America/New_York', 'America/New_York', 'America/New_York', 'America/Denver', 'America/New_York', '', 'America/Los_Angeles', '', 'America/Chicago', 'America/Los_Angeles', '', 'Europe/Berlin', '', '', 'America/New_York', 'America/New_York', 'America/New_York', 'America/New_York', 'America/Los_Angeles', 'America/Los_Angeles', 'Europe/London', '', 'America/Mexico_City', '', '', '', '', '', 'America/New_York', '', 'America/New_York', 'America/Chicago', 'America/Los_Angeles', 'America/New_York', 'America/New_York', 'Europe/Paris', 'Europe/London', '', '', '', 'America/Los_Angeles', 'America/Denver', 'America/Los_Angeles', 'America/New_York', 'America/Los_Angeles', 'America/Los_Angeles', '', 'America/Chicago', 'America/New_York', 'Europe/London', 'America/Mexico_City', 'America/Denver', 'America/Los_Angeles', 'America/New_York', '', '', '', 'America/Sao_Paulo', 'Australia/NSW', 'America/New_York', 'America/Los_Angeles', '', '', 'Europe/Athens', '', 'America/Los_Angeles', '', 'America/New_York', 'America/New_York', 'America/New_York', '', 'America/New_York', 'America/New_York', 'America/New_York', 'America/Los_Angeles', '', '', '', 'America/New_York', '', 'America/Chicago', '', 'America/New_York', 'America/Chicago', 'America/New_York', '', 'America/New_York', 'Europe/Berlin', 'America/Denver', 'Europe/Amsterdam', 'America/Los_Angeles', 'America/New_York', 'America/New_York', 'Asia/Beirut', 'America/New_York', '', 'America/Caracas', 'America/New_York', 'Asia/Riyadh', 'America/Denver', 'America/Montevideo', 'America/Denver', 'America/Los_Angeles', 'America/New_York', '', 'America/Los_Angeles', 'America/Los_Angeles', 'America/Chicago', 'America/Denver', 'America/Chicago', 'America/Los_Angeles', 'America/Los_Angeles', '', 'America/Los_Angeles', '', 'America/Los_Angeles', 'America/New_York', 'America/New_York', 'America/Los_Angeles', 'Europe/Helsinki', 'America/New_York', '', 'America/New_York', 'America/Argentina/Mendoza', 'America/Denver', '', 'America/New_York', 'America/New_York', '', 'America/Los_Angeles', '', 'America/New_York', '', 'Asia/Seoul', 'America/Sao_Paulo', '', '', 'America/New_York', 'America/Sao_Paulo', '', 'Europe/London', 'America/New_York', 'America/Los_Angeles', 'America/Chicago', 'Europe/Athens', 'America/Chicago', 'America/New_York', 'America/New_York', 'America/Mexico_City', 'Europe/Berlin', 'America/New_York', 'America/Los_Angeles', 'America/New_York', '', 'America/Chicago', 'America/New_York', 'Europe/Uzhgorod', 'America/Edmonton', 'America/Denver', '', '', 'America/New_York', 'Europe/London', 'Australia/Queensland', 'America/Los_Angeles', 'America/New_York', '', '', 'Europe/Berlin', '', 'America/Los_Angeles', 'America/Chicago', 'America/New_York', 'America/New_York', 'Asia/Istanbul', 'America/Los_Angeles', 'America/Denver', 'Europe/Belgrade', '', '', 'America/New_York', '', 'Europe/Prague', 'America/New_York', 'America/Los_Angeles', 'America/Los_Angeles', 'America/Los_Angeles', 'America/Los_Angeles', 'America/New_York', 'America/Chicago', 'Europe/Lisbon', '', 'America/New_York', '', 'America/New_York', 'America/New_York', 'America/Chicago', 'America/New_York', 'America/New_York', '', '', 'America/Los_Angeles', 'America/Denver', 'America/New_York', 'America/New_York', 'America/New_York', 'America/New_York', 'Pacific/Honolulu', 'America/New_York', 'America/New_York', 'America/Los_Angeles', 'America/New_York', 'America/New_York', 'America/New_York', 'America/New_York', 'America/New_York', 'America/New_York', 'America/New_York', 'America/New_York', 'America/New_York', 'America/New_York', '', 'America/Denver', 'America/New_York', 'America/New_York', 'America/New_York', 'America/New_York', 'America/New_York', 'America/Halifax', '', 'America/New_York', 'America/New_York', '', 'America/Chicago', 'America/Los_Angeles', 'America/Vancouver', 'America/Los_Angeles', 'America/Chicago', 'America/Denver', 'America/Chicago', 'America/New_York', 'America/New_York', 'America/New_York', 'America/Los_Angeles', 'America/New_York', 'America/Los_Angeles', 'America/Bogota', 'America/Los_Angeles', 'America/New_York', 'America/New_York', 'America/Denver', 'America/Los_Angeles', 'America/New_York', 'America/New_York', 'America/New_York', 'America/Chicago', 'America/Sao_Paulo', 'America/New_York', 'America/Costa_Rica', '', 'Asia/Beirut', 'America/New_York', 'America/New_York', 'America/New_York', 'Europe/Warsaw', 'America/Chicago', 'America/New_York', '', 'America/New_York', 'America/Los_Angeles', 'America/Rainy_River', 'America/New_York', 'Europe/Warsaw', 'America/Denver', 'America/Chicago', '', 'America/Chicago', '', 'America/Chicago', 'America/Recife', 'America/New_York', 'Europe/Rome', 'America/New_York', 'America/New_York', 'America/New_York', '', 'America/Denver', 'America/Lima', 'America/Los_Angeles', 'Europe/Prague', 'Europe/Lisbon', 'America/New_York', '', 'America/Mexico_City', 'America/New_York', 'America/New_York', 'Europe/Dublin', '', 'America/New_York', 'America/New_York', 'America/New_York', 'America/Los_Angeles', 'America/New_York', 'America/New_York', 'America/Denver', 'America/New_York', '', 'America/New_York', 'America/New_York', 'Asia/Pontianak', 'America/New_York', 'America/New_York', 'Pacific/Honolulu', 'America/Los_Angeles', 'America/New_York', 'America/New_York', 'America/Chicago', '', 'Europe/Stockholm', 'America/Los_Angeles', 'America/New_York', 'America/New_York', 'America/Los_Angeles', '', 'America/Denver', 'America/New_York', 'Europe/London', 'America/New_York', '', '', 'Europe/Amsterdam', 'America/Chicago', 'America/New_York', 'America/New_York', 'America/Los_Angeles', 'Europe/Madrid', 'America/Chicago', 'Europe/London', 'Europe/London', 'Asia/Tokyo', 'America/Denver', 'America/Los_Angeles', 'America/Los_Angeles', 'America/Los_Angeles', 'America/Los_Angeles', 'America/New_York', 'America/New_York', 'America/New_York', 'America/New_York', 'America/New_York', '', 'Europe/Paris', 'America/New_York', 'America/New_York', 'America/New_York', 'America/New_York', 'America/Los_Angeles', 'America/New_York', 'America/Los_Angeles', 'America/New_York', 'America/New_York', 'America/New_York', 'America/New_York', '', 'America/Los_Angeles', 'America/Chicago', 'America/Los_Angeles', 'America/New_York', 'America/Denver', 'America/Denver', 'America/Chicago', '', '', 'America/New_York', 'America/Chicago', 'America/Chicago', 'America/Chicago', 'America/New_York', 'Asia/Bangkok', 'America/Edmonton', 'America/New_York', 'America/New_York', 'America/New_York', 'Europe/Rome', 'America/Chicago', 'America/Chicago', 'America/Chicago', 'America/Los_Angeles', 'America/Los_Angeles', 'Europe/Madrid', 'America/New_York', 'America/New_York', 'America/New_York', 'America/Los_Angeles', 'America/New_York', 'America/Los_Angeles', 'America/Chicago', 'America/Chicago', 'America/Denver', 'America/Chicago', 'Europe/London', 'Pacific/Honolulu', 'America/Chicago', 'America/Chicago', 'America/Los_Angeles', 'America/Los_Angeles', 'America/Chicago', '', 'America/Los_Angeles', 'America/Chicago', 'America/Los_Angeles', 'America/New_York', 'America/New_York', 'America/New_York', 'America/New_York', 'America/New_York', 'America/Los_Angeles', 'America/Los_Angeles', 'America/New_York', 'America/Montreal', 'America/Chicago', 'America/New_York', 'America/Denver', 'America/New_York', 'America/New_York', 'America/Los_Angeles', 'America/Montreal', 'America/Los_Angeles', 'America/Los_Angeles', 'America/New_York', 'America/Chicago', 'America/New_York', 'America/Phoenix', 'Europe/London', 'America/New_York', 'Europe/London', 'America/New_York', 'America/Los_Angeles', 'America/Chicago', 'America/New_York', 'America/Chicago', 'America/New_York', 'America/Denver', 'America/New_York', 'America/Chicago', 'Europe/Malta', 'America/Chicago', 'America/Chicago', 'America/Chicago', 'America/New_York', 'America/Los_Angeles', 'America/Los_Angeles', 'America/Los_Angeles', 'America/Los_Angeles', 'America/New_York', 'America/Los_Angeles', 'America/New_York', 'America/New_York', 'America/New_York', 'America/New_York', 'America/New_York', '', 'America/New_York', 'America/New_York', 'America/Chicago', 'America/Los_Angeles', 'America/Chicago', 'Europe/Berlin', 'America/New_York', 'America/Los_Angeles', 'America/New_York', 'America/Chicago', 'America/Chicago', 'Asia/Calcutta', '', 'America/Indianapolis', '', 'America/New_York', 'Chile/Continental', 'America/Los_Angeles', 'America/Los_Angeles', 'America/Los_Angeles', 'America/New_York', 'America/New_York', 'Europe/Oslo', 'America/Chicago', 'America/Los_Angeles', 'America/Denver', 'America/Los_Angeles', '', 'Asia/Jerusalem', '', 'America/New_York', 'America/New_York', 'America/New_York', 'America/New_York', 'America/New_York', 'Europe/London', '', 'America/Los_Angeles', 'America/Los_Angeles', 'America/Phoenix', 'America/Denver', 'America/Chihuahua', 'Europe/Vilnius', '', 'America/Chicago', 'America/Los_Angeles', '', 'America/Los_Angeles', 'Europe/Berlin', 'America/Denver', 'America/Los_Angeles', 'America/New_York', 'America/Managua', 'Asia/Beirut', 'Europe/Berlin', 'America/Los_Angeles', 'America/New_York', 'America/New_York', '', '', 'America/New_York', 'Asia/Istanbul', 'America/Chicago', 'America/Indianapolis', 'America/New_York', '', 'America/Los_Angeles', 'America/Chicago', 'America/Denver', '', 'America/Los_Angeles', '', 'America/Chicago', 'America/Los_Angeles', 'America/Managua', 'America/Chicago', 'America/Los_Angeles', 'America/Los_Angeles', 'America/Los_Angeles', 'America/New_York', 'America/New_York', 'America/Los_Angeles', 'Africa/Lusaka', 'America/Denver', 'America/New_York', 'America/New_York', 'America/New_York', 'America/New_York', 'America/New_York', 'America/Chicago', 'America/Los_Angeles', 'America/Vancouver', 'America/New_York', 'America/Sao_Paulo', 'America/New_York', 'America/Denver', 'Europe/Prague', 'America/New_York', 'America/Los_Angeles', '', '', 'America/New_York', 'America/Denver', 'America/Los_Angeles', 'America/New_York', 'America/New_York', 'America/Los_Angeles', 'America/Phoenix', 'America/New_York', 'America/Halifax', 'America/New_York', 'America/Phoenix', 'America/Los_Angeles', 'America/New_York', '', 'America/New_York', '', 'America/Chicago', 'America/New_York', '', 'America/New_York', 'Europe/Oslo', 'America/Los_Angeles', 'Europe/Prague', 'America/Los_Angeles', 'America/New_York', '', 'America/Sao_Paulo', 'America/New_York', 'Europe/Amsterdam', 'America/New_York', 'America/New_York', 'America/Sao_Paulo', 'America/Denver', 'Europe/Paris', 'America/Chicago', 'America/New_York', 'America/Phoenix', 'America/New_York', 'America/Managua', 'Europe/Athens', 'America/Denver', '', 'America/Chicago', 'America/New_York', 'America/Los_Angeles', '', 'America/Chicago', 'America/Denver', 'Europe/London', 'America/Denver', 'Europe/London', 'Europe/London', '', '', 'America/Rainy_River', 'America/Los_Angeles', 'America/New_York', '', 'America/Montreal', 'America/New_York', 'America/Chicago', 'Europe/Bratislava', 'America/New_York', 'America/Los_Angeles', 'Europe/Athens', 'America/New_York', 'America/Chicago', 'America/New_York', 'America/New_York', 'America/Chicago', 'America/Guayaquil', 'America/Chicago', 'America/New_York', 'America/Chicago', '', 'America/New_York', 'America/Los_Angeles', 'America/Chicago', 'America/Los_Angeles', 'America/New_York', 'America/New_York', 'America/Indianapolis', 'America/Denver', 'America/Chicago', 'America/Chicago', 'America/Chicago', 'America/Los_Angeles', 'America/Chicago', 'America/Halifax', '', '', 'America/New_York', 'Australia/NSW', '', 'America/Denver', 'America/New_York', 'America/New_York', 'Europe/London', 'America/New_York', 'America/New_York', 'Europe/London', 'America/New_York', '', '', '', 'America/New_York', '', '', 'America/Los_Angeles', 'America/Los_Angeles', 'America/Los_Angeles', 'America/Chicago', 'Asia/Calcutta', 'America/New_York', 'America/Chicago', 'America/New_York', 'America/Indianapolis', 'America/New_York', 'America/New_York', 'America/New_York', 'America/New_York', 'America/New_York', 'America/New_York', 'America/Denver', 'America/Chicago', 'America/New_York', 'America/New_York', 'America/New_York', 'America/New_York', 'America/Guayaquil', 'America/Chicago', '', 'Europe/Warsaw', 'America/New_York', 'America/Chicago', 'Asia/Istanbul', 'America/Rainy_River', 'America/Los_Angeles', '', 'America/Denver', 'Europe/London', 'America/New_York', 'America/Chicago', 'America/Chicago', 'America/New_York', 'America/New_York', 'America/Chicago', 'America/Denver', 'Europe/Madrid', '', 'America/Chicago', '', 'America/New_York', 'America/New_York', 'America/New_York', 'America/New_York', 'America/New_York', 'America/New_York', 'America/New_York', 'America/Los_Angeles', 'America/New_York', 'America/New_York', 'America/New_York', 'America/New_York', 'America/New_York', 'America/New_York', 'America/Chicago', 'America/New_York', '', 'America/New_York', 'America/New_York', 'America/New_York', 'America/New_York', 'America/New_York', '', 'America/New_York', '', 'America/New_York', 'America/Chicago', 'America/New_York', 'America/New_York', '', 'Europe/London', 'America/Chicago', 'America/Rainy_River', 'America/New_York', '', 'Asia/Harbin', 'America/New_York', 'America/New_York', 'America/New_York', '', 'America/New_York', 'America/New_York', 'America/New_York', 'Europe/London', 'America/Chicago', 'Europe/Rome', 'America/New_York', 'America/Denver', 'America/New_York', 'America/New_York', 'America/Winnipeg', 'Europe/Stockholm', '', '', 'Europe/Amsterdam', '', 'America/Chicago', 'America/New_York', 'America/New_York', 'Europe/Amsterdam', 'America/Denver', '', 'America/New_York', 'America/Chicago', 'America/New_York', '', '', '', 'America/Los_Angeles', 'America/Los_Angeles', 'America/New_York', 'America/New_York', 'America/New_York', 'America/Phoenix', 'Europe/London', 'Europe/Brussels', 'America/Denver', 'America/Chicago', 'Europe/Vilnius', 'America/New_York', 'America/New_York', 'America/New_York', 'America/New_York', 'America/Chicago', 'Europe/Rome', 'America/Chicago', 'America/Los_Angeles', 'Europe/Helsinki', 'Europe/Copenhagen', '', 'America/New_York', 'America/New_York', 'America/New_York', '', 'America/New_York', 'America/New_York', 'America/New_York', 'Europe/Lisbon', 'Europe/Amsterdam', 'America/New_York', 'Asia/Amman', '', 'Europe/Amsterdam', 'America/Denver', 'America/New_York', 'America/New_York', 'America/Indianapolis', 'America/Sao_Paulo', 'America/Los_Angeles', 'Europe/London', '', 'America/New_York', 'Europe/London', 'America/New_York', 'America/Los_Angeles', 'Europe/Oslo', 'America/New_York', 'America/Chicago', '', 'America/Los_Angeles', 'America/Denver', 'America/Rainy_River', 'America/New_York', 'Asia/Amman', 'America/New_York', '', 'America/New_York', 'America/Chicago', '', '', '', 'America/New_York', 'America/New_York', '', 'America/Chicago', 'America/New_York', 'America/New_York', 'America/New_York', 'America/Chicago', 'America/New_York', 'America/New_York', '', 'America/New_York', '', 'America/Los_Angeles', '', '', 'America/New_York', '', 'America/Los_Angeles', 'America/New_York', 'America/New_York', 'America/Los_Angeles', '', 'America/New_York', 'America/New_York', 'America/New_York', 'America/New_York', 'America/New_York', 'America/Denver', 'America/Los_Angeles', '', 'America/New_York', 'America/Chicago', 'America/Indianapolis', 'America/New_York', 'America/New_York', 'America/Winnipeg', 'America/Chicago', '', 'America/New_York', '', '', 'Europe/Warsaw', 'America/Sao_Paulo', 'America/New_York', '', 'America/Denver', 'America/New_York', 'America/New_York', 'Australia/NSW', 'Asia/Calcutta', 'Pacific/Honolulu', 'America/New_York', 'Europe/Belgrade', 'America/New_York', 'America/New_York', 'America/New_York', 'America/Winnipeg', 'America/Chicago', 'America/New_York', 'America/Chicago', 'America/New_York', 'Europe/London', '', 'America/New_York', '', 'America/New_York', 'America/New_York', 'America/Chicago', 'America/Los_Angeles', 'America/New_York', 'America/New_York', 'America/Los_Angeles', 'America/New_York', 'America/New_York', 'Asia/Calcutta', 'America/Los_Angeles', 'Africa/Johannesburg', '', 'America/Los_Angeles', 'America/Chicago', 'America/New_York', 'America/New_York', 'America/New_York', 'America/Denver', 'America/Denver', 'America/Los_Angeles', 'America/New_York', 'America/New_York', 'America/Phoenix', 'America/Chicago', 'America/Chicago', 'Europe/Bucharest', 'America/Montreal', 'America/New_York', 'America/Montreal', 'America/St_Kitts', 'America/New_York', 'America/New_York', '', 'America/Denver', 'America/New_York', 'America/Los_Angeles', 'America/New_York', 'America/New_York', 'America/New_York', 'America/New_York', 'America/Rainy_River', 'America/New_York', 'America/New_York', 'America/New_York', 'America/Los_Angeles', 'America/New_York', '', 'America/Los_Angeles', 'America/New_York', '', 'America/Chicago', 'America/Chicago', 'America/Sao_Paulo', '', 'America/New_York', 'America/Los_Angeles', 'Asia/Harbin', '', 'America/New_York', 'America/Los_Angeles', 'America/New_York', 'Pacific/Auckland', 'America/New_York', 'America/Chicago', 'America/Chicago', '', 'America/New_York', 'America/Denver', 'America/New_York', 'America/New_York', 'America/Denver', 'America/New_York', 'America/New_York', 'America/Chicago', 'America/New_York', 'America/New_York', 'America/Chicago', 'America/New_York', 'America/New_York', 'America/New_York', 'America/New_York', '', 'America/New_York', 'America/Los_Angeles', 'America/New_York', 'America/New_York', 'Europe/Amsterdam', 'America/Denver', 'Asia/Calcutta', 'Europe/London', '', 'America/New_York', 'America/New_York', 'America/New_York', 'America/New_York', 'America/New_York', '', 'America/Los_Angeles', '', 'America/New_York', 'America/Chicago', 'America/Chicago', 'America/Chicago', 'America/Chicago', 'America/New_York', 'America/New_York', 'Pacific/Auckland', 'America/Chicago', '', 'America/New_York', 'America/Chicago', 'America/Chicago', 'America/New_York', '', 'America/Chicago', 'America/New_York', 'America/New_York', 'America/New_York', 'Europe/Berlin', 'America/Chicago', '', 'Chile/Continental', 'America/New_York', 'America/Chicago', 'America/Indianapolis', 'America/New_York', 'America/Los_Angeles', 'America/New_York', 'America/Chicago', 'America/New_York', 'America/New_York', 'America/Denver', 'America/New_York', 'America/Chicago', 'America/New_York', 'America/Chicago', 'America/Santo_Domingo', '', 'America/New_York', 'America/New_York', 'America/New_York', 'America/Chicago', 'America/Chicago', 'America/Indianapolis', 'America/New_York', 'America/New_York', 'America/New_York', 'America/New_York', 'America/New_York', 'Europe/Amsterdam', 'America/New_York', 'America/Denver', '', 'America/Los_Angeles', 'America/New_York', '', 'America/Chicago', 'America/New_York', 'America/New_York', 'America/Sao_Paulo', 'Pacific/Auckland', 'America/New_York', '', 'America/Denver', 'America/New_York', 'America/New_York', 'America/Denver', 'America/New_York', 'America/New_York', 'America/New_York', '', 'America/Chicago', 'America/New_York', 'America/Chicago', 'America/Los_Angeles', 'America/New_York', 'America/New_York', 'America/New_York', 'Europe/London', 'America/Denver', 'America/New_York', '', 'America/New_York', 'America/Los_Angeles', 'America/New_York', 'America/New_York', 'America/Los_Angeles', 'America/Mexico_City', 'Pacific/Honolulu', 'America/Los_Angeles', 'America/New_York', 'America/Chicago', 'Europe/Oslo', 'America/New_York', 'America/New_York', 'America/Chicago', 'America/New_York', 'America/Los_Angeles', 'America/New_York', 'America/New_York', 'America/Denver', 'America/Los_Angeles', 'America/New_York', 'Europe/London', 'America/New_York', 'America/New_York', 'America/Los_Angeles', 'America/New_York', 'America/New_York', 'America/Denver', 'America/Argentina/Cordoba', 'America/New_York', 'America/New_York', '', '', 'Europe/Rome', '', 'America/Los_Angeles', 'America/Chicago', 'America/New_York', 'Europe/London', 'America/Phoenix', 'America/Edmonton', 'America/New_York', 'America/Chicago', 'America/Los_Angeles', 'America/New_York', 'America/New_York', 'America/New_York', 'America/Los_Angeles', 'America/New_York', 'America/Chicago', '', 'America/New_York', 'America/New_York', 'America/Sao_Paulo', '', 'America/New_York', 'America/Vancouver', 'America/Montreal', 'America/New_York', 'America/Sao_Paulo', 'Pacific/Auckland', 'America/New_York', 'America/New_York', 'America/Los_Angeles', 'America/New_York', 'America/New_York', 'America/New_York', 'America/New_York', 'America/New_York', 'America/New_York', 'America/New_York', '', 'America/Denver', 'America/Rainy_River', 'America/Los_Angeles', 'America/New_York', 'America/New_York', 'America/Chicago', 'Europe/London', 'America/New_York', '', 'America/Los_Angeles', 'Pacific/Honolulu', 'America/Rainy_River', 'America/Montreal', 'America/New_York', 'Pacific/Honolulu', 'America/Los_Angeles', 'America/Chicago', 'America/Los_Angeles', 'America/Chicago', 'America/Denver', 'Europe/Rome', 'America/New_York', 'America/New_York', 'Europe/London', 'Pacific/Honolulu', 'America/New_York', 'America/New_York', '', 'America/New_York', 'Europe/London', 'America/New_York', 'America/New_York', 'America/New_York', 'America/New_York', 'America/New_York', 'America/New_York', 'America/New_York', '', 'America/New_York', 'America/Denver', 'America/New_York', 'America/New_York', '', 'America/Phoenix', 'America/Chicago', 'America/New_York', 'America/Puerto_Rico', '', 'America/New_York', 'America/New_York', 'America/Chicago', 'America/Rainy_River', 'America/New_York', 'America/Los_Angeles', 'America/New_York', 'America/Los_Angeles', 'America/Chicago', 'America/New_York', '', 'America/Denver', 'Europe/Zurich', '', '', 'America/Los_Angeles', 'America/Denver', '', 'America/New_York', 'America/New_York', '', 'America/Los_Angeles', '', 'America/New_York', 'America/Los_Angeles', '', 'America/Chicago', 'America/Chicago', '', '', 'Europe/Rome', 'America/Denver', 'America/New_York', 'America/New_York', 'America/New_York', 'America/Puerto_Rico', 'Europe/London', 'America/New_York', 'America/New_York', 'America/Puerto_Rico', '', 'America/Rainy_River', 'America/Los_Angeles', 'America/New_York', 'Europe/London', 'America/Sao_Paulo', 'America/New_York', 'America/New_York', 'America/Chicago', 'America/New_York', 'America/Chicago', 'America/Denver', '', 'Europe/London', 'Europe/Madrid', 'America/Chicago', 'America/New_York', 'America/New_York', 'America/Indianapolis', 'America/Chicago', '', 'America/New_York', 'America/New_York', 'America/New_York', 'America/New_York', 'America/New_York', 'America/Los_Angeles', 'America/New_York', 'America/Denver', 'America/New_York', 'America/Los_Angeles', 'America/Chicago', 'America/New_York', 'America/New_York', 'Asia/Calcutta', 'America/New_York', 'America/New_York', 'America/New_York', 'America/New_York', 'America/New_York', '', 'America/New_York', 'America/Los_Angeles', 'America/New_York', 'America/Los_Angeles', 'America/New_York', '', 'Europe/Moscow', 'America/Denver', 'America/New_York', 'America/Los_Angeles', 'America/New_York', 'America/Chicago', 'America/Puerto_Rico', 'America/Puerto_Rico', 'America/Los_Angeles', 'Europe/Berlin', 'America/Chicago', 'America/New_York', '', 'America/Chicago', 'Pacific/Auckland', 'America/New_York', 'America/New_York', 'America/New_York', 'America/New_York', 'America/Los_Angeles', 'America/New_York', 'America/New_York', 'America/New_York', 'Pacific/Auckland', 'America/Los_Angeles', 'America/Chicago', '', 'Europe/Berlin', '', 'America/New_York', 'America/New_York', 'America/New_York', 'America/Chicago', 'America/Chicago', '', 'America/Denver', '', 'America/New_York', 'America/New_York', 'America/Chicago', '', 'America/Sao_Paulo', 'Europe/London', 'America/Chicago', 'America/Denver', 'America/Denver', '', 'America/New_York', 'America/Los_Angeles', 'America/New_York', 'America/Chicago', 'America/New_York', 'America/Chicago', '', 'America/Los_Angeles', 'America/Los_Angeles', 'America/Sao_Paulo', 'America/New_York', 'America/New_York', 'America/New_York', 'America/New_York', '', '', 'America/New_York', 'America/Chicago', 'America/New_York', 'America/New_York', 'America/New_York', 'America/Chicago', 'America/Denver', 'America/Los_Angeles', 'America/Chicago', 'America/Chicago', 'America/New_York', 'America/Chicago', 'America/New_York', 'America/Denver', 'America/Los_Angeles', 'America/Chicago', 'America/New_York', 'America/New_York', 'America/New_York', 'America/Denver', 'America/Chicago', 'America/Indianapolis', '', 'America/Denver', '', 'America/New_York', 'America/New_York', 'Europe/London', 'America/New_York', 'America/New_York', 'America/New_York', 'Asia/Kuching', 'America/New_York', 'America/New_York', 'America/New_York', 'America/Sao_Paulo', 'America/Denver', 'America/Denver', 'America/New_York', 'America/Chicago', 'America/New_York', 'America/New_York', 'America/New_York', 'America/New_York', 'America/Los_Angeles', 'America/New_York', 'America/New_York', 'America/Los_Angeles', 'America/Los_Angeles', 'America/Los_Angeles', 'America/New_York', '', 'Europe/Madrid', 'America/New_York', 'Europe/Madrid', 'America/Chicago', '', 'America/New_York', 'America/New_York', 'America/New_York', '', 'America/New_York', 'Europe/Budapest', 'America/New_York', 'America/New_York', 'America/Rainy_River', 'America/Chicago', 'America/New_York', 'America/Denver', 'America/Denver', '', 'America/New_York', '', 'America/New_York', 'America/New_York', 'America/New_York', 'America/Edmonton', '', '', 'America/Chicago', 'America/New_York', '', 'America/Denver', '', 'America/New_York', 'America/Chicago', 'America/Chicago', 'America/Denver', 'America/New_York', 'America/Los_Angeles', 'America/Denver', 'America/New_York', 'America/Los_Angeles', 'America/New_York', '', 'America/Chicago', 'America/New_York', 'America/New_York', 'America/Los_Angeles', 'America/Los_Angeles', '', 'America/New_York', 'America/New_York', 'America/New_York', 'America/Chicago', 'America/Los_Angeles', 'America/New_York', '', 'America/Sao_Paulo', '', '', 'Europe/Helsinki', 'America/Chicago', 'America/Chicago', 'America/Chicago', 'America/Los_Angeles', 'America/New_York', 'America/New_York', 'America/New_York', 'America/Chicago', 'America/New_York', 'America/Sao_Paulo', '', 'America/New_York', 'Asia/Harbin', 'America/New_York', 'Europe/Warsaw', '', 'America/Denver', 'America/Los_Angeles', 'America/New_York', 'America/New_York', 'America/Chicago', 'America/New_York', 'America/Los_Angeles', 'America/Los_Angeles', 'America/Los_Angeles', 'America/Los_Angeles', 'America/Denver', 'Asia/Istanbul', 'America/Chicago', 'America/New_York', 'America/Denver', '', 'America/Los_Angeles', 'Europe/Paris', 'Pacific/Honolulu', 'America/Chicago', '', 'America/New_York', 'Europe/Amsterdam', 'Pacific/Auckland', 'America/New_York', 'America/New_York', 'Pacific/Auckland', 'Pacific/Auckland', 'America/Los_Angeles', 'Pacific/Auckland', 'America/Chicago', 'America/New_York', '', 'America/New_York', '', '', 'Europe/London', 'Europe/Zurich', 'Europe/Amsterdam', 'America/New_York', 'America/Chicago', 'Asia/Kuala_Lumpur', 'Europe/Bucharest', 'America/Chicago', 'America/New_York', 'America/New_York', 'America/Los_Angeles', '', '', 'America/New_York', 'America/New_York', 'America/Denver', 'Asia/Tokyo', 'America/New_York', 'America/New_York', 'Europe/London', 'America/Los_Angeles', 'America/Chicago', 'Europe/Helsinki', 'America/Chicago', '', 'America/New_York', '', '', 'America/New_York', 'America/Los_Angeles', 'America/New_York', 'America/New_York', 'America/New_York', 'America/Chicago', 'America/Chicago', 'America/Chicago', 'America/New_York', 'America/Vancouver', 'America/New_York', 'America/New_York', 'America/New_York', 'America/New_York', '', 'America/Denver', 'America/New_York', '', 'America/New_York', 'America/Chicago', 'Europe/Riga', 'America/Chicago', 'America/New_York', 'America/New_York', 'America/New_York', 'America/New_York', 'Europe/Rome', '', 'Europe/Oslo', 'America/New_York', 'America/Mexico_City', 'America/New_York', 'America/New_York', 'Asia/Dubai', 'America/New_York', 'America/New_York', 'America/Chicago', 'America/New_York', '', 'America/New_York', 'America/New_York', 'America/New_York', 'Europe/Rome', 'America/New_York', 'America/New_York', '', '', 'America/New_York', 'America/New_York', 'America/Chicago', 'Asia/Tokyo', 'America/New_York', 'America/New_York', 'America/Denver', '', 'America/New_York', 'America/New_York', 'America/New_York', 'America/Denver', 'America/New_York', '', 'America/Los_Angeles', 'America/New_York', 'America/Indianapolis', 'America/Denver', 'Europe/Berlin', 'America/New_York', 'Pacific/Honolulu', 'America/New_York', 'Europe/London', 'America/New_York', 'Europe/Budapest', 'Pacific/Auckland', '', 'America/New_York', 'America/New_York', 'America/Los_Angeles', 'Europe/Madrid', 'America/Mexico_City', 'America/New_York', 'Asia/Calcutta', '', 'America/Los_Angeles', 'America/New_York', 'America/New_York', 'America/New_York', '', 'America/Los_Angeles', 'America/Los_Angeles', 'America/New_York', 'America/New_York', 'America/New_York', 'America/New_York', 'Europe/Moscow', '', '', '', 'America/Denver', 'America/New_York', 'America/Chicago', '', 'America/Los_Angeles', 'America/Chicago', 'America/New_York', 'Africa/Ceuta', 'America/Denver', 'America/New_York', 'America/Phoenix', 'America/Chicago', 'America/New_York', 'America/Chicago', '', 'America/Chicago', '', 'America/Chicago', 'America/Los_Angeles', 'America/Denver', 'America/Denver', 'America/Denver', 'America/Chicago', '', 'America/Los_Angeles', 'Europe/Berlin', 'America/New_York', 'America/New_York', 'America/Denver', 'America/New_York', 'Europe/Volgograd', 'America/New_York', 'America/New_York', '', 'America/Chicago', 'Europe/London', 'America/New_York', 'Europe/Lisbon', 'America/New_York', 'America/New_York', 'America/Phoenix', 'America/Chicago', 'Europe/Madrid', 'America/New_York', 'America/Chicago', 'America/Chicago', '', 'America/New_York', 'Europe/Helsinki', 'America/New_York', 'America/New_York', 'Asia/Tokyo', 'America/New_York', 'Europe/Madrid', 'America/Denver', '', 'Europe/Berlin', 'America/New_York', 'America/New_York', 'America/New_York', 'America/Chicago', 'America/New_York', 'America/New_York', 'Europe/Madrid', 'America/New_York', 'America/New_York', 'America/Denver', 'America/Chicago', 'America/Chicago', 'Europe/Amsterdam', 'America/Indianapolis', 'America/Chicago', 'America/Chicago', 'America/Chicago', 'America/New_York', 'Europe/London', 'America/New_York', '', 'America/New_York', '', '', 'America/New_York', 'America/New_York', '', 'America/Chicago', 'America/Los_Angeles', 'America/Denver', 'America/New_York', 'America/New_York', 'America/New_York', 'Europe/Oslo', '', 'America/Chicago', 'America/New_York', 'America/New_York', 'America/Chicago', '', 'Europe/London', 'America/Los_Angeles', 'America/Denver', 'America/Anchorage', '', 'America/New_York', 'America/La_Paz', 'America/Chicago', 'America/Chicago', 'America/Chicago', 'America/Los_Angeles', 'America/New_York', 'America/Chicago', 'Europe/Moscow', '', 'America/Chihuahua', 'America/Chicago', 'America/Chicago', 'Europe/Vienna', 'America/New_York', 'America/New_York', 'America/Los_Angeles', 'America/New_York', 'America/Rainy_River', 'America/Los_Angeles', 'Africa/Casablanca', 'America/Chicago', 'America/New_York', 'America/Chicago', 'America/Denver', 'America/Los_Angeles', 'America/Chicago', 'America/New_York', 'America/New_York', '', 'Asia/Dubai', 'America/Los_Angeles', 'Europe/Amsterdam', 'America/Chicago', 'America/Phoenix', 'America/New_York', 'America/Denver', 'America/Los_Angeles', 'America/New_York', 'Europe/London', 'America/New_York', 'America/New_York', 'America/New_York', 'Asia/Seoul', 'America/New_York', '', '', '', 'Europe/Moscow', 'America/Chicago', 'America/Chicago', 'America/Vancouver', 'America/Chicago', 'America/Los_Angeles', 'America/Los_Angeles', 'America/Indianapolis', 'America/New_York', 'America/New_York', 'America/New_York', 'America/New_York', '', 'Europe/Helsinki', 'America/New_York', 'Asia/Seoul', '', '', 'America/New_York', 'America/New_York', 'America/Chicago', 'America/New_York', '', 'America/New_York', 'America/New_York', 'America/New_York', 'America/New_York', 'America/New_York', 'Europe/Copenhagen', 'America/New_York', 'America/Chicago', 'Europe/Madrid', 'America/Denver', 'America/Denver', '', 'America/New_York', 'America/Chicago', 'America/New_York', 'Australia/NSW', 'America/New_York', 'America/New_York', 'Europe/London', 'America/New_York', 'Europe/Madrid', 'America/New_York', 'America/New_York', 'Europe/Stockholm', 'Europe/Stockholm', 'America/Denver', 'America/New_York', 'America/New_York', 'America/New_York', '', '', '', 'America/Los_Angeles', 'America/New_York', 'America/New_York', 'America/New_York', 'America/New_York', 'Europe/London', 'America/Denver', 'Europe/Helsinki', 'America/New_York', 'America/Chicago', 'Europe/Stockholm', 'Europe/Paris', '', 'America/New_York', 'America/Los_Angeles', 'America/Chicago', 'America/Chicago', '', '', 'America/Chicago', 'America/New_York', 'America/New_York', 'America/New_York', 'America/New_York', '', 'America/New_York', 'America/New_York', 'America/New_York', 'America/New_York', 'America/Denver', 'America/Chicago', 'Europe/Prague', 'America/Chicago', '', 'America/Chicago', 'Europe/Madrid', 'America/Denver', 'Europe/Stockholm', 'America/New_York', 'America/New_York', 'America/New_York', 'America/New_York', 'America/New_York', 'America/New_York', 'Europe/Amsterdam', 'America/Los_Angeles', 'America/Chicago', 'America/Chicago', 'America/New_York', 'America/New_York', 'America/Chicago', 'America/New_York', '', 'America/Los_Angeles', 'America/Chicago', 'Europe/London', 'America/Chicago', 'America/New_York', 'America/Rainy_River', '', 'America/Chicago', 'Australia/NSW', 'America/Chicago', 'America/New_York', 'America/New_York', '', '', 'America/Los_Angeles', 'America/New_York', 'America/New_York', 'America/Los_Angeles', 'America/New_York', 'America/Denver', 'America/New_York', 'America/Chicago', 'Europe/London', 'Europe/Oslo', 'America/New_York', 'America/Denver', 'America/Denver', 'Europe/Madrid', 'Europe/London', 'America/Chicago', '', 'America/Chicago', 'America/Chicago', 'America/Denver', '', 'America/New_York', '', '', 'America/New_York', 'America/Chicago', '', 'America/New_York', '', 'America/New_York', 'America/Los_Angeles', 'America/Chicago', 'America/Chicago', '', 'America/New_York', 'America/Chicago', 'America/New_York', 'America/Los_Angeles', '', 'America/New_York', 'Europe/Paris', 'America/New_York', 'America/Chicago', 'America/New_York', 'America/Chicago', 'America/New_York', 'America/Denver', 'America/Chicago', 'America/New_York', 'America/New_York', 'America/New_York', 'Europe/Warsaw', 'America/Los_Angeles', 'America/New_York', 'America/Chicago', 'America/Denver', 'America/New_York', 'America/Chicago', 'America/Chicago', 'Europe/Budapest', 'Europe/Berlin', 'America/Denver', 'America/New_York', 'America/New_York', 'Europe/Oslo', 'America/Chicago', 'America/New_York', 'America/Chicago', 'Asia/Jakarta', 'America/Edmonton', 'America/Los_Angeles', 'Europe/Moscow', 'America/Phoenix', 'Asia/Jakarta', 'America/Chicago', '', '', 'America/Los_Angeles', 'America/Chicago', 'America/New_York', 'America/New_York', 'Europe/Madrid', 'America/New_York', 'America/Indianapolis', 'America/Chicago', 'America/New_York', 'America/New_York', 'America/Chicago', 'Europe/Madrid', 'America/New_York', 'America/Chicago', 'America/Los_Angeles', 'America/Denver', 'America/Los_Angeles', 'America/New_York', 'Europe/Rome', 'Europe/Amsterdam', 'America/Los_Angeles', 'America/Chicago', 'America/New_York', 'America/Denver', '', 'Europe/Amsterdam', 'America/New_York', 'America/Chicago', 'America/Los_Angeles', 'America/New_York', 'Europe/Amsterdam', 'America/Denver', 'America/New_York', '', 'America/Chicago', 'Europe/Madrid', 'Asia/Jakarta', 'America/New_York', 'Europe/Warsaw', 'America/New_York', 'America/Chicago', 'America/New_York', 'America/Rainy_River', 'America/Chicago', 'America/New_York', '', '', '', 'America/Phoenix', 'America/New_York', 'America/Chicago', 'Asia/Jerusalem', 'America/New_York', 'America/New_York', 'America/New_York', 'America/New_York', 'America/Chicago', 'America/Denver', 'America/Los_Angeles', 'Europe/Paris', 'America/New_York', '', 'America/New_York', 'America/New_York', 'America/Denver', '', 'America/New_York', '', 'Europe/Berlin', 'America/New_York', 'America/Phoenix', '', '', 'America/New_York', '', 'America/Anchorage', 'America/Denver', 'Europe/London', 'America/Chicago', 'Europe/Helsinki', '', 'America/New_York', 'America/Chicago', '', 'Asia/Karachi', 'America/New_York', 'America/New_York', '', 'America/Chicago', 'America/Denver', 'America/New_York', 'America/Los_Angeles', 'Europe/Moscow', 'America/Chicago', 'America/Los_Angeles', '', '', 'America/Denver', 'America/New_York', '', 'America/New_York', 'America/New_York', 'America/New_York', 'America/New_York', '', 'America/Chicago', 'America/Chicago', '', '', 'Europe/Oslo', '', 'America/New_York', 'America/Chicago', 'Europe/Helsinki', 'America/New_York', 'America/Chicago', 'America/New_York', 'America/New_York', '', 'America/Chicago', '', 'America/Indianapolis', 'Pacific/Honolulu', '', 'Asia/Seoul', 'Europe/London', 'America/New_York', 'Europe/Amsterdam', '', 'America/New_York', '', '', '', 'Asia/Seoul', 'America/Chicago', 'America/Denver', 'America/Denver', 'America/Chicago', 'America/Denver', '', '', 'Asia/Dubai', 'Europe/Madrid', 'America/Chicago', 'America/Los_Angeles', 'Europe/Stockholm', 'America/Denver', 'America/New_York', 'Europe/Rome', 'America/New_York', 'America/Los_Angeles', 'America/Los_Angeles', 'America/Los_Angeles', 'America/Chicago', 'America/Denver', 'America/New_York', 'America/Los_Angeles', '', 'America/New_York', 'America/New_York', 'America/Chicago', 'America/Chicago', '', 'America/Tegucigalpa', 'America/Los_Angeles', 'America/Los_Angeles', 'America/Denver', 'America/Los_Angeles', 'America/Los_Angeles', 'America/Chicago', 'America/Chicago', 'America/Los_Angeles', 'America/New_York', 'America/Chicago', 'Europe/Stockholm', 'America/New_York', '', 'America/Chicago', 'America/New_York', 'America/New_York', 'America/New_York', 'America/Chicago', 'America/Denver', 'America/Los_Angeles', 'America/New_York']\n"
     ]
    },
    {
     "data": {
      "text/plain": [
       "3440"
      ]
     },
     "execution_count": 30,
     "metadata": {},
     "output_type": "execute_result"
    }
   ],
   "source": [
    "# na 처리 및 df 장점 비교\n",
    "time_zones = [rec['tz'] for rec in records if 'tz' in rec]\n",
    "print(time_zones)\n",
    "# if 'tz' in rec 부분을 추가하여 na 데이터 처리.\n",
    "time_zones1 = df1['tz']\n",
    "#print(time_zones1)\n",
    "len(time_zones)\n",
    "time_zones1 = time_zones1.dropna()\n",
    "#print(time_zones1)\n",
    "len(time_zones)"
   ]
  },
  {
   "cell_type": "code",
   "execution_count": 34,
   "metadata": {},
   "outputs": [
    {
     "data": {
      "text/plain": [
       "1251"
      ]
     },
     "execution_count": 34,
     "metadata": {},
     "output_type": "execute_result"
    }
   ],
   "source": [
    "# 파이썬 자료구조로도 활용\n",
    "def get_counts(squence):\n",
    "    counts = {} # empty dict\n",
    "    for x in squence:\n",
    "        if x in counts:\n",
    "            counts[x] += 1\n",
    "        else:\n",
    "            counts[x] = 1\n",
    "    return counts\n",
    "\n",
    "counts = get_counts(time_zones)\n",
    "counts\n",
    "type(counts)\n",
    "counts['America/New_York']"
   ]
  },
  {
   "cell_type": "code",
   "execution_count": 38,
   "metadata": {},
   "outputs": [
    {
     "data": {
      "text/plain": [
       "1251"
      ]
     },
     "execution_count": 38,
     "metadata": {},
     "output_type": "execute_result"
    }
   ],
   "source": [
    "# 기본패키지 사용시 -> 디폴트로 value가 넣어져 있는 형태의 dict\n",
    "from collections import defaultdict\n",
    "def get_counts2(sequence):\n",
    "    counts = defaultdict(int)\n",
    "    for x in sequence:\n",
    "        counts[x] += 1\n",
    "    return counts\n",
    "\n",
    "counts1 = get_counts2(time_zones)\n",
    "counts1\n",
    "type(counts1)\n",
    "counts['America/New_York']"
   ]
  },
  {
   "cell_type": "code",
   "execution_count": 44,
   "metadata": {},
   "outputs": [
    {
     "data": {
      "text/plain": [
       "[(33, 'America/Sao_Paulo'),\n",
       " (35, 'Europe/Madrid'),\n",
       " (36, 'Pacific/Honolulu'),\n",
       " (37, 'Asia/Tokyo'),\n",
       " (74, 'Europe/London'),\n",
       " (191, 'America/Denver'),\n",
       " (382, 'America/Los_Angeles'),\n",
       " (400, 'America/Chicago'),\n",
       " (521, ''),\n",
       " (1251, 'America/New_York')]"
      ]
     },
     "execution_count": 44,
     "metadata": {},
     "output_type": "execute_result"
    }
   ],
   "source": [
    "# 상위 데이터 추출\n",
    "def top_counts(count_dict, n = 10):\n",
    "    value_key_pairs = [(count, tz) for tz, count in count_dict.items()]\n",
    "    value_key_pairs.sort()\n",
    "    return value_key_pairs[-n:]\n",
    "\n",
    "top10 = top_counts(counts, n=10)\n",
    "type(top10)\n",
    "type(top10[0])\n",
    "top10"
   ]
  },
  {
   "cell_type": "code",
   "execution_count": 47,
   "metadata": {},
   "outputs": [
    {
     "name": "stdout",
     "output_type": "stream",
     "text": [
      "[('America/Sao_Paulo', 33), ('Europe/Madrid', 35), ('Pacific/Honolulu', 36), ('Asia/Tokyo', 37), ('Europe/London', 74), ('America/Denver', 191), ('America/Los_Angeles', 382), ('America/Chicago', 400), ('', 521), ('America/New_York', 1251)]\n"
     ]
    }
   ],
   "source": [
    "# dict는 순서가 없는 자료형, 기본적으로 sort가 ㅌ\n",
    "# operator를 이요하여 sort\n",
    "import operator\n",
    "sorted_counts = sorted(counts.items(), key=operator.itemgetter(1))[-10:]\n",
    "print(sorted_counts)"
   ]
  },
  {
   "cell_type": "code",
   "execution_count": 53,
   "metadata": {},
   "outputs": [
    {
     "name": "stdout",
     "output_type": "stream",
     "text": [
      "Counter({'America/New_York': 1251, '': 521, 'America/Chicago': 400, 'America/Los_Angeles': 382, 'America/Denver': 191, 'Europe/London': 74, 'Asia/Tokyo': 37, 'Pacific/Honolulu': 36, 'Europe/Madrid': 35, 'America/Sao_Paulo': 33, 'Europe/Berlin': 28, 'Europe/Rome': 27, 'America/Rainy_River': 25, 'Europe/Amsterdam': 22, 'America/Phoenix': 20, 'America/Indianapolis': 20, 'Europe/Warsaw': 16, 'America/Mexico_City': 15, 'Europe/Paris': 14, 'Europe/Stockholm': 14, 'America/Vancouver': 12, 'Pacific/Auckland': 11, 'Asia/Hong_Kong': 10, 'Europe/Prague': 10, 'Europe/Moscow': 10, 'Europe/Helsinki': 10, 'America/Puerto_Rico': 10, 'Europe/Oslo': 10, 'America/Montreal': 9, 'Asia/Calcutta': 9, 'Asia/Istanbul': 9, 'Europe/Lisbon': 8, 'Asia/Bangkok': 6, 'Europe/Vienna': 6, 'Australia/NSW': 6, 'Chile/Continental': 6, 'America/Edmonton': 6, 'Europe/Athens': 6, 'Europe/Copenhagen': 5, 'America/Anchorage': 5, 'Europe/Budapest': 5, 'Asia/Seoul': 5, 'Europe/Brussels': 4, 'Asia/Beirut': 4, 'America/Halifax': 4, 'Europe/Bucharest': 4, 'Europe/Zurich': 4, 'America/Winnipeg': 4, 'Asia/Dubai': 4, 'Asia/Kuala_Lumpur': 3, 'Europe/Dublin': 3, 'Asia/Jerusalem': 3, 'Asia/Karachi': 3, 'America/Bogota': 3, 'Europe/Bratislava': 3, 'Africa/Cairo': 3, 'America/Managua': 3, 'Asia/Harbin': 3, 'Asia/Jakarta': 3, 'Africa/Ceuta': 2, 'Europe/Malta': 2, 'America/Recife': 2, 'Europe/Riga': 2, 'Europe/Belgrade': 2, 'America/Chihuahua': 2, 'Europe/Vilnius': 2, 'America/Guayaquil': 2, 'Asia/Amman': 2, 'Asia/Nicosia': 1, 'America/Mazatlan': 1, 'Europe/Skopje': 1, 'Asia/Novosibirsk': 1, 'Europe/Sofia': 1, 'Europe/Ljubljana': 1, 'America/Monterrey': 1, 'America/Argentina/Buenos_Aires': 1, 'Asia/Yekaterinburg': 1, 'Asia/Manila': 1, 'America/Caracas': 1, 'Asia/Riyadh': 1, 'America/Montevideo': 1, 'America/Argentina/Mendoza': 1, 'Europe/Uzhgorod': 1, 'Australia/Queensland': 1, 'America/Costa_Rica': 1, 'America/Lima': 1, 'Asia/Pontianak': 1, 'Africa/Lusaka': 1, 'Africa/Johannesburg': 1, 'America/St_Kitts': 1, 'America/Santo_Domingo': 1, 'America/Argentina/Cordoba': 1, 'Asia/Kuching': 1, 'Europe/Volgograd': 1, 'America/La_Paz': 1, 'Africa/Casablanca': 1, 'America/Tegucigalpa': 1})\n"
     ]
    },
    {
     "data": {
      "text/plain": [
       "[('America/New_York', 1251),\n",
       " ('', 521),\n",
       " ('America/Chicago', 400),\n",
       " ('America/Los_Angeles', 382),\n",
       " ('America/Denver', 191),\n",
       " ('Europe/London', 74),\n",
       " ('Asia/Tokyo', 37),\n",
       " ('Pacific/Honolulu', 36),\n",
       " ('Europe/Madrid', 35),\n",
       " ('America/Sao_Paulo', 33)]"
      ]
     },
     "execution_count": 53,
     "metadata": {},
     "output_type": "execute_result"
    }
   ],
   "source": [
    "# counter 함수\n",
    "from collections import Counter\n",
    "counts2 = Counter(time_zones)\n",
    "print(counts2)\n",
    "type(counts2)\n",
    "counts2.most_common(10)"
   ]
  },
  {
   "cell_type": "code",
   "execution_count": 56,
   "metadata": {},
   "outputs": [],
   "source": [
    "import json\n",
    "path = 'usagov_bitly_data2012-03-16-1331923249.txt'\n",
    "recods = [json.loads(line) for line in open(path, encoding = 'utf-8')]\n",
    "\n",
    "from pandas import DataFrame, Series\n",
    "import pandas as pd\n",
    "import numpy as np"
   ]
  },
  {
   "cell_type": "code",
   "execution_count": 58,
   "metadata": {},
   "outputs": [
    {
     "data": {
      "text/plain": [
       "pandas.core.frame.DataFrame"
      ]
     },
     "execution_count": 58,
     "metadata": {},
     "output_type": "execute_result"
    }
   ],
   "source": [
    "frame = DataFrame(records)\n",
    "type(frame)"
   ]
  },
  {
   "cell_type": "code",
   "execution_count": 64,
   "metadata": {},
   "outputs": [
    {
     "name": "stdout",
     "output_type": "stream",
     "text": [
      "_heartbeat_                                                  NaN\n",
      "a              Mozilla/4.0 (compatible; MSIE 8.0; Windows NT ...\n",
      "al                                                         en-US\n",
      "c                                                             US\n",
      "cy                                                    Washington\n",
      "g                                                         xxr3Qb\n",
      "gr                                                            DC\n",
      "h                                                         xxr3Qb\n",
      "hc                                                   1.33192e+09\n",
      "hh                                                     1.usa.gov\n",
      "kw                                                           NaN\n",
      "l                                                          bitly\n",
      "ll                                         [38.9007, -77.043098]\n",
      "nk                                                             1\n",
      "r                                           http://t.co/03elZC4Q\n",
      "t                                                    1.33192e+09\n",
      "tz                                              America/New_York\n",
      "u              http://boxer.senate.gov/en/press/releases/0316...\n",
      "Name: 2, dtype: object\n",
      "\n",
      "_heartbeat_                                                  NaN\n",
      "a              Mozilla/4.0 (compatible; MSIE 8.0; Windows NT ...\n",
      "al                                                         en-US\n",
      "c                                                             US\n",
      "cy                                                    Washington\n",
      "g                                                         xxr3Qb\n",
      "gr                                                            DC\n",
      "h                                                         xxr3Qb\n",
      "hc                                                   1.33192e+09\n",
      "hh                                                     1.usa.gov\n",
      "kw                                                           NaN\n",
      "l                                                          bitly\n",
      "ll                                         [38.9007, -77.043098]\n",
      "nk                                                             1\n",
      "r                                           http://t.co/03elZC4Q\n",
      "t                                                    1.33192e+09\n",
      "tz                                              America/New_York\n",
      "u              http://boxer.senate.gov/en/press/releases/0316...\n",
      "Name: 2, dtype: object\n",
      "\n",
      "_heartbeat_                                                  NaN\n",
      "a              Mozilla/4.0 (compatible; MSIE 8.0; Windows NT ...\n",
      "al                                                         en-US\n",
      "c                                                             US\n",
      "cy                                                    Washington\n",
      "g                                                         xxr3Qb\n",
      "gr                                                            DC\n",
      "h                                                         xxr3Qb\n",
      "hc                                                   1.33192e+09\n",
      "hh                                                     1.usa.gov\n",
      "kw                                                           NaN\n",
      "l                                                          bitly\n",
      "ll                                         [38.9007, -77.043098]\n",
      "nk                                                             1\n",
      "r                                           http://t.co/03elZC4Q\n",
      "t                                                    1.33192e+09\n",
      "tz                                              America/New_York\n",
      "u              http://boxer.senate.gov/en/press/releases/0316...\n",
      "Name: 2, dtype: object\n",
      "\n",
      "0     America/New_York\n",
      "1       America/Denver\n",
      "2     America/New_York\n",
      "3    America/Sao_Paulo\n",
      "4     America/New_York\n",
      "5     America/New_York\n",
      "6        Europe/Warsaw\n",
      "7                     \n",
      "8                     \n",
      "9                     \n",
      "Name: tz, dtype: object\n"
     ]
    },
    {
     "name": "stderr",
     "output_type": "stream",
     "text": [
      "C:\\Users\\pulum\\AppData\\Local\\conda\\conda\\envs\\TF_VS_35\\lib\\site-packages\\ipykernel_launcher.py:2: DeprecationWarning: \n",
      ".ix is deprecated. Please use\n",
      ".loc for label based indexing or\n",
      ".iloc for positional indexing\n",
      "\n",
      "See the documentation here:\n",
      "http://pandas.pydata.org/pandas-docs/stable/indexing.html#ix-indexer-is-deprecated\n",
      "  \n"
     ]
    }
   ],
   "source": [
    "# 기본 접근\n",
    "print(frame.ix[2,:])\n",
    "print('')\n",
    "print(frame.iloc[2,:])\n",
    "print('')\n",
    "print(frame.loc[2,:])\n",
    "print('')\n",
    "print(frame['tz'][:10])"
   ]
  },
  {
   "cell_type": "code",
   "execution_count": 70,
   "metadata": {},
   "outputs": [
    {
     "data": {
      "text/plain": [
       "1251"
      ]
     },
     "execution_count": 70,
     "metadata": {},
     "output_type": "execute_result"
    }
   ],
   "source": [
    "# dataframe의 멤버 함수들 : count\n",
    "tz_counts = frame['tz'].value_counts()\n",
    "type(tz_counts)\n",
    "tz_counts[0]\n",
    "tz_counts[:10]\n",
    "tz_counts['America/New_York']"
   ]
  },
  {
   "cell_type": "code",
   "execution_count": 80,
   "metadata": {},
   "outputs": [
    {
     "data": {
      "text/plain": [
       "America/New_York       1251\n",
       "Unknown                 521\n",
       "America/Chicago         400\n",
       "America/Los_Angeles     382\n",
       "America/Denver          191\n",
       "Missing                 120\n",
       "Europe/London            74\n",
       "Asia/Tokyo               37\n",
       "Pacific/Honolulu         36\n",
       "Europe/Madrid            35\n",
       "Name: tz, dtype: int64"
      ]
     },
     "execution_count": 80,
     "metadata": {},
     "output_type": "execute_result"
    }
   ],
   "source": [
    "# 결측 데이터, nan 처리\n",
    "clean_tz = frame['tz'].fillna('Missing') # nan 처리\n",
    "clean_tz[clean_tz==''] = 'Unknown' # str type이지만, 없는 데이터 처리\n",
    "frame['tz'][7]\n",
    "type(frame['tz'][7])\n",
    "frame['tz'][13]\n",
    "type(frame['tz'][13])\n",
    "\n",
    "tz_counts1 = clean_tz.value_counts()\n",
    "tz_counts1[:10]"
   ]
  },
  {
   "cell_type": "code",
   "execution_count": 82,
   "metadata": {},
   "outputs": [
    {
     "data": {
      "text/plain": [
       "<matplotlib.axes._subplots.AxesSubplot at 0x2553888b550>"
      ]
     },
     "execution_count": 82,
     "metadata": {},
     "output_type": "execute_result"
    },
    {
     "data": {
      "image/png": "[encoded data removed]",
      "text/plain": [
       "<Figure size 432x288 with 1 Axes>"
      ]
     },
     "metadata": {
      "needs_background": "light"
     },
     "output_type": "display_data"
    }
   ],
   "source": [
    "# IDE에서 그래프 콘솔로 보기\n",
    "%matplotlib inline\n",
    "import matplotlib\n",
    "tz_counts1[:10].plot(kind='barh', rot=0)"
   ]
  },
  {
   "cell_type": "code",
   "execution_count": null,
   "metadata": {},
   "outputs": [],
   "source": [
    "# 다양한 데이터 형식 읽고 합치기\n",
    "unames = ['user_id', 'gender', 'age', 'occupation', 'zip']\n",
    "print(path)\n",
    "users = pd.read_csv('users.dat', sep = '::', header = None, names = unames, engine = 'python')\n",
    "users.plot('zip')\n",
    "\n",
    "rnames = ['user_id', 'movie_id', 'rating', 'timestamp']\n",
    "ratings = pd.read_csv('ratings.dat', sep = '::', header = None, names = rnames, engine= 'python')\n",
    "#print(ratings)\n",
    "\n",
    "mnames = ['movie_id', 'title', 'genres']\n",
    "movies = pd.read_csv('movies.dat', sep = '::', header = None, names = mnames, engine = 'python')\n",
    "#print(movies)\n",
    "\n",
    "data = pd.merge(pd.merge(ratings,users), movies)\n",
    "\n",
    "print(data[:10])"
   ]
  },
  {
   "cell_type": "code",
   "execution_count": 118,
   "metadata": {},
   "outputs": [
    {
     "name": "stdout",
     "output_type": "stream",
     "text": [
      "title\n",
      "$1,000,000 Duck (1971)                37\n",
      "'Night Mother (1986)                  70\n",
      "'Til There Was You (1997)             52\n",
      "'burbs, The (1989)                   303\n",
      "...And Justice for All (1979)        199\n",
      "1-900 (1994)                           2\n",
      "10 Things I Hate About You (1999)    700\n",
      "101 Dalmatians (1961)                565\n",
      "101 Dalmatians (1996)                364\n",
      "12 Angry Men (1957)                  616\n",
      "dtype: int64\n",
      "-----------\n",
      "title\n",
      "'burbs, The (1989)                                                     303\n",
      "10 Things I Hate About You (1999)                                      700\n",
      "101 Dalmatians (1961)                                                  565\n",
      "101 Dalmatians (1996)                                                  364\n",
      "12 Angry Men (1957)                                                    616\n",
      "13th Warrior, The (1999)                                               750\n",
      "2 Days in the Valley (1996)                                            286\n",
      "20,000 Leagues Under the Sea (1954)                                    575\n",
      "2001: A Space Odyssey (1968)                                          1716\n",
      "2010 (1984)                                                            470\n",
      "28 Days (2000)                                                         505\n",
      "39 Steps, The (1935)                                                   253\n",
      "54 (1998)                                                              259\n",
      "7th Voyage of Sinbad, The (1958)                                       258\n",
      "8MM (1999)                                                             272\n",
      "About Last Night... (1986)                                             326\n",
      "Absent Minded Professor, The (1961)                                    380\n",
      "Absolute Power (1997)                                                  380\n",
      "Abyss, The (1989)                                                     1715\n",
      "Ace Ventura: Pet Detective (1994)                                      766\n",
      "Ace Ventura: When Nature Calls (1995)                                  389\n",
      "Addams Family Values (1993)                                            463\n",
      "Addams Family, The (1991)                                              714\n",
      "Adventures in Babysitting (1987)                                       541\n",
      "Adventures of Buckaroo Bonzai Across the 8th Dimension, The (1984)     611\n",
      "Adventures of Priscilla, Queen of the Desert, The (1994)               469\n",
      "Adventures of Robin Hood, The (1938)                                   378\n",
      "African Queen, The (1951)                                             1057\n",
      "Age of Innocence, The (1993)                                           295\n",
      "Agnes of God (1985)                                                    276\n",
      "                                                                      ... \n",
      "White Men Can't Jump (1992)                                            667\n",
      "Who Framed Roger Rabbit? (1988)                                       1799\n",
      "Who's Afraid of Virginia Woolf? (1966)                                 297\n",
      "Whole Nine Yards, The (2000)                                           602\n",
      "Wild Bunch, The (1969)                                                 264\n",
      "Wild Things (1998)                                                     626\n",
      "Wild Wild West (1999)                                                  902\n",
      "William Shakespeare's Romeo and Juliet (1996)                          479\n",
      "Willow (1988)                                                          802\n",
      "Willy Wonka and the Chocolate Factory (1971)                          1313\n",
      "Witness (1985)                                                        1046\n",
      "Wizard of Oz, The (1939)                                              1718\n",
      "Wolf (1994)                                                            272\n",
      "Women on the Verge of a Nervous Breakdown (1988)                       353\n",
      "Wonder Boys (2000)                                                     496\n",
      "Working Girl (1988)                                                    514\n",
      "World Is Not Enough, The (1999)                                        862\n",
      "Wrong Trousers, The (1993)                                             882\n",
      "Wyatt Earp (1994)                                                      270\n",
      "X-Files: Fight the Future, The (1998)                                  996\n",
      "X-Men (2000)                                                          1511\n",
      "Year of Living Dangerously (1982)                                      391\n",
      "Yellow Submarine (1968)                                                399\n",
      "You've Got Mail (1998)                                                 838\n",
      "Young Frankenstein (1974)                                             1193\n",
      "Young Guns (1988)                                                      562\n",
      "Young Guns II (1990)                                                   369\n",
      "Young Sherlock Holmes (1985)                                           379\n",
      "Zero Effect (1998)                                                     301\n",
      "eXistenZ (1999)                                                        410\n",
      "Length: 1216, dtype: int64\n",
      "-----------\n",
      "Index([''burbs, The (1989)', '10 Things I Hate About You (1999)',\n",
      "       '101 Dalmatians (1961)', '101 Dalmatians (1996)', '12 Angry Men (1957)',\n",
      "       '13th Warrior, The (1999)', '2 Days in the Valley (1996)',\n",
      "       '20,000 Leagues Under the Sea (1954)', '2001: A Space Odyssey (1968)',\n",
      "       '2010 (1984)',\n",
      "       ...\n",
      "       'X-Men (2000)', 'Year of Living Dangerously (1982)',\n",
      "       'Yellow Submarine (1968)', 'You've Got Mail (1998)',\n",
      "       'Young Frankenstein (1974)', 'Young Guns (1988)',\n",
      "       'Young Guns II (1990)', 'Young Sherlock Holmes (1985)',\n",
      "       'Zero Effect (1998)', 'eXistenZ (1999)'],\n",
      "      dtype='object', name='title', length=1216)\n",
      "-----------\n",
      "gender                                                     F         M\n",
      "title                                                                 \n",
      "'burbs, The (1989)                                  2.793478  2.962085\n",
      "10 Things I Hate About You (1999)                   3.646552  3.311966\n",
      "101 Dalmatians (1961)                               3.791444  3.500000\n",
      "101 Dalmatians (1996)                               3.240000  2.911215\n",
      "12 Angry Men (1957)                                 4.184397  4.328421\n",
      "13th Warrior, The (1999)                            3.112000  3.168000\n",
      "2 Days in the Valley (1996)                         3.488889  3.244813\n",
      "20,000 Leagues Under the Sea (1954)                 3.670103  3.709205\n",
      "2001: A Space Odyssey (1968)                        3.825581  4.129738\n",
      "2010 (1984)                                         3.446809  3.413712\n",
      "28 Days (2000)                                      3.209424  2.977707\n",
      "39 Steps, The (1935)                                3.965517  4.107692\n",
      "54 (1998)                                           2.701754  2.782178\n",
      "7th Voyage of Sinbad, The (1958)                    3.409091  3.658879\n",
      "8MM (1999)                                          2.906250  2.850962\n",
      "About Last Night... (1986)                          3.188679  3.140909\n",
      "Absent Minded Professor, The (1961)                 3.469388  3.446809\n",
      "Absolute Power (1997)                               3.469136  3.327759\n",
      "Abyss, The (1989)                                   3.659236  3.689507\n",
      "Ace Ventura: Pet Detective (1994)                   3.000000  3.197917\n",
      "Ace Ventura: When Nature Calls (1995)               2.269663  2.543333\n",
      "Addams Family Values (1993)                         3.000000  2.878531\n",
      "Addams Family, The (1991)                           3.186170  3.163498\n",
      "Adventures in Babysitting (1987)                    3.455782  3.208122\n",
      "Adventures of Buckaroo Bonzai Across the 8th Di...  3.308511  3.402321\n",
      "Adventures of Priscilla, Queen of the Desert, T...  3.989071  3.688811\n",
      "Adventures of Robin Hood, The (1938)                4.166667  3.918367\n",
      "African Queen, The (1951)                           4.324232  4.223822\n",
      "Age of Innocence, The (1993)                        3.827068  3.339506\n",
      "Agnes of God (1985)                                 3.534884  3.244898\n",
      "...                                                      ...       ...\n",
      "White Men Can't Jump (1992)                         3.028777  3.231061\n",
      "Who Framed Roger Rabbit? (1988)                     3.569378  3.713251\n",
      "Who's Afraid of Virginia Woolf? (1966)              4.029703  4.096939\n",
      "Whole Nine Yards, The (2000)                        3.296552  3.404814\n",
      "Wild Bunch, The (1969)                              3.636364  4.128099\n",
      "Wild Things (1998)                                  3.392000  3.459082\n",
      "Wild Wild West (1999)                               2.275449  2.131973\n",
      "William Shakespeare's Romeo and Juliet (1996)       3.532609  3.318644\n",
      "Willow (1988)                                       3.658683  3.453543\n",
      "Willy Wonka and the Chocolate Factory (1971)        4.063953  3.789474\n",
      "Witness (1985)                                      4.115854  3.941504\n",
      "Wizard of Oz, The (1939)                            4.355030  4.203138\n",
      "Wolf (1994)                                         3.074074  2.899083\n",
      "Women on the Verge of a Nervous Breakdown (1988)    3.934307  3.865741\n",
      "Wonder Boys (2000)                                  4.043796  3.913649\n",
      "Working Girl (1988)                                 3.606742  3.312500\n",
      "World Is Not Enough, The (1999)                     3.337500  3.388889\n",
      "Wrong Trousers, The (1993)                          4.588235  4.478261\n",
      "Wyatt Earp (1994)                                   3.147059  3.283898\n",
      "X-Files: Fight the Future, The (1998)               3.489474  3.493797\n",
      "X-Men (2000)                                        3.682310  3.851702\n",
      "Year of Living Dangerously (1982)                   3.951220  3.869403\n",
      "Yellow Submarine (1968)                             3.714286  3.689286\n",
      "You've Got Mail (1998)                              3.542424  3.275591\n",
      "Young Frankenstein (1974)                           4.289963  4.239177\n",
      "Young Guns (1988)                                   3.371795  3.425620\n",
      "Young Guns II (1990)                                2.934783  2.904025\n",
      "Young Sherlock Holmes (1985)                        3.514706  3.363344\n",
      "Zero Effect (1998)                                  3.864407  3.723140\n",
      "eXistenZ (1999)                                     3.098592  3.289086\n",
      "\n",
      "[1216 rows x 2 columns]\n",
      "-----------\n",
      "gender                                                     F         M\n",
      "title                                                                 \n",
      "Close Shave, A (1995)                               4.644444  4.473795\n",
      "Wrong Trousers, The (1993)                          4.588235  4.478261\n",
      "Sunset Blvd. (a.k.a. Sunset Boulevard) (1950)       4.572650  4.464589\n",
      "Wallace & Gromit: The Best of Aardman Animation...  4.563107  4.385075\n",
      "Schindler's List (1993)                             4.562602  4.491415\n",
      "gender                                            F    M\n",
      "title                                                   \n",
      "Schlafes Bruder (Brother of Sleep) (1995)       NaN  5.0\n",
      "Small Wonders (1996)                       3.333333  5.0\n",
      "Gate of Heavenly Peace, The (1995)         5.000000  5.0\n",
      "Baby, The (1973)                                NaN  5.0\n",
      "Ulysses (Ulisse) (1954)                         NaN  5.0\n",
      "-----------\n",
      "gender                            F         M      diff\n",
      "title                                                  \n",
      "Dirty Dancing (1987)       3.790378  2.959596 -0.830782\n",
      "Jumpin' Jack Flash (1986)  3.254717  2.578358 -0.676359\n",
      "Grease (1978)              3.975265  3.367041 -0.608224\n",
      "Little Women (1994)        3.870588  3.321739 -0.548849\n",
      "Steel Magnolias (1989)     3.901734  3.365957 -0.535777\n",
      "gender                                         F         M      diff\n",
      "title                                                               \n",
      "Good, The Bad and The Ugly, The (1966)  3.494949  4.221300  0.726351\n",
      "Kentucky Fried Movie, The (1977)        2.878788  3.555147  0.676359\n",
      "Dumb & Dumber (1994)                    2.697987  3.336595  0.638608\n",
      "Longest Day, The (1962)                 3.411765  4.031447  0.619682\n",
      "Cable Guy, The (1996)                   2.250000  2.863787  0.613787\n",
      "Evil Dead II (Dead By Dawn) (1987)      3.297297  3.909283  0.611985\n",
      "Hidden, The (1987)                      3.137931  3.745098  0.607167\n",
      "Rocky III (1982)                        2.361702  2.943503  0.581801\n",
      "Caddyshack (1980)                       3.396135  3.969737  0.573602\n",
      "For a Few Dollars More (1965)           3.409091  3.953795  0.544704\n",
      "Porky's (1981)                          2.296875  2.836364  0.539489\n",
      "Animal House (1978)                     3.628906  4.167192  0.538286\n",
      "Exorcist, The (1973)                    3.537634  4.067239  0.529605\n",
      "Fright Night (1985)                     2.973684  3.500000  0.526316\n",
      "Barb Wire (1996)                        1.585366  2.100386  0.515020\n"
     ]
    }
   ],
   "source": [
    "# 데이터 드리블\n",
    "mean_ratings = data.pivot_table('rating', index = 'title', columns = 'gender', aggfunc = 'mean')\n",
    "mean_ratings[:5]\n",
    "\n",
    "ratings_by_title1 = data.groupby('title')\n",
    "#print(ratings_by_title1)\n",
    "ratings_by_title = data.groupby('title').size()\n",
    "print(ratings_by_title[:10])\n",
    "\n",
    "print('-----------')\n",
    "active_titles = ratings_by_title[ratings_by_title >= 250]\n",
    "# 데이터 자체 리턴\n",
    "print(active_titles)\n",
    "\n",
    "print('-----------')\n",
    "active_titles_index = ratings_by_title.index[ratings_by_title >= 250]\n",
    "# 250명 이상이 참여한 데이터의 인덱스 추출\n",
    "print(active_titles_index)\n",
    "\n",
    "print('-----------')\n",
    "mean_ratings2 = mean_ratings.loc[active_titles_index]\n",
    "# 250명이상이 참여한 영화의 남여 평균평점 데이터\n",
    "print(mean_ratings2)\n",
    "\n",
    "print('-----------')\n",
    "top_female_ratings = mean_ratings2.sort_values(by='F', ascending=False)\n",
    "print(top_female_ratings[:5]) # 여성이 좋아하는 순위\n",
    "\n",
    "top_male_ratings = mean_ratings.sort_values(by='M', ascending=False)\n",
    "print(top_male_ratings[:5])\n",
    "\n",
    "print('-----------')\n",
    "mean_ratings2['diff'] = mean_ratings['M'] - mean_ratings2['F'] #남녀차이\n",
    "sorted_by_diff = mean_ratings2.sort_values(by='diff')\n",
    "print(sorted_by_diff[:5])\n",
    "print(sorted_by_diff[::-1][:15]) # ::-1 => 뒤짚기"
   ]
  },
  {
   "cell_type": "code",
   "execution_count": 130,
   "metadata": {},
   "outputs": [
    {
     "name": "stdout",
     "output_type": "stream",
     "text": [
      "title\n",
      "$1,000,000 Duck (1971)                            1.092563\n",
      "'Night Mother (1986)                              1.118636\n",
      "'Til There Was You (1997)                         1.020159\n",
      "'burbs, The (1989)                                1.107760\n",
      "...And Justice for All (1979)                     0.878110\n",
      "1-900 (1994)                                      0.707107\n",
      "10 Things I Hate About You (1999)                 0.989815\n",
      "101 Dalmatians (1961)                             0.982103\n",
      "101 Dalmatians (1996)                             1.098717\n",
      "12 Angry Men (1957)                               0.812731\n",
      "13th Warrior, The (1999)                          1.140421\n",
      "187 (1997)                                        1.057919\n",
      "2 Days in the Valley (1996)                       0.921592\n",
      "20 Dates (1998)                                   1.151943\n",
      "20,000 Leagues Under the Sea (1954)               0.869685\n",
      "200 Cigarettes (1999)                             1.111964\n",
      "2001: A Space Odyssey (1968)                      1.042504\n",
      "2010 (1984)                                       0.946618\n",
      "24 7: Twenty Four Seven (1997)                    1.000000\n",
      "24-hour Woman (1998)                              0.666667\n",
      "28 Days (2000)                                    0.920278\n",
      "3 Ninjas: High Noon On Mega Mountain (1998)       0.791958\n",
      "3 Strikes (2000)                                  1.258306\n",
      "301, 302 (1995)                                   0.781736\n",
      "39 Steps, The (1935)                              0.853501\n",
      "400 Blows, The (Les Quatre cents coups) (1959)    0.869893\n",
      "42 Up (1998)                                      0.906265\n",
      "52 Pick-Up (1986)                                 0.911162\n",
      "54 (1998)                                         1.035481\n",
      "7th Voyage of Sinbad, The (1958)                  0.931531\n",
      "                                                    ...   \n",
      "Wrongfully Accused (1998)                         1.249283\n",
      "Wyatt Earp (1994)                                 0.922257\n",
      "X-Files: Fight the Future, The (1998)             0.897204\n",
      "X-Men (2000)                                      0.915067\n",
      "X: The Unknown (1956)                             1.267304\n",
      "Xiu Xiu: The Sent-Down Girl (Tian yu) (1998)      1.026503\n",
      "Yankee Zulu (1994)                                0.000000\n",
      "Yards, The (1999)                                 1.071440\n",
      "Year My Voice Broke, The (1987)                   0.786278\n",
      "Year of Living Dangerously (1982)                 0.880997\n",
      "Year of the Horse (1997)                          1.258306\n",
      "Yellow Submarine (1968)                           1.075429\n",
      "Yojimbo (1961)                                    0.853238\n",
      "You Can't Take It With You (1938)                 0.938833\n",
      "You So Crazy (1994)                               1.445595\n",
      "You've Got Mail (1998)                            1.037854\n",
      "Young Doctors in Love (1982)                      0.992507\n",
      "Young Frankenstein (1974)                         0.872810\n",
      "Young Guns (1988)                                 1.017437\n",
      "Young Guns II (1990)                              1.071959\n",
      "Young Poisoner's Handbook, The (1995)             0.787355\n",
      "Young Sherlock Holmes (1985)                      0.891176\n",
      "Young and Innocent (1937)                         1.251666\n",
      "Your Friends and Neighbors (1998)                 1.128659\n",
      "Zachariah (1971)                                  2.121320\n",
      "Zed & Two Noughts, A (1985)                       1.052794\n",
      "Zero Effect (1998)                                1.042932\n",
      "Zero Kelvin (Kj�rlighetens kj�tere) (1995)        0.707107\n",
      "Zeus and Roxanne (1997)                           1.122884\n",
      "eXistenZ (1999)                                   1.178568\n",
      "Name: rating, Length: 3706, dtype: float64\n",
      "------------\n",
      "title\n",
      "'burbs, The (1989)                                                    1.107760\n",
      "10 Things I Hate About You (1999)                                     0.989815\n",
      "101 Dalmatians (1961)                                                 0.982103\n",
      "101 Dalmatians (1996)                                                 1.098717\n",
      "12 Angry Men (1957)                                                   0.812731\n",
      "13th Warrior, The (1999)                                              1.140421\n",
      "2 Days in the Valley (1996)                                           0.921592\n",
      "20,000 Leagues Under the Sea (1954)                                   0.869685\n",
      "2001: A Space Odyssey (1968)                                          1.042504\n",
      "2010 (1984)                                                           0.946618\n",
      "28 Days (2000)                                                        0.920278\n",
      "39 Steps, The (1935)                                                  0.853501\n",
      "54 (1998)                                                             1.035481\n",
      "7th Voyage of Sinbad, The (1958)                                      0.931531\n",
      "8MM (1999)                                                            1.113432\n",
      "About Last Night... (1986)                                            0.943025\n",
      "Absent Minded Professor, The (1961)                                   0.938965\n",
      "Absolute Power (1997)                                                 0.891659\n",
      "Abyss, The (1989)                                                     0.948102\n",
      "Ace Ventura: Pet Detective (1994)                                     1.140481\n",
      "Ace Ventura: When Nature Calls (1995)                                 1.178748\n",
      "Addams Family Values (1993)                                           1.013979\n",
      "Addams Family, The (1991)                                             0.974064\n",
      "Adventures in Babysitting (1987)                                      1.001816\n",
      "Adventures of Buckaroo Bonzai Across the 8th Dimension, The (1984)    1.161592\n",
      "Adventures of Priscilla, Queen of the Desert, The (1994)              1.009933\n",
      "Adventures of Robin Hood, The (1938)                                  0.912244\n",
      "African Queen, The (1951)                                             0.820580\n",
      "Age of Innocence, The (1993)                                          0.919760\n",
      "Agnes of God (1985)                                                   0.936249\n",
      "                                                                        ...   \n",
      "White Men Can't Jump (1992)                                           0.938178\n",
      "Who Framed Roger Rabbit? (1988)                                       0.964780\n",
      "Who's Afraid of Virginia Woolf? (1966)                                0.959255\n",
      "Whole Nine Yards, The (2000)                                          0.963258\n",
      "Wild Bunch, The (1969)                                                0.933117\n",
      "Wild Things (1998)                                                    1.032785\n",
      "Wild Wild West (1999)                                                 1.065205\n",
      "William Shakespeare's Romeo and Juliet (1996)                         1.167051\n",
      "Willow (1988)                                                         1.002175\n",
      "Willy Wonka and the Chocolate Factory (1971)                          1.016170\n",
      "Witness (1985)                                                        0.795913\n",
      "Wizard of Oz, The (1939)                                              0.895978\n",
      "Wolf (1994)                                                           1.081220\n",
      "Women on the Verge of a Nervous Breakdown (1988)                      0.882129\n",
      "Wonder Boys (2000)                                                    0.880473\n",
      "Working Girl (1988)                                                   0.879409\n",
      "World Is Not Enough, The (1999)                                       0.972892\n",
      "Wrong Trousers, The (1993)                                            0.708666\n",
      "Wyatt Earp (1994)                                                     0.922257\n",
      "X-Files: Fight the Future, The (1998)                                 0.897204\n",
      "X-Men (2000)                                                          0.915067\n",
      "Year of Living Dangerously (1982)                                     0.880997\n",
      "Yellow Submarine (1968)                                               1.075429\n",
      "You've Got Mail (1998)                                                1.037854\n",
      "Young Frankenstein (1974)                                             0.872810\n",
      "Young Guns (1988)                                                     1.017437\n",
      "Young Guns II (1990)                                                  1.071959\n",
      "Young Sherlock Holmes (1985)                                          0.891176\n",
      "Zero Effect (1998)                                                    1.042932\n",
      "eXistenZ (1999)                                                       1.178568\n",
      "Name: rating, Length: 1216, dtype: float64\n"
     ]
    }
   ],
   "source": [
    "# 남,녀 구분없이 영화 호불호가 극명한 영화\n",
    "# 분산, 표준편차로 판단\n",
    "ratings_std_by_title = data.groupby('title')['rating'].std()\n",
    "print(ratings_std_by_title)\n",
    "\n",
    "print('------------')\n",
    "ratings_std_by_title2 = ratings_std_by_title[active_titles_index] # 250명 이상으로 필터링\n",
    "print(ratings_std_by_title2)"
   ]
  },
  {
   "cell_type": "code",
   "execution_count": 131,
   "metadata": {},
   "outputs": [
    {
     "ename": "NameError",
     "evalue": "name 'rating_std_by_title2' is not defined",
     "output_type": "error",
     "traceback": [
      "\u001b[1;31m---------------------------------------------------------------------------\u001b[0m",
      "\u001b[1;31mNameError\u001b[0m                                 Traceback (most recent call last)",
      "\u001b[1;32m<ipython-input-131-25f82ee32718>\u001b[0m in \u001b[0;36m<module>\u001b[1;34m\u001b[0m\n\u001b[0;32m      1\u001b[0m \u001b[1;31m# 정렬\u001b[0m\u001b[1;33m\u001b[0m\u001b[1;33m\u001b[0m\u001b[1;33m\u001b[0m\u001b[0m\n\u001b[0;32m      2\u001b[0m \u001b[1;32mimport\u001b[0m \u001b[0moperator\u001b[0m\u001b[1;33m\u001b[0m\u001b[1;33m\u001b[0m\u001b[0m\n\u001b[1;32m----> 3\u001b[1;33m rating_std_by_title2 = sorted(rating_std_by_title2.items(),\n\u001b[0m\u001b[0;32m      4\u001b[0m                              key = operator.itemgetter(0))[-10:]\n",
      "\u001b[1;31mNameError\u001b[0m: name 'rating_std_by_title2' is not defined"
     ]
    }
   ],
   "source": [
    "# 정렬\n",
    "import operator\n",
    "rating_std_by_title2 = sorted(ratings_std_by_title2.items(),\n",
    "                             key = operator.itemgetter(0))[-10:]"
   ]
  },
  {
   "cell_type": "markdown",
   "metadata": {},
   "source": [
    "# refered by https://yamalab.tistory.com/29"
   ]
  }
 ],
 "metadata": {
  "kernelspec": {
   "display_name": "Python 3",
   "language": "python",
   "name": "python3"
  },
  "language_info": {
   "codemirror_mode": {
    "name": "ipython",
    "version": 3
   },
   "file_extension": ".py",
   "mimetype": "text/x-python",
   "name": "python",
   "nbconvert_exporter": "python",
   "pygments_lexer": "ipython3",
   "version": "3.6.8"
  }
 },
 "nbformat": 4,
 "nbformat_minor": 4
}
