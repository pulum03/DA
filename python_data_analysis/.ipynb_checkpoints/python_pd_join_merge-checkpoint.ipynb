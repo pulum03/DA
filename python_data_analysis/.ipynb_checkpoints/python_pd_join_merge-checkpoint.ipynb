{
 "cells": [
  {
   "cell_type": "code",
   "execution_count": 1,
   "metadata": {},
   "outputs": [],
   "source": [
    "import numpy as np\n",
    "import pandas as pd"
   ]
  },
  {
   "cell_type": "code",
   "execution_count": 7,
   "metadata": {},
   "outputs": [
    {
     "name": "stdout",
     "output_type": "stream",
     "text": [
      "         Cost Item Purchased    Name         Date  Delivered  Feedback\n",
      "Store 1  22.5         Sponge   Chris  Decemeber 1       True  Positive\n",
      "Store 1   2.5   Kitty Litter  Kelvin    January 1       True      None\n",
      "Store 2   5.0          Spoon   Filip      mid-May       True  Negative\n",
      "     index  Cost Item Purchased    Name       Date  Delivered  Feedback\n",
      "0  Store 1  22.5         Sponge   Chris  Decemeber       True  Positive\n",
      "1  Store 1   2.5   Kitty Litter  Kelvin        NaN       True      None\n",
      "2  Store 2   5.0          Spoon   Filip    mid-May       True  Negative\n"
     ]
    }
   ],
   "source": [
    "df = pd.DataFrame([\n",
    "    {'Name' : 'Chris', 'Item Purchased' : 'Sponge', 'Cost' : 22.50},\n",
    "    {'Name' : 'Kelvin', 'Item Purchased' : 'Kitty Litter', 'Cost' : 2.50},\n",
    "    {'Name' : 'Filip', 'Item Purchased' : 'Spoon', 'Cost' : 5.00}],\n",
    "    index = ['Store 1', 'Store 1', 'Store 2'])\n",
    "\n",
    "\n",
    "df['Date'] = ['Decemeber 1', 'January 1', 'mid-May']\n",
    "df['Delivered'] = True\n",
    "df['Feedback'] = ['Positive', None, 'Negative']\n",
    "print(df)\n",
    "\n",
    "adf = df.reset_index() # 인덱스 재설정 0~N까지\n",
    "adf['Date'] = pd.Series({0:'Decemeber', 2:'mid-May'})\n",
    "print(adf)"
   ]
  },
  {
   "cell_type": "code",
   "execution_count": 11,
   "metadata": {},
   "outputs": [
    {
     "name": "stdout",
     "output_type": "stream",
     "text": [
      "    Name            Role\n",
      "0  Kelly  Director of HR\n",
      "1  Sally  Course liasion\n",
      "2  James          Grader\n",
      "                 Role\n",
      "Name                 \n",
      "Kelly  Director of HR\n",
      "Sally  Course liasion\n",
      "James          Grader\n"
     ]
    }
   ],
   "source": [
    "staff_df = pd.DataFrame([\n",
    "    {'Name' : 'Kelly', 'Role' : 'Director of HR'},\n",
    "    {'Name' : 'Sally', 'Role' : 'Course liasion'},\n",
    "    {'Name' : 'James', 'Role' : 'Grader'}    \n",
    "])\n",
    "\n",
    "print(staff_df)\n",
    "\n",
    "staff_df = staff_df.set_index('Name') # Name 컬럼을 인덱스로\n",
    "print(staff_df)"
   ]
  },
  {
   "cell_type": "code",
   "execution_count": 14,
   "metadata": {},
   "outputs": [
    {
     "name": "stdout",
     "output_type": "stream",
     "text": [
      "    Name       School\n",
      "0  James     Business\n",
      "1   Mike          Law\n",
      "2  Sally  Engineering\n",
      "            School\n",
      "Name              \n",
      "James     Business\n",
      "Mike           Law\n",
      "Sally  Engineering\n"
     ]
    }
   ],
   "source": [
    "student_df = pd.DataFrame([\n",
    "    {'Name' : 'James', 'School' : 'Business'},\n",
    "    {'Name' : 'Mike', 'School' : 'Law'},\n",
    "    {'Name' : 'Sally', 'School' : 'Engineering'},\n",
    "])\n",
    "\n",
    "print(student_df)\n",
    "student_df = student_df.set_index('Name')\n",
    "print(student_df)"
   ]
  },
  {
   "cell_type": "code",
   "execution_count": 16,
   "metadata": {},
   "outputs": [
    {
     "name": "stdout",
     "output_type": "stream",
     "text": [
      "                 Role       School\n",
      "Name                              \n",
      "James          Grader     Business\n",
      "Kelly  Director of HR          NaN\n",
      "Mike              NaN          Law\n",
      "Sally  Course liasion  Engineering\n"
     ]
    }
   ],
   "source": [
    "# staff_df 와 student_df를 인덱스(Name)을 기준으로 outer_join\n",
    "outer_join = pd.merge(staff_df, student_df, how='outer', left_index=True, right_index=True)\n",
    "print(outer_join)"
   ]
  },
  {
   "cell_type": "code",
   "execution_count": 18,
   "metadata": {},
   "outputs": [
    {
     "name": "stdout",
     "output_type": "stream",
     "text": [
      "                 Role       School\n",
      "Name                              \n",
      "Sally  Course liasion  Engineering\n",
      "James          Grader     Business\n"
     ]
    }
   ],
   "source": [
    "# staff_df 와 student_df를 인덱스를 기준으로 inner_join\n",
    "inner_join = pd.merge(staff_df, student_df, how='inner', left_index=True, right_index=True)\n",
    "print(inner_join)"
   ]
  },
  {
   "cell_type": "code",
   "execution_count": 19,
   "metadata": {},
   "outputs": [
    {
     "name": "stdout",
     "output_type": "stream",
     "text": [
      "                 Role       School\n",
      "Name                              \n",
      "Kelly  Director of HR          NaN\n",
      "Sally  Course liasion  Engineering\n",
      "James          Grader     Business\n"
     ]
    }
   ],
   "source": [
    "# staff_df 와 student_df를 기준으로 left_join\n",
    "left_join = pd.merge(staff_df, student_df, how='left', left_index=True, right_index=True)\n",
    "print(left_join)"
   ]
  },
  {
   "cell_type": "code",
   "execution_count": 20,
   "metadata": {},
   "outputs": [
    {
     "name": "stdout",
     "output_type": "stream",
     "text": [
      "                 Role       School\n",
      "Name                              \n",
      "James          Grader     Business\n",
      "Mike              NaN          Law\n",
      "Sally  Course liasion  Engineering\n"
     ]
    }
   ],
   "source": [
    "# staff_df 와 student_df를 인덱스를 기준으로 right_join\n",
    "right_join = pd.merge(staff_df, student_df, how='right', left_index=True, right_index=True)\n",
    "print(right_join)"
   ]
  },
  {
   "cell_type": "code",
   "execution_count": 23,
   "metadata": {},
   "outputs": [
    {
     "name": "stdout",
     "output_type": "stream",
     "text": [
      "   level_0  index   Name            Role\n",
      "0        0      0  Kelly  Director of HR\n",
      "1        1      1  Sally  Course liasion\n",
      "2        2      2  James          Grader\n",
      "   level_0  index   Name       School\n",
      "0        0      0  James     Business\n",
      "1        1      1   Mike          Law\n",
      "2        2      2  Sally  Engineering\n",
      "   level_0_x  index_x   Name            Role  level_0_y  index_y       School\n",
      "0          0        0  Kelly  Director of HR        NaN      NaN          NaN\n",
      "1          1        1  Sally  Course liasion        2.0      2.0  Engineering\n",
      "2          2        2  James          Grader        0.0      0.0     Business\n"
     ]
    }
   ],
   "source": [
    "staff_df = staff_df.reset_index()\n",
    "student_df = student_df.reset_index()\n",
    "print(staff_df)\n",
    "print(student_df)\n",
    "\n",
    "# Name 컬림 기준 left 조인\n",
    "left_join2 = pd.merge(staff_df, student_df, how='left', left_on='Name', right_on='Name')\n",
    "print(left_join2)"
   ]
  },
  {
   "cell_type": "code",
   "execution_count": 26,
   "metadata": {},
   "outputs": [
    {
     "name": "stdout",
     "output_type": "stream",
     "text": [
      "  First Name Last Name            Role       School\n",
      "0      Sally    Brooks  Course liasion  Engineering\n"
     ]
    }
   ],
   "source": [
    "staff_df = pd.DataFrame([\n",
    "    {'First Name': 'Kelly', 'Last Name': 'Desjardins', 'Role': 'Director of HR'},\n",
    "    {'First Name': 'Sally', 'Last Name': 'Brooks', 'Role': 'Course liasion'},\n",
    "    {'First Name': 'James', 'Last Name': 'Wilde', 'Role': 'Grader'}\n",
    "])\n",
    "\n",
    "student_df = pd.DataFrame([\n",
    "    {'First Name': 'James', 'Last Name': 'Hammond', 'School': 'Business'},\n",
    "    {'First Name': 'Mike', 'Last Name': 'Smith', 'School': 'Law'},\n",
    "    {'First Name': 'Sally', 'Last Name': 'Brooks', 'School': 'Engineering'}\n",
    "])\n",
    "\n",
    "# 복슈의 컬럼을 기준으로 join\n",
    "multiple_join = pd.merge(staff_df, student_df, how='inner', left_on=['First Name','Last Name'], right_on=['First Name','Last Name'])\n",
    "\n",
    "print(multiple_join)"
   ]
  },
  {
   "cell_type": "code",
   "execution_count": null,
   "metadata": {},
   "outputs": [],
   "source": [
    "# Refered by https://engkimbs.tistory.com/ "
   ]
  }
 ],
 "metadata": {
  "kernelspec": {
   "display_name": "Python 3",
   "language": "python",
   "name": "python3"
  },
  "language_info": {
   "codemirror_mode": {
    "name": "ipython",
    "version": 3
   },
   "file_extension": ".py",
   "mimetype": "text/x-python",
   "name": "python",
   "nbconvert_exporter": "python",
   "pygments_lexer": "ipython3",
   "version": "3.6.8"
  }
 },
 "nbformat": 4,
 "nbformat_minor": 4
}
