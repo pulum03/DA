{
 "cells": [
  {
   "cell_type": "code",
   "execution_count": null,
   "metadata": {},
   "outputs": [],
   "source": [
    "import pandas as pd\n",
    "import numpy as np"
   ]
  },
  {
   "cell_type": "code",
   "execution_count": 5,
   "metadata": {},
   "outputs": [
    {
     "name": "stdout",
     "output_type": "stream",
     "text": [
      "            0\n",
      "Excellent  A+\n",
      "Excellent   A\n",
      "Excellent  A-\n",
      "Better     B+\n",
      "Better      B\n",
      "Better     B-\n",
      "Good       C+\n",
      "Good        C\n",
      "Good       C-\n",
      "Ok         D+\n",
      "Ok          D\n",
      "          Grades\n",
      "Excellent     A+\n",
      "Excellent      A\n",
      "Excellent     A-\n",
      "Better        B+\n",
      "Better         B\n",
      "Better        B-\n",
      "Good          C+\n",
      "Good           C\n",
      "Good          C-\n",
      "Ok            D+\n",
      "Ok             D\n"
     ]
    }
   ],
   "source": [
    "df = pd.DataFrame(['A+', 'A', 'A-', 'B+', 'B', 'B-', 'C+', 'C', 'C-', 'D+', 'D'], \\\n",
    "                     index = ['Excellent', 'Excellent', 'Excellent', 'Better', 'Better', 'Better', 'Good', 'Good', 'Good', 'Ok', 'Ok'])\n",
    "print(df)\n",
    "\n",
    "df.rename(columns={0:'Grades'}, inplace = True)\n",
    "print(df)"
   ]
  },
  {
   "cell_type": "code",
   "execution_count": 9,
   "metadata": {},
   "outputs": [
    {
     "name": "stdout",
     "output_type": "stream",
     "text": [
      "Excellent    A+\n",
      "Excellent     A\n",
      "Excellent    A-\n",
      "Better       B+\n",
      "Better        B\n",
      "Better       B-\n",
      "Good         C+\n",
      "Good          C\n",
      "Good         C-\n",
      "Ok           D+\n",
      "Ok            D\n",
      "Name: Grades, dtype: category\n",
      "Categories (11, object): [A, A+, A-, B, ..., C+, C-, D, D+]\n",
      "\n",
      "Excellent    A+\n",
      "Excellent     A\n",
      "Excellent    A-\n",
      "Better       B+\n",
      "Better        B\n",
      "Name: Grades, dtype: category\n",
      "Categories (11, object): [A, A+, A-, B, ..., C+, C-, D, D+]\n"
     ]
    }
   ],
   "source": [
    "# category 타입으로 타입 캐스팅\n",
    "\n",
    "df1 = df['Grades'].astype('category')\n",
    "print(df1)\n",
    "\n",
    "print('')\n",
    "df_head = df['Grades'].astype('category').head()\n",
    "print(df_head)"
   ]
  },
  {
   "cell_type": "code",
   "execution_count": 14,
   "metadata": {},
   "outputs": [
    {
     "name": "stdout",
     "output_type": "stream",
     "text": [
      "Excellent    A+\n",
      "Excellent     A\n",
      "Excellent    A-\n",
      "Better       B+\n",
      "Better        B\n",
      "Name: Grades, dtype: category\n",
      "Categories (11, object): [D < D+ < C- < C ... B+ < A- < A < A+]\n",
      "\n",
      "Excellent     True\n",
      "Excellent     True\n",
      "Excellent     True\n",
      "Better        True\n",
      "Better        True\n",
      "Better        True\n",
      "Good          True\n",
      "Good         False\n",
      "Good         False\n",
      "Ok           False\n",
      "Ok           False\n",
      "Name: Grades, dtype: bool\n"
     ]
    }
   ],
   "source": [
    "# 순서가 있는 category 타입으로 타입 캐스팅\n",
    "grades = df['Grades'].astype('category', categories=['D', 'D+', 'C-', 'C', 'C+', 'B-', 'B', 'B+', 'A-', 'A', 'A+'],\\\n",
    "                            ordered=True)\n",
    "print(grades.head())\n",
    "print('')\n",
    "print(grades > 'C')"
   ]
  },
  {
   "cell_type": "code",
   "execution_count": 19,
   "metadata": {},
   "outputs": [
    {
     "name": "stdout",
     "output_type": "stream",
     "text": [
      "STNAME\n",
      "Alabama                   (11706.087, 75333.413]\n",
      "Alaska                    (11706.087, 75333.413]\n",
      "Arizona                 (390320.176, 453317.529]\n",
      "Arkansas                  (11706.087, 75333.413]\n",
      "California              (579312.234, 642309.586]\n",
      "Colorado                 (75333.413, 138330.766]\n",
      "Connecticut             (390320.176, 453317.529]\n",
      "Delaware                (264325.471, 327322.823]\n",
      "District of Columbia    (579312.234, 642309.586]\n",
      "Florida                 (264325.471, 327322.823]\n",
      "Georgia                   (11706.087, 75333.413]\n",
      "Hawaii                  (264325.471, 327322.823]\n",
      "Idaho                     (11706.087, 75333.413]\n",
      "Illinois                 (75333.413, 138330.766]\n",
      "Indiana                   (11706.087, 75333.413]\n",
      "Iowa                      (11706.087, 75333.413]\n",
      "Kansas                    (11706.087, 75333.413]\n",
      "Kentucky                  (11706.087, 75333.413]\n",
      "Louisiana                 (11706.087, 75333.413]\n",
      "Maine                    (75333.413, 138330.766]\n",
      "Maryland                (201328.118, 264325.471]\n",
      "Massachusetts           (453317.529, 516314.881]\n",
      "Michigan                 (75333.413, 138330.766]\n",
      "Minnesota                 (11706.087, 75333.413]\n",
      "Mississippi               (11706.087, 75333.413]\n",
      "Missouri                  (11706.087, 75333.413]\n",
      "Montana                   (11706.087, 75333.413]\n",
      "Nebraska                  (11706.087, 75333.413]\n",
      "Nevada                  (138330.766, 201328.118]\n",
      "New Hampshire            (75333.413, 138330.766]\n",
      "New Jersey              (390320.176, 453317.529]\n",
      "New Mexico                (11706.087, 75333.413]\n",
      "New York                (264325.471, 327322.823]\n",
      "North Carolina           (75333.413, 138330.766]\n",
      "North Dakota              (11706.087, 75333.413]\n",
      "Ohio                     (75333.413, 138330.766]\n",
      "Oklahoma                  (11706.087, 75333.413]\n",
      "Oregon                   (75333.413, 138330.766]\n",
      "Pennsylvania            (138330.766, 201328.118]\n",
      "Rhode Island            (201328.118, 264325.471]\n",
      "South Carolina           (75333.413, 138330.766]\n",
      "South Dakota              (11706.087, 75333.413]\n",
      "Tennessee                 (11706.087, 75333.413]\n",
      "Texas                    (75333.413, 138330.766]\n",
      "Utah                     (75333.413, 138330.766]\n",
      "Vermont                   (11706.087, 75333.413]\n",
      "Virginia                  (11706.087, 75333.413]\n",
      "Washington              (138330.766, 201328.118]\n",
      "West Virginia             (11706.087, 75333.413]\n",
      "Wisconsin                (75333.413, 138330.766]\n",
      "Wyoming                   (11706.087, 75333.413]\n",
      "Name: avg, dtype: category\n",
      "Categories (10, interval[float64]): [(11706.087, 75333.413] < (75333.413, 138330.766] < (138330.766, 201328.118] < (201328.118, 264325.471] ... (390320.176, 453317.529] < (453317.529, 516314.881] < (516314.881, 579312.234] < (579312.234, 642309.586]]\n",
      "                                avg\n",
      "STNAME                             \n",
      "Alabama                71339.343284\n",
      "Alaska                 24490.724138\n",
      "Arizona               426134.466667\n",
      "Arkansas               38878.906667\n",
      "California            642309.586207\n",
      "Colorado               78581.187500\n",
      "Connecticut           446762.125000\n",
      "Delaware              299311.333333\n",
      "District of Columbia  601723.000000\n",
      "Florida               280616.567164\n",
      "Georgia                60928.635220\n",
      "Hawaii                272060.200000\n",
      "Idaho                  35626.863636\n",
      "Illinois              125790.509804\n",
      "Indiana                70476.108696\n",
      "Iowa                   30771.262626\n",
      "Kansas                 27172.552381\n",
      "Kentucky               36161.391667\n",
      "Louisiana              70833.937500\n",
      "Maine                  83022.562500\n",
      "Maryland              240564.666667\n",
      "Massachusetts         467687.785714\n",
      "Michigan              119080.000000\n",
      "Minnesota              60964.655172\n",
      "Mississippi            36186.548780\n",
      "Missouri               52077.626087\n",
      "Montana                17668.125000\n",
      "Nebraska               19638.075269\n",
      "Nevada                158855.941176\n",
      "New Hampshire         131647.000000\n",
      "New Jersey            418661.619048\n",
      "New Mexico             62399.363636\n",
      "New York              312550.032258\n",
      "North Carolina         95354.830000\n",
      "North Dakota           12690.396226\n",
      "Ohio                  131096.636364\n",
      "Oklahoma               48718.844156\n",
      "Oregon                106418.722222\n",
      "Pennsylvania          189587.746269\n",
      "Rhode Island          210513.400000\n",
      "South Carolina        100551.391304\n",
      "South Dakota           12336.060606\n",
      "Tennessee              66801.105263\n",
      "Texas                  98998.271654\n",
      "Utah                   95306.379310\n",
      "Vermont                44695.785714\n",
      "Virginia               60111.293233\n",
      "Washington            172424.102564\n",
      "West Virginia          33690.800000\n",
      "Wisconsin              78985.916667\n",
      "Wyoming                24505.478261\n"
     ]
    },
    {
     "name": "stderr",
     "output_type": "stream",
     "text": [
      "C:\\Users\\pulum\\AppData\\Local\\conda\\conda\\envs\\TF_VS_35\\lib\\site-packages\\ipykernel_launcher.py:4: FutureWarning: using a dict on a Series for aggregation\n",
      "is deprecated and will be removed in a future version\n",
      "  after removing the cwd from sys.path.\n"
     ]
    }
   ],
   "source": [
    "df = pd.read_csv('census.csv')\n",
    "df = df[df['SUMLEV']==50]\n",
    "#print(df)\n",
    "df = df.set_index('STNAME').groupby(level=0)['CENSUS2010POP'].agg({'avg':np.average})\n",
    "# 현재 있는 값들의 분포를 10등분하여 나타냄\n",
    "# 히스토그램에서 각각의 값들을 특정 범위마다 집어넣는 것\n",
    "print(pd.cut(df['avg'],10))\n",
    "print(df)"
   ]
  },
  {
   "cell_type": "code",
   "execution_count": 21,
   "metadata": {},
   "outputs": [
    {
     "name": "stdout",
     "output_type": "stream",
     "text": [
      "0     (167.978, 175.333]\n",
      "1     (175.333, 182.667]\n",
      "2     (167.978, 175.333]\n",
      "3       (182.667, 190.0]\n",
      "4     (167.978, 175.333]\n",
      "5       (182.667, 190.0]\n",
      "6     (175.333, 182.667]\n",
      "7     (175.333, 182.667]\n",
      "8     (167.978, 175.333]\n",
      "9     (167.978, 175.333]\n",
      "10    (175.333, 182.667]\n",
      "11    (175.333, 182.667]\n",
      "12    (175.333, 182.667]\n",
      "13    (167.978, 175.333]\n",
      "dtype: category\n",
      "Categories (3, interval[float64]): [(167.978, 175.333] < (175.333, 182.667] < (182.667, 190.0]]\n"
     ]
    }
   ],
   "source": [
    "s = pd.Series([168, 180, 174, 190, 170, 185, 179, 181, 175, 169, 182, 177, 180, 171])\n",
    "\n",
    "print(pd.cut(s,3))"
   ]
  },
  {
   "cell_type": "code",
   "execution_count": 27,
   "metadata": {},
   "outputs": [
    {
     "name": "stdout",
     "output_type": "stream",
     "text": [
      "0      Small\n",
      "1     Medium\n",
      "2      Small\n",
      "3      Large\n",
      "4      Small\n",
      "5      Large\n",
      "6     Medium\n",
      "7     Medium\n",
      "8      Small\n",
      "9      Small\n",
      "10    Medium\n",
      "11    Medium\n",
      "12    Medium\n",
      "13     Small\n",
      "dtype: category\n",
      "Categories (3, object): [Small < Medium < Large]\n",
      "\n",
      "0     VSmall\n",
      "1     Medium\n",
      "2      Small\n",
      "3     VLarge\n",
      "4     VSmall\n",
      "5      Large\n",
      "6     Medium\n",
      "7     Medium\n",
      "8      Small\n",
      "9     VSmall\n",
      "10     Large\n",
      "11    Medium\n",
      "12    Medium\n",
      "13    VSmall\n",
      "dtype: category\n",
      "Categories (5, object): [VSmall < Small < Medium < Large < VLarge]\n"
     ]
    }
   ],
   "source": [
    "# 각 특정 범위에 라벨을 달아서 표시\n",
    "print(pd.cut(s, 3, labels=['Small', 'Medium', 'Large']))\n",
    "print('')\n",
    "print(pd.cut(s, 5, labels=['VSmall', 'Small', 'Medium', 'Large', 'VLarge']))"
   ]
  },
  {
   "cell_type": "markdown",
   "metadata": {},
   "source": [
    "# Refered by https://engkimbs.tistory.com/"
   ]
  }
 ],
 "metadata": {
  "kernelspec": {
   "display_name": "Python 3",
   "language": "python",
   "name": "python3"
  },
  "language_info": {
   "codemirror_mode": {
    "name": "ipython",
    "version": 3
   },
   "file_extension": ".py",
   "mimetype": "text/x-python",
   "name": "python",
   "nbconvert_exporter": "python",
   "pygments_lexer": "ipython3",
   "version": "3.6.8"
  }
 },
 "nbformat": 4,
 "nbformat_minor": 4
}
