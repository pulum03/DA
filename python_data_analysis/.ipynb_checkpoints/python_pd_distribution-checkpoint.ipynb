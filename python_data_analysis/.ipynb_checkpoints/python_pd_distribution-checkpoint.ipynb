{
 "cells": [
  {
   "cell_type": "code",
   "execution_count": 20,
   "metadata": {},
   "outputs": [],
   "source": [
    "import numpy as np\n",
    "import pandas as pd"
   ]
  },
  {
   "cell_type": "code",
   "execution_count": null,
   "metadata": {},
   "outputs": [],
   "source": [
    "# 이항분포 (binomial)\n",
    "    # 연속된 n번의 독립적 시행에서 각 시행이 확률 p를 가질 때의 이산 확률 분포이다.\n",
    "    # 이런 시행은 베르누이 시행이라고 불리기도 한다.\n",
    "        # 베르누이 분포\n",
    "            # 확률론과 통계학에서 매 시행마다 오직 두 가지의 가능한 결과만 일어난다고 할 때, \n",
    "            # 이러한 실험을 1회 시행하여 일어난 두 가지 결과에 의해 그 값이 각각 0과 1로 결정되는 확률변수 X에 대해서\n",
    "            # P(X=0) = p, P(X=1) = q, 0 <= p <= 1, q = 1-p\n",
    "            # 를 만족하는 확률변수 X가 따르는 확률분포를 의미하며, \n",
    "            # 이항 분포의 특수한 사례에 속한다.\n",
    "    # 사실, n = 1 일때 이항 분포는 베르누이 분포이다."
   ]
  },
  {
   "cell_type": "code",
   "execution_count": 9,
   "metadata": {},
   "outputs": [
    {
     "name": "stdout",
     "output_type": "stream",
     "text": [
      "1\n"
     ]
    }
   ],
   "source": [
    "# 0.5의 확률로 1번 시도했을 경우\n",
    "# 성공한 횟수를 나타냄 (binomial distribution)\n",
    "binom = np.random.binomial(1, 0.5)\n",
    "print(binom)"
   ]
  },
  {
   "cell_type": "code",
   "execution_count": 11,
   "metadata": {},
   "outputs": [
    {
     "name": "stdout",
     "output_type": "stream",
     "text": [
      "0.511\n"
     ]
    }
   ],
   "source": [
    "# 0.5의 확률로 1000번 시도해서 성공한 비율 \n",
    "binom_possible = np.random.binomial(1000, 0.5) / 1000\n",
    "print(binom_possible)"
   ]
  },
  {
   "cell_type": "code",
   "execution_count": 13,
   "metadata": {},
   "outputs": [
    {
     "name": "stdout",
     "output_type": "stream",
     "text": [
      "0.06246423509225185\n"
     ]
    }
   ],
   "source": [
    "# 0~1 사이의 값 중 하나를 반환\n",
    "uniform = np.random.uniform(0,1)\n",
    "print(uniform)"
   ]
  },
  {
   "cell_type": "code",
   "execution_count": 15,
   "metadata": {},
   "outputs": [
    {
     "name": "stdout",
     "output_type": "stream",
     "text": [
      "0.951352742031481\n"
     ]
    }
   ],
   "source": [
    "# normal distribution의 값 중 하나를 반환\n",
    "norm = np.random.normal(0)\n",
    "print(norm)"
   ]
  },
  {
   "cell_type": "code",
   "execution_count": 18,
   "metadata": {},
   "outputs": [
    {
     "name": "stdout",
     "output_type": "stream",
     "text": [
      "[ 1.33287061  0.67928638  0.69990459  0.17894819 -0.14587712]\n",
      "0.9819380253922925\n"
     ]
    }
   ],
   "source": [
    "# means = 0.75인 normal distribution의 표본 1000개를 뽑고\n",
    "# 그 표본의 표준편차를 구함\n",
    "distri = np.random.normal(0.75, size = 1000)\n",
    "np_std = np.std(distri)\n",
    "print(distri[:5])\n",
    "print(np_std)"
   ]
  },
  {
   "cell_type": "code",
   "execution_count": 23,
   "metadata": {},
   "outputs": [],
   "source": [
    "import scipy.stats as stats"
   ]
  },
  {
   "cell_type": "code",
   "execution_count": null,
   "metadata": {},
   "outputs": [],
   "source": [
    "# 왜도(Skewenss)와 첨도(Kurtosis)\n",
    "    # 왜도는 분포의 비대칭도를 나타내는 통계량.\n",
    "    # 정규분포, T분포와 같이 대칭인 분포의 경우 왜도 = 0\n",
    "    # 카이제곱분포와 같이 오른쪽으로 긴 꼬리를 가진 경우 왜도는 양수.\n",
    "    # 왼쪽으로 긴 꼬리를 가지면 왜도는 음수.\n",
    "    # 한 쪽 꼬리 부분에 보다 많은 확률값이 분포할 수록, 즉, 비대칭도가 커질수록 왜도의 절대값 증가\n",
    "    \n",
    "    # 첨도는 분포의 꼬리부분의 길이와 중앙부분의 뾰족함에 대한 정보를 제공하는 통계량.\n",
    "    # 정규분포는 첨도가 0이다.\n",
    "    # 정규분포 처럼 첨도가 0인 경우 Mesokurtic\n",
    "    \n",
    "    # 첨도가 0보다 크면 정규분포보다 긴 꼬리, 분포가 보다 중앙부분에 덜 집중되게 되므로 중앙부분이 뾰족한 모양을 가짐.\n",
    "    # T 분포는 정규분포보다 더 긴 꼬리를 가지므로 첨도가 0보다 크다.\n",
    "    # 0 보다 큰 첨도의 경우 Leptokurtic\n",
    "    \n",
    "    # 첨도가 0보다 작으면, 정규분포보다 짧은 꼬리를 갖고 분포가 중앙부분에 더 집중되어 중앙부분이 보다 완만한 모양.\n",
    "    # 0 보다 작은 첨도의 경우 Platykurtic"
   ]
  },
  {
   "cell_type": "code",
   "execution_count": 22,
   "metadata": {},
   "outputs": [
    {
     "name": "stdout",
     "output_type": "stream",
     "text": [
      "0.07210853728299638\n"
     ]
    }
   ],
   "source": [
    "# 첨도를 계산\n",
    "kurto = stats.kurtosis(distri)\n",
    "print(kurto)"
   ]
  },
  {
   "cell_type": "code",
   "execution_count": 25,
   "metadata": {},
   "outputs": [
    {
     "name": "stdout",
     "output_type": "stream",
     "text": [
      "-0.0066529054453059585\n"
     ]
    }
   ],
   "source": [
    "# 쳐짐을 계산\n",
    "skew = stats.skew(distri)\n",
    "print(skew)"
   ]
  },
  {
   "cell_type": "code",
   "execution_count": 29,
   "metadata": {},
   "outputs": [
    {
     "name": "stdout",
     "output_type": "stream",
     "text": [
      "2.0652807474538903\n"
     ]
    }
   ],
   "source": [
    "chi_squared_df2 = np.random.chisquare(2, size = 10000)\n",
    "skew = stats.skew(chi_squared_df2)\n",
    "print(skew)"
   ]
  },
  {
   "cell_type": "code",
   "execution_count": 31,
   "metadata": {},
   "outputs": [
    {
     "name": "stdout",
     "output_type": "stream",
     "text": [
      "1.2573774773638149\n"
     ]
    }
   ],
   "source": [
    "chi_squared_df5 = np.random.chisquare(5, size = 10000)\n",
    "skew = stats.skew(chi_squared_df5)\n",
    "print(skew)"
   ]
  },
  {
   "cell_type": "markdown",
   "metadata": {},
   "source": [
    "# Refered by https://engkimbs.tistory.com/ "
   ]
  }
 ],
 "metadata": {
  "kernelspec": {
   "display_name": "Python 3",
   "language": "python",
   "name": "python3"
  },
  "language_info": {
   "codemirror_mode": {
    "name": "ipython",
    "version": 3
   },
   "file_extension": ".py",
   "mimetype": "text/x-python",
   "name": "python",
   "nbconvert_exporter": "python",
   "pygments_lexer": "ipython3",
   "version": "3.6.8"
  }
 },
 "nbformat": 4,
 "nbformat_minor": 4
}
