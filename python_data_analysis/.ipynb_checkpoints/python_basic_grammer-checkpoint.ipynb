{
 "cells": [
  {
   "cell_type": "code",
   "execution_count": 1,
   "metadata": {},
   "outputs": [
    {
     "data": {
      "text/plain": [
       "22"
      ]
     },
     "execution_count": 1,
     "metadata": {},
     "output_type": "execute_result"
    }
   ],
   "source": [
    "# 2, 16, 10 진밥\n",
    "# Ob xxxxx -> 2진법\n",
    "# Oc xxxxx -> 16진법\n",
    "# Ox xxxxx -> 10진법\n",
    "\n",
    "# bin(8)\n",
    "# 'ob1000'\n",
    "\n",
    "# hex(10)\n",
    "# '0xa'\n",
    "\n",
    "# oct(10)\n",
    "# 0o12\n",
    "\n",
    "# math module\n",
    "import math\n",
    "\n",
    "math.pi # 3.141592653589793\n",
    "math.e # 2.718281828459045\n",
    "\n",
    "abs(-11) # 절대값\n",
    "round(11.22) # 반올림\n",
    "math.trunc(22.11) # 내림"
   ]
  },
  {
   "cell_type": "code",
   "execution_count": 8,
   "metadata": {},
   "outputs": [
    {
     "name": "stdout",
     "output_type": "stream",
     "text": [
      "'어서와' ㅁㅇ adad\n",
      "'안녕' ㅁㅇ adad\n"
     ]
    },
    {
     "data": {
      "text/plain": [
       "True"
      ]
     },
     "execution_count": 8,
     "metadata": {},
     "output_type": "execute_result"
    }
   ],
   "source": [
    "a = 'hello world'\n",
    "b = '헬로 월드'\n",
    "print(\"'어서와'\", 'ㅁㅇ', 'adad')\n",
    "print(\"'안녕'\", \"ㅁㅇ\", \"adad\")\n",
    "\n",
    "s = 'Good Morning'\n",
    "s[0]\n",
    "s[0:7:2] # 0~6 index의 character, index 간격 2\n",
    "s[0:-2] # 0~ 뒤에서부터 2번째 index까지\n",
    "s[-1::-1] # 역순\n",
    "\n",
    "'Good' in s # string search\n",
    "len(s) # string length\n",
    "s.startswith('Good')"
   ]
  },
  {
   "cell_type": "code",
   "execution_count": 5,
   "metadata": {},
   "outputs": [
    {
     "data": {
      "text/plain": [
       "'Strip'"
      ]
     },
     "execution_count": 5,
     "metadata": {},
     "output_type": "execute_result"
    }
   ],
   "source": [
    "# character 위치 찾기 - rfind는 뒤에서부터, find는 앞서부터\n",
    "a.find('M') # 없을때\n",
    "a.find('h') # 있을때\n",
    "a.rfind('o') # 여러개 있을때\n",
    "a.find('o') # 여러개 있을때\n",
    "\n",
    "a.count('1') # 등장 횟수 검색\n",
    "' Left Strip '.lstrip() # 왼 공백 제거\n",
    "' Right Strip '.rstrip() # 오른 공백 제거\n",
    "' Strip '.strip() # 양 공백 제거"
   ]
  },
  {
   "cell_type": "code",
   "execution_count": 10,
   "metadata": {},
   "outputs": [
    {
     "name": "stdout",
     "output_type": "stream",
     "text": [
      "Hello World\n"
     ]
    }
   ],
   "source": [
    "# list, format\n",
    "a = 'Apple, Orange, Kiwi'\n",
    "b = a.split(',')\n",
    "type(b)\n",
    "type(b[0])\n",
    "b[0][0]\n",
    "\n",
    "print(\"Hello %s\"%\"World\")"
   ]
  },
  {
   "cell_type": "code",
   "execution_count": null,
   "metadata": {},
   "outputs": [],
   "source": [
    "## format, input\n",
    "a = 'My name is {0}. I am {1} years old'.format('Mario', 40)\n",
    "a\n",
    "a = input()\n",
    "b = input()\n",
    "result = int(a) * int(b)\n",
    "print(\"{0} * {1} = {2}\".format(a,b,result))"
   ]
  },
  {
   "cell_type": "code",
   "execution_count": null,
   "metadata": {},
   "outputs": [],
   "source": []
  },
  {
   "cell_type": "code",
   "execution_count": null,
   "metadata": {},
   "outputs": [],
   "source": []
  },
  {
   "cell_type": "markdown",
   "metadata": {},
   "source": [
    "# refered by https://yamalab.tistory.com"
   ]
  }
 ],
 "metadata": {
  "kernelspec": {
   "display_name": "Python 3",
   "language": "python",
   "name": "python3"
  },
  "language_info": {
   "codemirror_mode": {
    "name": "ipython",
    "version": 3
   },
   "file_extension": ".py",
   "mimetype": "text/x-python",
   "name": "python",
   "nbconvert_exporter": "python",
   "pygments_lexer": "ipython3",
   "version": "3.6.8"
  }
 },
 "nbformat": 4,
 "nbformat_minor": 4
}
