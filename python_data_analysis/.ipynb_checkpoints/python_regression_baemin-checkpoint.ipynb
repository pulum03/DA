{
 "cells": [
  {
   "cell_type": "markdown",
   "metadata": {},
   "source": [
    "# # 배달거리, 배달시간 \n",
    "[100m, 20min] \n",
    "[150m, 24min]\n",
    "[300m, 36min]\n",
    "[400m, 47min]\n",
    "[130m, 22min]\n",
    "[240m, 32min]\n",
    "[350m, 47min]\n",
    "[200m, 42min]\n",
    "[100m, 21min]\n",
    "[110m, 21min]\n",
    "[190m, 30min]\n",
    "[120m, 25min]\n",
    "[130m, 18min]\n",
    "[270m, 38min]\n",
    "[255m, 28min]"
   ]
  },
  {
   "cell_type": "code",
   "execution_count": 9,
   "metadata": {},
   "outputs": [
    {
     "data": {
      "image/png": "[encoded data removed]",
      "text/plain": [
       "<Figure size 432x288 with 1 Axes>"
      ]
     },
     "metadata": {
      "needs_background": "light"
     },
     "output_type": "display_data"
    }
   ],
   "source": [
    "%matplotlib inline\n",
    "import numpy as np\n",
    "from matplotlib import pyplot as plt\n",
    "\n",
    "data = np.array([\n",
    "        [100, 20], \n",
    "\t\t[150, 24], \n",
    "\t\t[300, 36], \n",
    "\t\t[400, 47], \n",
    "\t\t[130, 22], \n",
    "\t\t[240, 32],\n",
    "\t\t[350, 47], \n",
    "\t\t[200, 42], \n",
    "\t\t[100, 21], \n",
    "\t\t[110, 21], \n",
    "\t\t[190, 30], \n",
    "\t\t[120, 25], \n",
    "\t\t[130, 18], \n",
    "\t\t[270, 38], \n",
    "\t\t[255, 28] \n",
    "])\n",
    "\n",
    "plt.scatter(data[:, 0], data[:, 1])\n",
    "plt.title('Time / Distance')\n",
    "plt.xlabel('Delivery Distance (meter)')\n",
    "plt.ylabel('Time Consumed (min)')\n",
    "plt.axis([0,420,0,50])\n",
    "plt.show()"
   ]
  },
  {
   "cell_type": "code",
   "execution_count": 11,
   "metadata": {},
   "outputs": [],
   "source": [
    "def qr_householder(A):\n",
    "    m, n = A.shape\n",
    "    Q = np.eye(m) # Orthogonal transfomr so far\n",
    "    R = A.copy() # Transformed matrix so far\n",
    "    \n",
    "    for j in range(n):\n",
    "        # Find H = I - beta*u*u' to put zeros below R[j,j]\n",
    "        x = R[j:, j]\n",
    "        normx = np.linalg.norm(x)\n",
    "        rho = -np.sign(x[0])\n",
    "        u1 = x[0] - rho * normx\n",
    "        u = x / u1\n",
    "        u[0] = 1\n",
    "        beta = -rho * u1 / normx\n",
    "        \n",
    "        R[j:, :] = R[j:, :] - beta * np.outer(u,u).dot(R[j:, :])\n",
    "        Q[:, j:] = Q[:, j:] - beta * Q[:, j:].dot(np.outer(u,u))\n",
    "        \n",
    "    return Q,R"
   ]
  },
  {
   "cell_type": "code",
   "execution_count": null,
   "metadata": {},
   "outputs": [],
   "source": [
    "m, n = data.shape\n",
    "#print(m,n)\n",
    "A = np.array([data[:, 0], np.ones(m)]).T\n",
    "#print(A)\n",
    "b = data[:,1]\n",
    "#print(b)\n",
    "\n",
    "Q, R = qr_householder(A)\n",
    "#print(Q,R)\n",
    "b_hat = Q.T.dot(b)\n",
    "\n",
    "R_upper = R[:n, :]\n",
    "b_upper = b_hat[:n]\n",
    "\n",
    "#print(R_upper, b_upper)\n",
    "\n",
    "x = np.linalg.solve(R_upper, b_upper)\n",
    "slope, intercept = x\n",
    "\n",
    "print(slop, intercept)"
   ]
  },
  {
   "cell_type": "code",
   "execution_count": null,
   "metadata": {},
   "outputs": [],
   "source": []
  },
  {
   "cell_type": "markdown",
   "metadata": {},
   "source": [
    "# refered by http://woowabros.github.io/study/2018/08/01/linear_regression_qr.html"
   ]
  }
 ],
 "metadata": {
  "kernelspec": {
   "display_name": "Python 3",
   "language": "python",
   "name": "python3"
  },
  "language_info": {
   "codemirror_mode": {
    "name": "ipython",
    "version": 3
   },
   "file_extension": ".py",
   "mimetype": "text/x-python",
   "name": "python",
   "nbconvert_exporter": "python",
   "pygments_lexer": "ipython3",
   "version": "3.6.8"
  }
 },
 "nbformat": 4,
 "nbformat_minor": 4
}
