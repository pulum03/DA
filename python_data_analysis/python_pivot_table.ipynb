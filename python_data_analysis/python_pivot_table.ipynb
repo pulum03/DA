{
 "cells": [
  {
   "cell_type": "code",
   "execution_count": 3,
   "metadata": {},
   "outputs": [],
   "source": [
    "import pandas as pd\n",
    "import numpy as np"
   ]
  },
  {
   "cell_type": "code",
   "execution_count": 8,
   "metadata": {},
   "outputs": [
    {
     "name": "stdout",
     "output_type": "stream",
     "text": [
      "   YEAR        Make           Model        Size  (kW) Unnamed: 5 TYPE  \\\n",
      "0  2012  MITSUBISHI          i-MiEV  SUBCOMPACT    49         A1    B   \n",
      "1  2012      NISSAN            LEAF    MID-SIZE    80         A1    B   \n",
      "2  2013        FORD  FOCUS ELECTRIC     COMPACT   107         A1    B   \n",
      "3  2013  MITSUBISHI          i-MiEV  SUBCOMPACT    49         A1    B   \n",
      "4  2013      NISSAN            LEAF    MID-SIZE    80         A1    B   \n",
      "\n",
      "   CITY (kWh/100 km)  HWY (kWh/100 km)  COMB (kWh/100 km)  CITY (Le/100 km)  \\\n",
      "0               16.9              21.4               18.7               1.9   \n",
      "1               19.3              23.0               21.1               2.2   \n",
      "2               19.0              21.1               20.0               2.1   \n",
      "3               16.9              21.4               18.7               1.9   \n",
      "4               19.3              23.0               21.1               2.2   \n",
      "\n",
      "   HWY (Le/100 km)  COMB (Le/100 km)  (g/km)  RATING  (km)  TIME (h)  \n",
      "0              2.4               2.1       0     NaN   100         7  \n",
      "1              2.6               2.4       0     NaN   117         7  \n",
      "2              2.4               2.2       0     NaN   122         4  \n",
      "3              2.4               2.1       0     NaN   100         7  \n",
      "4              2.6               2.4       0     NaN   117         7  \n",
      "\n",
      "Index(['YEAR', 'Make', 'Model', 'Size', '(kW)', 'Unnamed: 5', 'TYPE',\n",
      "       'CITY (kWh/100 km)', 'HWY (kWh/100 km)', 'COMB (kWh/100 km)',\n",
      "       'CITY (Le/100 km)', 'HWY (Le/100 km)', 'COMB (Le/100 km)', '(g/km)',\n",
      "       'RATING', '(km)', 'TIME (h)'],\n",
      "      dtype='object')\n"
     ]
    }
   ],
   "source": [
    "df = pd.read_csv('cars.csv')\n",
    "print(df.head())\n",
    "\n",
    "print('')\n",
    "print(df.columns)\n"
   ]
  },
  {
   "cell_type": "code",
   "execution_count": 11,
   "metadata": {},
   "outputs": [
    {
     "name": "stdout",
     "output_type": "stream",
     "text": [
      "Make    BMW  CHEVROLET   FORD   KIA  MITSUBISHI  NISSAN  SMART       TESLA\n",
      "YEAR                                                                      \n",
      "2012    NaN        NaN    NaN   NaN        49.0    80.0    NaN         NaN\n",
      "2013    NaN        NaN  107.0   NaN        49.0    80.0   35.0  280.000000\n",
      "2014    NaN      104.0  107.0   NaN        49.0    80.0   35.0  268.333333\n",
      "2015  125.0      104.0  107.0  81.0        49.0    80.0   35.0  320.666667\n",
      "2016  125.0      104.0  107.0  81.0        49.0    80.0   35.0  409.700000\n"
     ]
    }
   ],
   "source": [
    "# Year와 Make를 기준으로 (kW) 컬럼의 평균값 구하기\n",
    "# 피벗테이블 : index(행) = YEAR, column(열) = Make\n",
    "pivot = df.pivot_table(values = '(kW)', index = 'YEAR', columns = 'Make', aggfunc=np.mean)\n",
    "print(pivot)"
   ]
  },
  {
   "cell_type": "code",
   "execution_count": 13,
   "metadata": {},
   "outputs": [
    {
     "name": "stdout",
     "output_type": "stream",
     "text": [
      "       mean                                                             \\\n",
      "Make    BMW CHEVROLET   FORD   KIA MITSUBISHI NISSAN SMART       TESLA   \n",
      "YEAR                                                                     \n",
      "2012    NaN       NaN    NaN   NaN       49.0   80.0   NaN         NaN   \n",
      "2013    NaN       NaN  107.0   NaN       49.0   80.0  35.0  280.000000   \n",
      "2014    NaN     104.0  107.0   NaN       49.0   80.0  35.0  268.333333   \n",
      "2015  125.0     104.0  107.0  81.0       49.0   80.0  35.0  320.666667   \n",
      "2016  125.0     104.0  107.0  81.0       49.0   80.0  35.0  409.700000   \n",
      "All   125.0     104.0  107.0  81.0       49.0   80.0  35.0  345.478261   \n",
      "\n",
      "                   amin                                                        \\\n",
      "Make         All    BMW CHEVROLET   FORD   KIA MITSUBISHI NISSAN SMART  TESLA   \n",
      "YEAR                                                                            \n",
      "2012   64.500000    NaN       NaN    NaN   NaN       49.0   80.0   NaN    NaN   \n",
      "2013  158.444444    NaN       NaN  107.0   NaN       49.0   80.0  35.0  270.0   \n",
      "2014  135.000000    NaN     104.0  107.0   NaN       49.0   80.0  35.0  225.0   \n",
      "2015  181.428571  125.0     104.0  107.0  81.0       49.0   80.0  35.0  280.0   \n",
      "2016  252.263158  125.0     104.0  107.0  81.0       49.0   80.0  35.0  283.0   \n",
      "All   190.622642  125.0     104.0  107.0  81.0       49.0   80.0  35.0  225.0   \n",
      "\n",
      "          \n",
      "Make All  \n",
      "YEAR      \n",
      "2012  49  \n",
      "2013  35  \n",
      "2014  35  \n",
      "2015  35  \n",
      "2016  35  \n",
      "All   35  \n"
     ]
    }
   ],
   "source": [
    "# aggfunc는 두 개 이상 적용 가능\n",
    "# margin의 의미는 모든 값을 합산한 값을 보여주는 인덱스를 생성할 지 결정하는 인자.\n",
    "pivot = df.pivot_table(values = '(kW)', index = 'YEAR', columns = 'Make', aggfunc = [np.mean, np.min], margins = True)\n",
    "\n",
    "print(pivot)"
   ]
  },
  {
   "cell_type": "markdown",
   "metadata": {},
   "source": [
    "# Refered by https://engkimbs.tistory.com/ "
   ]
  }
 ],
 "metadata": {
  "kernelspec": {
   "display_name": "Python 3",
   "language": "python",
   "name": "python3"
  },
  "language_info": {
   "codemirror_mode": {
    "name": "ipython",
    "version": 3
   },
   "file_extension": ".py",
   "mimetype": "text/x-python",
   "name": "python",
   "nbconvert_exporter": "python",
   "pygments_lexer": "ipython3",
   "version": "3.6.8"
  }
 },
 "nbformat": 4,
 "nbformat_minor": 4
}
